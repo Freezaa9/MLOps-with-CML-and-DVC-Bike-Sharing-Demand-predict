{
 "cells": [
  {
   "cell_type": "markdown",
   "metadata": {},
   "source": [
    "# Projet velo Data Mining - Geoffrey HARRAZI"
   ]
  },
  {
   "cell_type": "markdown",
   "metadata": {},
   "source": [
    "Le projet consiste à prévoir le nombre de vélos loués à chaque heure dans des bornes libres-services de la ville (système type Vélib'). La variable cible est ici la variable **count**.\n",
    "\n",
    "Voici un descriptif de l'ensemble des variables :\n",
    "* *datetime* - date et heure du relevé \n",
    "* *season* - 1 = printemps , 2 = été, 3 = automne, 4 = hiver \n",
    "* *holiday* – indique si le jour est un jour de vacances scolaires \n",
    "* *workingday* - indique si le jour est travaillé (ni week-end ni vacances) \n",
    "* *weather* - 1: Dégagé à nuageux, 2 : Brouillard, 3 : Légère pluie ou neige, 4 : Fortes averses ou neiges \n",
    "* *temp* – température en degrés Celsius \n",
    "* *atemp* – température ressentie en degrés Celsius \n",
    "* *humidity* – taux d’humidité \n",
    "* *windspeed* – vitesse du vent \n",
    "* *casual* - nombre de locations d’usagers non abonnés \n",
    "* *registered* – nombre de locations d’usagers abonnés \n",
    "* *count* – nombre total de locations de vélos "
   ]
  },
  {
   "cell_type": "markdown",
   "metadata": {},
   "source": [
    "L'objectif du projet est de mener à bien la création d'un modèle qui pourrait théoriquement être déployé en production. Les étapes d'exploration des données, de traitement et de preprocessing ne sont bien entendu pas à négliger. Il ne s'agit pas d'une compétition de type *Kaggle*, le projet ne sera pas uniquement noté sur la performance du modèle, mais plutôt sur votre approche complète et la justification de chacun de vos choix.\n",
    "\n",
    "Comme vu durant le cours, soyez faites attention à certains points :\n",
    "- quel type de problème dois-je traiter ?\n",
    "- feature engineering : est-ce que j'utilise les données correctement, toutes les données ?\n",
    "- data leakage : est-ce qu'une de mes features n'est pas trop explicative ?\n",
    "- ai-je bien traité toutes les données correctement ?\n",
    "- est-ce que mon modèle est adapté ?\n",
    "- etc, etc, etc\n",
    "\n",
    "Soyez vigilant à expliquer et justifier votre démarche à l'aide de visualisation, de commentaires dans vos codes (pensez aux cellules markdown), etc"
   ]
  },
  {
   "cell_type": "markdown",
   "metadata": {},
   "source": [
    "# Librairies"
   ]
  },
  {
   "cell_type": "code",
   "execution_count": 1211,
   "metadata": {
    "ExecuteTime": {
     "end_time": "2018-01-23T21:07:13.585997Z",
     "start_time": "2018-01-23T21:07:11.883063Z"
    }
   },
   "outputs": [],
   "source": [
    "#Import des librairies utilisés\n",
    "import pandas as pd\n",
    "import numpy as np\n",
    "\n",
    "import matplotlib.pyplot as plt\n",
    "import seaborn as sns\n",
    "\n",
    "#import statsmodels.formula.api as sm\n",
    "import statsmodels.api as sm\n",
    "\n",
    "from IPython.display import Image\n",
    "from IPython.core.display import HTML \n",
    "%matplotlib inline"
   ]
  },
  {
   "cell_type": "code",
   "execution_count": 1212,
   "metadata": {},
   "outputs": [],
   "source": [
    "#Import 2 \n",
    "from scipy import stats\n",
    "\n",
    "from sklearn import neighbors, datasets, preprocessing\n",
    "from sklearn.model_selection import train_test_split\n",
    "from sklearn.preprocessing import Normalizer\n",
    "from sklearn.preprocessing import StandardScaler\n",
    "\n",
    "\n",
    "#metrics\n",
    "from sklearn.metrics import mean_squared_error\n",
    "from sklearn.metrics import accuracy_score\n",
    "from sklearn.metrics import r2_score\n",
    "from sklearn.metrics import mean_squared_log_error\n",
    "\n",
    "#models\n",
    "from sklearn import model_selection\n",
    "from sklearn.linear_model import LinearRegression\n",
    "from sklearn.linear_model import Ridge\n",
    "from sklearn.linear_model import Lasso\n",
    "from sklearn.linear_model import LassoCV\n",
    "from sklearn.linear_model import ElasticNet\n",
    "\n",
    "\n",
    "#model selection\n",
    "from sklearn.model_selection import train_test_split,cross_validate\n",
    "from sklearn.model_selection import KFold\n",
    "from sklearn.model_selection import GridSearchCV\n",
    "from sklearn.model_selection import StratifiedKFold\n",
    "from sklearn.model_selection import RandomizedSearchCV\n",
    "\n",
    "sns.set_style(style = 'whitegrid')"
   ]
  },
  {
   "cell_type": "code",
   "execution_count": 1213,
   "metadata": {},
   "outputs": [],
   "source": [
    "import pycaret\n",
    "from pycaret.regression import *"
   ]
  },
  {
   "cell_type": "markdown",
   "metadata": {},
   "source": [
    "# Premier contact et mise en forme"
   ]
  },
  {
   "cell_type": "markdown",
   "metadata": {},
   "source": [
    "Première contact avec les données. J'en affiche des extraits, j'en regarde le nombre d'entrée et de paramètres.\n",
    "Et je met en forme le DataFrame"
   ]
  },
  {
   "cell_type": "code",
   "execution_count": 1214,
   "metadata": {
    "ExecuteTime": {
     "end_time": "2018-01-23T21:08:16.102718Z",
     "start_time": "2018-01-23T21:08:16.035614Z"
    },
    "scrolled": true
   },
   "outputs": [
    {
     "data": {
      "text/html": [
       "<div>\n",
       "<style scoped>\n",
       "    .dataframe tbody tr th:only-of-type {\n",
       "        vertical-align: middle;\n",
       "    }\n",
       "\n",
       "    .dataframe tbody tr th {\n",
       "        vertical-align: top;\n",
       "    }\n",
       "\n",
       "    .dataframe thead th {\n",
       "        text-align: right;\n",
       "    }\n",
       "</style>\n",
       "<table border=\"1\" class=\"dataframe\">\n",
       "  <thead>\n",
       "    <tr style=\"text-align: right;\">\n",
       "      <th></th>\n",
       "      <th>datetime</th>\n",
       "      <th>season</th>\n",
       "      <th>holiday</th>\n",
       "      <th>workingday</th>\n",
       "      <th>weather</th>\n",
       "      <th>temp</th>\n",
       "      <th>atemp</th>\n",
       "      <th>humidity</th>\n",
       "      <th>windspeed</th>\n",
       "      <th>casual</th>\n",
       "      <th>registered</th>\n",
       "      <th>count</th>\n",
       "    </tr>\n",
       "  </thead>\n",
       "  <tbody>\n",
       "    <tr>\n",
       "      <th>0</th>\n",
       "      <td>2011-01-01 00:00:00</td>\n",
       "      <td>1</td>\n",
       "      <td>0</td>\n",
       "      <td>0</td>\n",
       "      <td>1</td>\n",
       "      <td>9.84</td>\n",
       "      <td>14.395</td>\n",
       "      <td>81</td>\n",
       "      <td>0.0</td>\n",
       "      <td>3</td>\n",
       "      <td>13</td>\n",
       "      <td>16</td>\n",
       "    </tr>\n",
       "    <tr>\n",
       "      <th>1</th>\n",
       "      <td>2011-01-01 01:00:00</td>\n",
       "      <td>1</td>\n",
       "      <td>0</td>\n",
       "      <td>0</td>\n",
       "      <td>1</td>\n",
       "      <td>9.02</td>\n",
       "      <td>13.635</td>\n",
       "      <td>80</td>\n",
       "      <td>0.0</td>\n",
       "      <td>8</td>\n",
       "      <td>32</td>\n",
       "      <td>40</td>\n",
       "    </tr>\n",
       "    <tr>\n",
       "      <th>2</th>\n",
       "      <td>2011-01-01 02:00:00</td>\n",
       "      <td>1</td>\n",
       "      <td>0</td>\n",
       "      <td>0</td>\n",
       "      <td>1</td>\n",
       "      <td>9.02</td>\n",
       "      <td>13.635</td>\n",
       "      <td>80</td>\n",
       "      <td>0.0</td>\n",
       "      <td>5</td>\n",
       "      <td>27</td>\n",
       "      <td>32</td>\n",
       "    </tr>\n",
       "    <tr>\n",
       "      <th>3</th>\n",
       "      <td>2011-01-01 03:00:00</td>\n",
       "      <td>1</td>\n",
       "      <td>0</td>\n",
       "      <td>0</td>\n",
       "      <td>1</td>\n",
       "      <td>9.84</td>\n",
       "      <td>14.395</td>\n",
       "      <td>75</td>\n",
       "      <td>0.0</td>\n",
       "      <td>3</td>\n",
       "      <td>10</td>\n",
       "      <td>13</td>\n",
       "    </tr>\n",
       "    <tr>\n",
       "      <th>4</th>\n",
       "      <td>2011-01-01 04:00:00</td>\n",
       "      <td>1</td>\n",
       "      <td>0</td>\n",
       "      <td>0</td>\n",
       "      <td>1</td>\n",
       "      <td>9.84</td>\n",
       "      <td>14.395</td>\n",
       "      <td>75</td>\n",
       "      <td>0.0</td>\n",
       "      <td>0</td>\n",
       "      <td>1</td>\n",
       "      <td>1</td>\n",
       "    </tr>\n",
       "  </tbody>\n",
       "</table>\n",
       "</div>"
      ],
      "text/plain": [
       "              datetime  season  holiday  workingday  weather  temp   atemp  \\\n",
       "0  2011-01-01 00:00:00       1        0           0        1  9.84  14.395   \n",
       "1  2011-01-01 01:00:00       1        0           0        1  9.02  13.635   \n",
       "2  2011-01-01 02:00:00       1        0           0        1  9.02  13.635   \n",
       "3  2011-01-01 03:00:00       1        0           0        1  9.84  14.395   \n",
       "4  2011-01-01 04:00:00       1        0           0        1  9.84  14.395   \n",
       "\n",
       "   humidity  windspeed  casual  registered  count  \n",
       "0        81        0.0       3          13     16  \n",
       "1        80        0.0       8          32     40  \n",
       "2        80        0.0       5          27     32  \n",
       "3        75        0.0       3          10     13  \n",
       "4        75        0.0       0           1      1  "
      ]
     },
     "execution_count": 1214,
     "metadata": {},
     "output_type": "execute_result"
    }
   ],
   "source": [
    "df = pd.read_csv(\"../data/input/velo.csv\")\n",
    "df.head()"
   ]
  },
  {
   "cell_type": "code",
   "execution_count": 1215,
   "metadata": {},
   "outputs": [
    {
     "data": {
      "text/plain": [
       "(10886, 12)"
      ]
     },
     "execution_count": 1215,
     "metadata": {},
     "output_type": "execute_result"
    }
   ],
   "source": [
    "nrow, ncol = df.shape\n",
    "df.shape"
   ]
  },
  {
   "cell_type": "code",
   "execution_count": 1216,
   "metadata": {},
   "outputs": [
    {
     "data": {
      "text/html": [
       "<div>\n",
       "<style scoped>\n",
       "    .dataframe tbody tr th:only-of-type {\n",
       "        vertical-align: middle;\n",
       "    }\n",
       "\n",
       "    .dataframe tbody tr th {\n",
       "        vertical-align: top;\n",
       "    }\n",
       "\n",
       "    .dataframe thead th {\n",
       "        text-align: right;\n",
       "    }\n",
       "</style>\n",
       "<table border=\"1\" class=\"dataframe\">\n",
       "  <thead>\n",
       "    <tr style=\"text-align: right;\">\n",
       "      <th></th>\n",
       "      <th>datetime</th>\n",
       "      <th>season</th>\n",
       "      <th>holiday</th>\n",
       "      <th>workingday</th>\n",
       "      <th>weather</th>\n",
       "      <th>temp</th>\n",
       "      <th>atemp</th>\n",
       "      <th>humidity</th>\n",
       "      <th>windspeed</th>\n",
       "      <th>casual</th>\n",
       "      <th>registered</th>\n",
       "      <th>count</th>\n",
       "    </tr>\n",
       "  </thead>\n",
       "  <tbody>\n",
       "    <tr>\n",
       "      <th>count</th>\n",
       "      <td>10886</td>\n",
       "      <td>10886.000000</td>\n",
       "      <td>10886.000000</td>\n",
       "      <td>10886.000000</td>\n",
       "      <td>10886.000000</td>\n",
       "      <td>10886.00000</td>\n",
       "      <td>10886.000000</td>\n",
       "      <td>10886.000000</td>\n",
       "      <td>10886.000000</td>\n",
       "      <td>10886.000000</td>\n",
       "      <td>10886.000000</td>\n",
       "      <td>10886.000000</td>\n",
       "    </tr>\n",
       "    <tr>\n",
       "      <th>unique</th>\n",
       "      <td>10886</td>\n",
       "      <td>NaN</td>\n",
       "      <td>NaN</td>\n",
       "      <td>NaN</td>\n",
       "      <td>NaN</td>\n",
       "      <td>NaN</td>\n",
       "      <td>NaN</td>\n",
       "      <td>NaN</td>\n",
       "      <td>NaN</td>\n",
       "      <td>NaN</td>\n",
       "      <td>NaN</td>\n",
       "      <td>NaN</td>\n",
       "    </tr>\n",
       "    <tr>\n",
       "      <th>top</th>\n",
       "      <td>2012-07-17 09:00:00</td>\n",
       "      <td>NaN</td>\n",
       "      <td>NaN</td>\n",
       "      <td>NaN</td>\n",
       "      <td>NaN</td>\n",
       "      <td>NaN</td>\n",
       "      <td>NaN</td>\n",
       "      <td>NaN</td>\n",
       "      <td>NaN</td>\n",
       "      <td>NaN</td>\n",
       "      <td>NaN</td>\n",
       "      <td>NaN</td>\n",
       "    </tr>\n",
       "    <tr>\n",
       "      <th>freq</th>\n",
       "      <td>1</td>\n",
       "      <td>NaN</td>\n",
       "      <td>NaN</td>\n",
       "      <td>NaN</td>\n",
       "      <td>NaN</td>\n",
       "      <td>NaN</td>\n",
       "      <td>NaN</td>\n",
       "      <td>NaN</td>\n",
       "      <td>NaN</td>\n",
       "      <td>NaN</td>\n",
       "      <td>NaN</td>\n",
       "      <td>NaN</td>\n",
       "    </tr>\n",
       "    <tr>\n",
       "      <th>mean</th>\n",
       "      <td>NaN</td>\n",
       "      <td>2.506614</td>\n",
       "      <td>0.028569</td>\n",
       "      <td>0.680875</td>\n",
       "      <td>1.418427</td>\n",
       "      <td>20.23086</td>\n",
       "      <td>23.655084</td>\n",
       "      <td>61.886460</td>\n",
       "      <td>12.799395</td>\n",
       "      <td>36.021955</td>\n",
       "      <td>155.552177</td>\n",
       "      <td>191.574132</td>\n",
       "    </tr>\n",
       "    <tr>\n",
       "      <th>std</th>\n",
       "      <td>NaN</td>\n",
       "      <td>1.116174</td>\n",
       "      <td>0.166599</td>\n",
       "      <td>0.466159</td>\n",
       "      <td>0.633839</td>\n",
       "      <td>7.79159</td>\n",
       "      <td>8.474601</td>\n",
       "      <td>19.245033</td>\n",
       "      <td>8.164537</td>\n",
       "      <td>49.960477</td>\n",
       "      <td>151.039033</td>\n",
       "      <td>181.144454</td>\n",
       "    </tr>\n",
       "    <tr>\n",
       "      <th>min</th>\n",
       "      <td>NaN</td>\n",
       "      <td>1.000000</td>\n",
       "      <td>0.000000</td>\n",
       "      <td>0.000000</td>\n",
       "      <td>1.000000</td>\n",
       "      <td>0.82000</td>\n",
       "      <td>0.760000</td>\n",
       "      <td>0.000000</td>\n",
       "      <td>0.000000</td>\n",
       "      <td>0.000000</td>\n",
       "      <td>0.000000</td>\n",
       "      <td>1.000000</td>\n",
       "    </tr>\n",
       "    <tr>\n",
       "      <th>25%</th>\n",
       "      <td>NaN</td>\n",
       "      <td>2.000000</td>\n",
       "      <td>0.000000</td>\n",
       "      <td>0.000000</td>\n",
       "      <td>1.000000</td>\n",
       "      <td>13.94000</td>\n",
       "      <td>16.665000</td>\n",
       "      <td>47.000000</td>\n",
       "      <td>7.001500</td>\n",
       "      <td>4.000000</td>\n",
       "      <td>36.000000</td>\n",
       "      <td>42.000000</td>\n",
       "    </tr>\n",
       "    <tr>\n",
       "      <th>50%</th>\n",
       "      <td>NaN</td>\n",
       "      <td>3.000000</td>\n",
       "      <td>0.000000</td>\n",
       "      <td>1.000000</td>\n",
       "      <td>1.000000</td>\n",
       "      <td>20.50000</td>\n",
       "      <td>24.240000</td>\n",
       "      <td>62.000000</td>\n",
       "      <td>12.998000</td>\n",
       "      <td>17.000000</td>\n",
       "      <td>118.000000</td>\n",
       "      <td>145.000000</td>\n",
       "    </tr>\n",
       "    <tr>\n",
       "      <th>75%</th>\n",
       "      <td>NaN</td>\n",
       "      <td>4.000000</td>\n",
       "      <td>0.000000</td>\n",
       "      <td>1.000000</td>\n",
       "      <td>2.000000</td>\n",
       "      <td>26.24000</td>\n",
       "      <td>31.060000</td>\n",
       "      <td>77.000000</td>\n",
       "      <td>16.997900</td>\n",
       "      <td>49.000000</td>\n",
       "      <td>222.000000</td>\n",
       "      <td>284.000000</td>\n",
       "    </tr>\n",
       "    <tr>\n",
       "      <th>max</th>\n",
       "      <td>NaN</td>\n",
       "      <td>4.000000</td>\n",
       "      <td>1.000000</td>\n",
       "      <td>1.000000</td>\n",
       "      <td>4.000000</td>\n",
       "      <td>41.00000</td>\n",
       "      <td>45.455000</td>\n",
       "      <td>100.000000</td>\n",
       "      <td>56.996900</td>\n",
       "      <td>367.000000</td>\n",
       "      <td>886.000000</td>\n",
       "      <td>977.000000</td>\n",
       "    </tr>\n",
       "  </tbody>\n",
       "</table>\n",
       "</div>"
      ],
      "text/plain": [
       "                   datetime        season       holiday    workingday  \\\n",
       "count                 10886  10886.000000  10886.000000  10886.000000   \n",
       "unique                10886           NaN           NaN           NaN   \n",
       "top     2012-07-17 09:00:00           NaN           NaN           NaN   \n",
       "freq                      1           NaN           NaN           NaN   \n",
       "mean                    NaN      2.506614      0.028569      0.680875   \n",
       "std                     NaN      1.116174      0.166599      0.466159   \n",
       "min                     NaN      1.000000      0.000000      0.000000   \n",
       "25%                     NaN      2.000000      0.000000      0.000000   \n",
       "50%                     NaN      3.000000      0.000000      1.000000   \n",
       "75%                     NaN      4.000000      0.000000      1.000000   \n",
       "max                     NaN      4.000000      1.000000      1.000000   \n",
       "\n",
       "             weather         temp         atemp      humidity     windspeed  \\\n",
       "count   10886.000000  10886.00000  10886.000000  10886.000000  10886.000000   \n",
       "unique           NaN          NaN           NaN           NaN           NaN   \n",
       "top              NaN          NaN           NaN           NaN           NaN   \n",
       "freq             NaN          NaN           NaN           NaN           NaN   \n",
       "mean        1.418427     20.23086     23.655084     61.886460     12.799395   \n",
       "std         0.633839      7.79159      8.474601     19.245033      8.164537   \n",
       "min         1.000000      0.82000      0.760000      0.000000      0.000000   \n",
       "25%         1.000000     13.94000     16.665000     47.000000      7.001500   \n",
       "50%         1.000000     20.50000     24.240000     62.000000     12.998000   \n",
       "75%         2.000000     26.24000     31.060000     77.000000     16.997900   \n",
       "max         4.000000     41.00000     45.455000    100.000000     56.996900   \n",
       "\n",
       "              casual    registered         count  \n",
       "count   10886.000000  10886.000000  10886.000000  \n",
       "unique           NaN           NaN           NaN  \n",
       "top              NaN           NaN           NaN  \n",
       "freq             NaN           NaN           NaN  \n",
       "mean       36.021955    155.552177    191.574132  \n",
       "std        49.960477    151.039033    181.144454  \n",
       "min         0.000000      0.000000      1.000000  \n",
       "25%         4.000000     36.000000     42.000000  \n",
       "50%        17.000000    118.000000    145.000000  \n",
       "75%        49.000000    222.000000    284.000000  \n",
       "max       367.000000    886.000000    977.000000  "
      ]
     },
     "execution_count": 1216,
     "metadata": {},
     "output_type": "execute_result"
    }
   ],
   "source": [
    "df.describe(include='all')"
   ]
  },
  {
   "cell_type": "markdown",
   "metadata": {},
   "source": [
    "On constate que casual + registered = count\n",
    "Il est évident que c'est donnée ne doivent pas servir au traning\n"
   ]
  },
  {
   "cell_type": "code",
   "execution_count": 1217,
   "metadata": {},
   "outputs": [
    {
     "data": {
      "text/html": [
       "<div>\n",
       "<style scoped>\n",
       "    .dataframe tbody tr th:only-of-type {\n",
       "        vertical-align: middle;\n",
       "    }\n",
       "\n",
       "    .dataframe tbody tr th {\n",
       "        vertical-align: top;\n",
       "    }\n",
       "\n",
       "    .dataframe thead th {\n",
       "        text-align: right;\n",
       "    }\n",
       "</style>\n",
       "<table border=\"1\" class=\"dataframe\">\n",
       "  <thead>\n",
       "    <tr style=\"text-align: right;\">\n",
       "      <th></th>\n",
       "      <th>datetime</th>\n",
       "      <th>season</th>\n",
       "      <th>holiday</th>\n",
       "      <th>workingday</th>\n",
       "      <th>weather</th>\n",
       "      <th>temp</th>\n",
       "      <th>atemp</th>\n",
       "      <th>humidity</th>\n",
       "      <th>windspeed</th>\n",
       "      <th>count</th>\n",
       "    </tr>\n",
       "  </thead>\n",
       "  <tbody>\n",
       "    <tr>\n",
       "      <th>0</th>\n",
       "      <td>2011-01-01 00:00:00</td>\n",
       "      <td>1</td>\n",
       "      <td>0</td>\n",
       "      <td>0</td>\n",
       "      <td>1</td>\n",
       "      <td>9.84</td>\n",
       "      <td>14.395</td>\n",
       "      <td>81</td>\n",
       "      <td>0.0</td>\n",
       "      <td>16</td>\n",
       "    </tr>\n",
       "    <tr>\n",
       "      <th>1</th>\n",
       "      <td>2011-01-01 01:00:00</td>\n",
       "      <td>1</td>\n",
       "      <td>0</td>\n",
       "      <td>0</td>\n",
       "      <td>1</td>\n",
       "      <td>9.02</td>\n",
       "      <td>13.635</td>\n",
       "      <td>80</td>\n",
       "      <td>0.0</td>\n",
       "      <td>40</td>\n",
       "    </tr>\n",
       "    <tr>\n",
       "      <th>2</th>\n",
       "      <td>2011-01-01 02:00:00</td>\n",
       "      <td>1</td>\n",
       "      <td>0</td>\n",
       "      <td>0</td>\n",
       "      <td>1</td>\n",
       "      <td>9.02</td>\n",
       "      <td>13.635</td>\n",
       "      <td>80</td>\n",
       "      <td>0.0</td>\n",
       "      <td>32</td>\n",
       "    </tr>\n",
       "    <tr>\n",
       "      <th>3</th>\n",
       "      <td>2011-01-01 03:00:00</td>\n",
       "      <td>1</td>\n",
       "      <td>0</td>\n",
       "      <td>0</td>\n",
       "      <td>1</td>\n",
       "      <td>9.84</td>\n",
       "      <td>14.395</td>\n",
       "      <td>75</td>\n",
       "      <td>0.0</td>\n",
       "      <td>13</td>\n",
       "    </tr>\n",
       "    <tr>\n",
       "      <th>4</th>\n",
       "      <td>2011-01-01 04:00:00</td>\n",
       "      <td>1</td>\n",
       "      <td>0</td>\n",
       "      <td>0</td>\n",
       "      <td>1</td>\n",
       "      <td>9.84</td>\n",
       "      <td>14.395</td>\n",
       "      <td>75</td>\n",
       "      <td>0.0</td>\n",
       "      <td>1</td>\n",
       "    </tr>\n",
       "  </tbody>\n",
       "</table>\n",
       "</div>"
      ],
      "text/plain": [
       "              datetime  season  holiday  workingday  weather  temp   atemp  \\\n",
       "0  2011-01-01 00:00:00       1        0           0        1  9.84  14.395   \n",
       "1  2011-01-01 01:00:00       1        0           0        1  9.02  13.635   \n",
       "2  2011-01-01 02:00:00       1        0           0        1  9.02  13.635   \n",
       "3  2011-01-01 03:00:00       1        0           0        1  9.84  14.395   \n",
       "4  2011-01-01 04:00:00       1        0           0        1  9.84  14.395   \n",
       "\n",
       "   humidity  windspeed  count  \n",
       "0        81        0.0     16  \n",
       "1        80        0.0     40  \n",
       "2        80        0.0     32  \n",
       "3        75        0.0     13  \n",
       "4        75        0.0      1  "
      ]
     },
     "execution_count": 1217,
     "metadata": {},
     "output_type": "execute_result"
    }
   ],
   "source": [
    "df = df.drop([\"casual\", \"registered\"], axis=1)\n",
    "df.head()"
   ]
  },
  {
   "cell_type": "markdown",
   "metadata": {},
   "source": [
    "On va maintenant affecter le bon type de donée pour chaque paramètres du dataframe"
   ]
  },
  {
   "cell_type": "code",
   "execution_count": 1218,
   "metadata": {},
   "outputs": [
    {
     "data": {
      "text/plain": [
       "datetime       object\n",
       "season          int64\n",
       "holiday         int64\n",
       "workingday      int64\n",
       "weather         int64\n",
       "temp          float64\n",
       "atemp         float64\n",
       "humidity        int64\n",
       "windspeed     float64\n",
       "count           int64\n",
       "dtype: object"
      ]
     },
     "execution_count": 1218,
     "metadata": {},
     "output_type": "execute_result"
    }
   ],
   "source": [
    "df.dtypes"
   ]
  },
  {
   "cell_type": "markdown",
   "metadata": {},
   "source": [
    "On va faire les changements de type suivants (on se base sur le descriptifs des variables disponible et le bon sens):\n",
    "\n",
    "    datetime -> Date\n",
    "    season  -> Catégorie\n",
    "    holiday -> Catégorie\n",
    "    workingday -> Catégorie\n",
    "    weather -> Catégorie"
   ]
  },
  {
   "cell_type": "markdown",
   "metadata": {},
   "source": [
    "Quand on ne sait pas on peut vérifier de cette façon. Si une catégorie n'a pas \"beaucoup\" de valeur différente on peut en déduire que c'est une catégorie"
   ]
  },
  {
   "cell_type": "code",
   "execution_count": 1219,
   "metadata": {},
   "outputs": [
    {
     "name": "stdout",
     "output_type": "stream",
     "text": [
      "datetime has 10886 unique values.\n",
      "season has 4 unique values.\n",
      "holiday has 2 unique values.\n",
      "workingday has 2 unique values.\n",
      "weather has 4 unique values.\n",
      "temp has 49 unique values.\n",
      "atemp has 60 unique values.\n",
      "humidity has 89 unique values.\n",
      "windspeed has 28 unique values.\n",
      "count has 822 unique values.\n"
     ]
    }
   ],
   "source": [
    "for colname, serie in df.iteritems():\n",
    "    print(colname + \" has \" + str(serie.drop_duplicates().shape[0]) + \" unique values.\")"
   ]
  },
  {
   "cell_type": "code",
   "execution_count": 1220,
   "metadata": {},
   "outputs": [],
   "source": [
    "df_no_type = df.copy()\n",
    "df[\"datetime\"] = pd.to_datetime(df[\"datetime\"])\n",
    "df[\"season\"] = pd.Categorical(df[\"season\"], ordered=True)\n",
    "df[\"holiday\"] = pd.Categorical(df[\"holiday\"], ordered=False)\n",
    "df[\"workingday\"] = pd.Categorical(df[\"workingday\"], ordered=False)\n",
    "df[\"weather\"] = pd.Categorical(df[\"weather\"], ordered=False)"
   ]
  },
  {
   "cell_type": "markdown",
   "metadata": {},
   "source": [
    "# Valeurs manquantes"
   ]
  },
  {
   "cell_type": "markdown",
   "metadata": {},
   "source": [
    "On vérifie les changement. On remarque au même moment que le dataset est plutôt propre et qu'on aura pas a gerer les valeurs NULL"
   ]
  },
  {
   "cell_type": "code",
   "execution_count": 1221,
   "metadata": {},
   "outputs": [
    {
     "name": "stdout",
     "output_type": "stream",
     "text": [
      "<class 'pandas.core.frame.DataFrame'>\n",
      "RangeIndex: 10886 entries, 0 to 10885\n",
      "Data columns (total 10 columns):\n",
      " #   Column      Non-Null Count  Dtype         \n",
      "---  ------      --------------  -----         \n",
      " 0   datetime    10886 non-null  datetime64[ns]\n",
      " 1   season      10886 non-null  category      \n",
      " 2   holiday     10886 non-null  category      \n",
      " 3   workingday  10886 non-null  category      \n",
      " 4   weather     10886 non-null  category      \n",
      " 5   temp        10886 non-null  float64       \n",
      " 6   atemp       10886 non-null  float64       \n",
      " 7   humidity    10886 non-null  int64         \n",
      " 8   windspeed   10886 non-null  float64       \n",
      " 9   count       10886 non-null  int64         \n",
      "dtypes: category(4), datetime64[ns](1), float64(3), int64(2)\n",
      "memory usage: 553.5 KB\n"
     ]
    }
   ],
   "source": [
    "df.info()"
   ]
  },
  {
   "cell_type": "code",
   "execution_count": 1222,
   "metadata": {
    "scrolled": true
   },
   "outputs": [
    {
     "data": {
      "text/plain": [
       "datetime      0\n",
       "season        0\n",
       "holiday       0\n",
       "workingday    0\n",
       "weather       0\n",
       "temp          0\n",
       "atemp         0\n",
       "humidity      0\n",
       "windspeed     0\n",
       "count         0\n",
       "dtype: int64"
      ]
     },
     "execution_count": 1222,
     "metadata": {},
     "output_type": "execute_result"
    }
   ],
   "source": [
    "df.isnull().sum()"
   ]
  },
  {
   "cell_type": "markdown",
   "metadata": {},
   "source": [
    "Ducoup on peut maintenant voir les valeur min et max pour datetime par example."
   ]
  },
  {
   "cell_type": "code",
   "execution_count": 1223,
   "metadata": {},
   "outputs": [
    {
     "data": {
      "text/html": [
       "<div>\n",
       "<style scoped>\n",
       "    .dataframe tbody tr th:only-of-type {\n",
       "        vertical-align: middle;\n",
       "    }\n",
       "\n",
       "    .dataframe tbody tr th {\n",
       "        vertical-align: top;\n",
       "    }\n",
       "\n",
       "    .dataframe thead th {\n",
       "        text-align: right;\n",
       "    }\n",
       "</style>\n",
       "<table border=\"1\" class=\"dataframe\">\n",
       "  <thead>\n",
       "    <tr style=\"text-align: right;\">\n",
       "      <th></th>\n",
       "      <th>datetime</th>\n",
       "      <th>season</th>\n",
       "      <th>holiday</th>\n",
       "      <th>workingday</th>\n",
       "      <th>weather</th>\n",
       "      <th>temp</th>\n",
       "      <th>atemp</th>\n",
       "      <th>humidity</th>\n",
       "      <th>windspeed</th>\n",
       "      <th>count</th>\n",
       "    </tr>\n",
       "  </thead>\n",
       "  <tbody>\n",
       "    <tr>\n",
       "      <th>count</th>\n",
       "      <td>10886</td>\n",
       "      <td>10886.0</td>\n",
       "      <td>10886.0</td>\n",
       "      <td>10886.0</td>\n",
       "      <td>10886.0</td>\n",
       "      <td>10886.00000</td>\n",
       "      <td>10886.000000</td>\n",
       "      <td>10886.000000</td>\n",
       "      <td>10886.000000</td>\n",
       "      <td>10886.000000</td>\n",
       "    </tr>\n",
       "    <tr>\n",
       "      <th>unique</th>\n",
       "      <td>10886</td>\n",
       "      <td>4.0</td>\n",
       "      <td>2.0</td>\n",
       "      <td>2.0</td>\n",
       "      <td>4.0</td>\n",
       "      <td>NaN</td>\n",
       "      <td>NaN</td>\n",
       "      <td>NaN</td>\n",
       "      <td>NaN</td>\n",
       "      <td>NaN</td>\n",
       "    </tr>\n",
       "    <tr>\n",
       "      <th>top</th>\n",
       "      <td>2011-06-09 04:00:00</td>\n",
       "      <td>4.0</td>\n",
       "      <td>0.0</td>\n",
       "      <td>1.0</td>\n",
       "      <td>1.0</td>\n",
       "      <td>NaN</td>\n",
       "      <td>NaN</td>\n",
       "      <td>NaN</td>\n",
       "      <td>NaN</td>\n",
       "      <td>NaN</td>\n",
       "    </tr>\n",
       "    <tr>\n",
       "      <th>freq</th>\n",
       "      <td>1</td>\n",
       "      <td>2734.0</td>\n",
       "      <td>10575.0</td>\n",
       "      <td>7412.0</td>\n",
       "      <td>7192.0</td>\n",
       "      <td>NaN</td>\n",
       "      <td>NaN</td>\n",
       "      <td>NaN</td>\n",
       "      <td>NaN</td>\n",
       "      <td>NaN</td>\n",
       "    </tr>\n",
       "    <tr>\n",
       "      <th>first</th>\n",
       "      <td>2011-01-01 00:00:00</td>\n",
       "      <td>NaN</td>\n",
       "      <td>NaN</td>\n",
       "      <td>NaN</td>\n",
       "      <td>NaN</td>\n",
       "      <td>NaN</td>\n",
       "      <td>NaN</td>\n",
       "      <td>NaN</td>\n",
       "      <td>NaN</td>\n",
       "      <td>NaN</td>\n",
       "    </tr>\n",
       "    <tr>\n",
       "      <th>last</th>\n",
       "      <td>2012-12-19 23:00:00</td>\n",
       "      <td>NaN</td>\n",
       "      <td>NaN</td>\n",
       "      <td>NaN</td>\n",
       "      <td>NaN</td>\n",
       "      <td>NaN</td>\n",
       "      <td>NaN</td>\n",
       "      <td>NaN</td>\n",
       "      <td>NaN</td>\n",
       "      <td>NaN</td>\n",
       "    </tr>\n",
       "    <tr>\n",
       "      <th>mean</th>\n",
       "      <td>NaN</td>\n",
       "      <td>NaN</td>\n",
       "      <td>NaN</td>\n",
       "      <td>NaN</td>\n",
       "      <td>NaN</td>\n",
       "      <td>20.23086</td>\n",
       "      <td>23.655084</td>\n",
       "      <td>61.886460</td>\n",
       "      <td>12.799395</td>\n",
       "      <td>191.574132</td>\n",
       "    </tr>\n",
       "    <tr>\n",
       "      <th>std</th>\n",
       "      <td>NaN</td>\n",
       "      <td>NaN</td>\n",
       "      <td>NaN</td>\n",
       "      <td>NaN</td>\n",
       "      <td>NaN</td>\n",
       "      <td>7.79159</td>\n",
       "      <td>8.474601</td>\n",
       "      <td>19.245033</td>\n",
       "      <td>8.164537</td>\n",
       "      <td>181.144454</td>\n",
       "    </tr>\n",
       "    <tr>\n",
       "      <th>min</th>\n",
       "      <td>NaN</td>\n",
       "      <td>NaN</td>\n",
       "      <td>NaN</td>\n",
       "      <td>NaN</td>\n",
       "      <td>NaN</td>\n",
       "      <td>0.82000</td>\n",
       "      <td>0.760000</td>\n",
       "      <td>0.000000</td>\n",
       "      <td>0.000000</td>\n",
       "      <td>1.000000</td>\n",
       "    </tr>\n",
       "    <tr>\n",
       "      <th>25%</th>\n",
       "      <td>NaN</td>\n",
       "      <td>NaN</td>\n",
       "      <td>NaN</td>\n",
       "      <td>NaN</td>\n",
       "      <td>NaN</td>\n",
       "      <td>13.94000</td>\n",
       "      <td>16.665000</td>\n",
       "      <td>47.000000</td>\n",
       "      <td>7.001500</td>\n",
       "      <td>42.000000</td>\n",
       "    </tr>\n",
       "    <tr>\n",
       "      <th>50%</th>\n",
       "      <td>NaN</td>\n",
       "      <td>NaN</td>\n",
       "      <td>NaN</td>\n",
       "      <td>NaN</td>\n",
       "      <td>NaN</td>\n",
       "      <td>20.50000</td>\n",
       "      <td>24.240000</td>\n",
       "      <td>62.000000</td>\n",
       "      <td>12.998000</td>\n",
       "      <td>145.000000</td>\n",
       "    </tr>\n",
       "    <tr>\n",
       "      <th>75%</th>\n",
       "      <td>NaN</td>\n",
       "      <td>NaN</td>\n",
       "      <td>NaN</td>\n",
       "      <td>NaN</td>\n",
       "      <td>NaN</td>\n",
       "      <td>26.24000</td>\n",
       "      <td>31.060000</td>\n",
       "      <td>77.000000</td>\n",
       "      <td>16.997900</td>\n",
       "      <td>284.000000</td>\n",
       "    </tr>\n",
       "    <tr>\n",
       "      <th>max</th>\n",
       "      <td>NaN</td>\n",
       "      <td>NaN</td>\n",
       "      <td>NaN</td>\n",
       "      <td>NaN</td>\n",
       "      <td>NaN</td>\n",
       "      <td>41.00000</td>\n",
       "      <td>45.455000</td>\n",
       "      <td>100.000000</td>\n",
       "      <td>56.996900</td>\n",
       "      <td>977.000000</td>\n",
       "    </tr>\n",
       "  </tbody>\n",
       "</table>\n",
       "</div>"
      ],
      "text/plain": [
       "                   datetime   season  holiday  workingday  weather  \\\n",
       "count                 10886  10886.0  10886.0     10886.0  10886.0   \n",
       "unique                10886      4.0      2.0         2.0      4.0   \n",
       "top     2011-06-09 04:00:00      4.0      0.0         1.0      1.0   \n",
       "freq                      1   2734.0  10575.0      7412.0   7192.0   \n",
       "first   2011-01-01 00:00:00      NaN      NaN         NaN      NaN   \n",
       "last    2012-12-19 23:00:00      NaN      NaN         NaN      NaN   \n",
       "mean                    NaN      NaN      NaN         NaN      NaN   \n",
       "std                     NaN      NaN      NaN         NaN      NaN   \n",
       "min                     NaN      NaN      NaN         NaN      NaN   \n",
       "25%                     NaN      NaN      NaN         NaN      NaN   \n",
       "50%                     NaN      NaN      NaN         NaN      NaN   \n",
       "75%                     NaN      NaN      NaN         NaN      NaN   \n",
       "max                     NaN      NaN      NaN         NaN      NaN   \n",
       "\n",
       "               temp         atemp      humidity     windspeed         count  \n",
       "count   10886.00000  10886.000000  10886.000000  10886.000000  10886.000000  \n",
       "unique          NaN           NaN           NaN           NaN           NaN  \n",
       "top             NaN           NaN           NaN           NaN           NaN  \n",
       "freq            NaN           NaN           NaN           NaN           NaN  \n",
       "first           NaN           NaN           NaN           NaN           NaN  \n",
       "last            NaN           NaN           NaN           NaN           NaN  \n",
       "mean       20.23086     23.655084     61.886460     12.799395    191.574132  \n",
       "std         7.79159      8.474601     19.245033      8.164537    181.144454  \n",
       "min         0.82000      0.760000      0.000000      0.000000      1.000000  \n",
       "25%        13.94000     16.665000     47.000000      7.001500     42.000000  \n",
       "50%        20.50000     24.240000     62.000000     12.998000    145.000000  \n",
       "75%        26.24000     31.060000     77.000000     16.997900    284.000000  \n",
       "max        41.00000     45.455000    100.000000     56.996900    977.000000  "
      ]
     },
     "execution_count": 1223,
     "metadata": {},
     "output_type": "execute_result"
    }
   ],
   "source": [
    "df.describe(include='all')"
   ]
  },
  {
   "cell_type": "markdown",
   "metadata": {},
   "source": [
    "# Exploration des données"
   ]
  },
  {
   "cell_type": "markdown",
   "metadata": {},
   "source": [
    "## Count"
   ]
  },
  {
   "cell_type": "code",
   "execution_count": 1224,
   "metadata": {},
   "outputs": [
    {
     "data": {
      "text/plain": [
       "[<matplotlib.lines.Line2D object at 0x000001C2526D1580>]"
      ]
     },
     "execution_count": 1224,
     "metadata": {},
     "output_type": "execute_result"
    },
    {
     "data": {
      "image/png": "[encoded data removed]",
      "text/plain": [
       "<Figure size 432x288 with 1 Axes>"
      ]
     },
     "metadata": {},
     "output_type": "display_data"
    }
   ],
   "source": [
    "plt.plot(df[\"count\"])"
   ]
  },
  {
   "cell_type": "markdown",
   "metadata": {},
   "source": [
    "On peut voir des décrochages à certain moment. \n",
    "J'emet l'hypothèse que c'est décrochage (des moments avec peu de location) sont corrélé avec les jours de vacances. Et affichant les graphiques des deux variables l'une au dessus de l'autre on voit que la corrélation est flagrante.\n",
    "En etant attentif on peut aussi repéré qu'il y a 2 fois le meme pattern de jours de vacances. Ce qui confirme que le dataset est étallé sur un peu près 2ans. "
   ]
  },
  {
   "cell_type": "markdown",
   "metadata": {},
   "source": [
    "On voit aussi que le service a gagné en popularité au cours des deux ans. Une tendance qu'il seras difficile à prédir avec nos données actuelle. "
   ]
  },
  {
   "cell_type": "code",
   "execution_count": 1225,
   "metadata": {
    "scrolled": false
   },
   "outputs": [
    {
     "data": {
      "text/plain": [
       "[<matplotlib.lines.Line2D object at 0x000001C252539EE0>]"
      ]
     },
     "execution_count": 1225,
     "metadata": {},
     "output_type": "execute_result"
    },
    {
     "data": {
      "image/png": "[encoded data removed]",
      "text/plain": [
       "<Figure size 432x288 with 2 Axes>"
      ]
     },
     "metadata": {},
     "output_type": "display_data"
    }
   ],
   "source": [
    "fig, (ax1, ax2) = plt.subplots(2)\n",
    "fig.suptitle('Count plot et holyday plot')\n",
    "ax1.plot(df[\"count\"])\n",
    "ax2.plot(df[\"holiday\"])\n",
    "#ax3.plot(df.workingday.values[::-1])\n",
    "#Il y a pour moi une redondance entre els collums holiday et workingday\n",
    "#Je verrais ça plus tard.\n",
    "#Ajouter une collumns weekend ? et delete workingday ? "
   ]
  },
  {
   "cell_type": "markdown",
   "metadata": {},
   "source": [
    "On peut voir qu'il y a des outliers sur cette variable. C'est outlier vont fausser les conclusion de notre modèle parcequ'elles ne représentent pas la réalité générale. Je garde cette infos et nous allons supprimer les outliers à la fin de l'exploration."
   ]
  },
  {
   "cell_type": "code",
   "execution_count": 1226,
   "metadata": {},
   "outputs": [
    {
     "data": {
      "text/plain": [
       "<AxesSubplot:xlabel='count'>"
      ]
     },
     "execution_count": 1226,
     "metadata": {},
     "output_type": "execute_result"
    },
    {
     "data": {
      "image/png": "[encoded data removed]",
      "text/plain": [
       "<Figure size 432x288 with 1 Axes>"
      ]
     },
     "metadata": {},
     "output_type": "display_data"
    }
   ],
   "source": [
    "sns.boxplot(x=df['count'])"
   ]
  },
  {
   "cell_type": "markdown",
   "metadata": {},
   "source": [
    "## Date"
   ]
  },
  {
   "cell_type": "markdown",
   "metadata": {},
   "source": [
    "On a seulement deux an d'historique. Il va donc être compliqué de ce basé sur la date pour faire un modele. Je pense qu'il serai intéressant d'exploser la date en features plus représentatif et plus corrélé avec count"
   ]
  },
  {
   "cell_type": "markdown",
   "metadata": {},
   "source": [
    "Experimentation:"
   ]
  },
  {
   "cell_type": "code",
   "execution_count": 1227,
   "metadata": {},
   "outputs": [],
   "source": [
    "df['dayofweek'] = df.datetime.dt.dayofweek\n",
    "df['hour'] = df.datetime.dt.hour\n",
    "df['month'] = df.datetime.dt.month\n",
    "df['year'] = df.datetime.dt.year"
   ]
  },
  {
   "cell_type": "code",
   "execution_count": 1228,
   "metadata": {},
   "outputs": [],
   "source": [
    "df[\"dayofweek\"] = pd.Categorical(df[\"dayofweek\"], ordered=False)\n",
    "df[\"hour\"] = pd.Categorical(df[\"hour\"], ordered=False)\n",
    "df[\"month\"] = pd.Categorical(df[\"month\"], ordered=False)\n",
    "df[\"year\"] = pd.Categorical(df[\"year\"], ordered=False)"
   ]
  },
  {
   "cell_type": "markdown",
   "metadata": {},
   "source": [
    "## Mois"
   ]
  },
  {
   "cell_type": "markdown",
   "metadata": {},
   "source": [
    "On a ici les valeurs moyenne de la variable count par mois (1= Janvier, 2 = Fevrier ...). Cette variable et très interessante parcequ'on voit une variation evidente des locations selon le mois. "
   ]
  },
  {
   "cell_type": "code",
   "execution_count": 1229,
   "metadata": {},
   "outputs": [
    {
     "data": {
      "text/plain": [
       "<AxesSubplot:xlabel='month', ylabel='count'>"
      ]
     },
     "execution_count": 1229,
     "metadata": {},
     "output_type": "execute_result"
    },
    {
     "data": {
      "image/png": "[encoded data removed]",
      "text/plain": [
       "<Figure size 432x288 with 1 Axes>"
      ]
     },
     "metadata": {},
     "output_type": "display_data"
    }
   ],
   "source": [
    "sns.barplot(data=df,x=\"month\",y=\"count\")"
   ]
  },
  {
   "cell_type": "markdown",
   "metadata": {},
   "source": [
    "## Jour de la semaine"
   ]
  },
  {
   "cell_type": "markdown",
   "metadata": {},
   "source": [
    "Ici c'est moins évident à voir. On pourrait croiser le jours de la semaine et les heures. Les habitude devraient être différente. Par exemple des plages horaire de forte activité différente le lundi et le dimanche"
   ]
  },
  {
   "cell_type": "code",
   "execution_count": 1230,
   "metadata": {},
   "outputs": [
    {
     "data": {
      "text/plain": [
       "<AxesSubplot:xlabel='dayofweek', ylabel='count'>"
      ]
     },
     "execution_count": 1230,
     "metadata": {},
     "output_type": "execute_result"
    },
    {
     "data": {
      "image/png": "[encoded data removed]",
      "text/plain": [
       "<Figure size 432x288 with 1 Axes>"
      ]
     },
     "metadata": {},
     "output_type": "display_data"
    }
   ],
   "source": [
    "sns.barplot(data=df,x=\"dayofweek\",y=\"count\")"
   ]
  },
  {
   "cell_type": "markdown",
   "metadata": {},
   "source": [
    "## Heure"
   ]
  },
  {
   "cell_type": "markdown",
   "metadata": {},
   "source": [
    "Pareil pour la variable heure. On peut voir des distributions fortement correler avec l'heure de location"
   ]
  },
  {
   "cell_type": "code",
   "execution_count": 1231,
   "metadata": {},
   "outputs": [
    {
     "data": {
      "text/plain": [
       "<AxesSubplot:xlabel='hour', ylabel='count'>"
      ]
     },
     "execution_count": 1231,
     "metadata": {},
     "output_type": "execute_result"
    },
    {
     "data": {
      "image/png": "[encoded data removed]",
      "text/plain": [
       "<Figure size 432x288 with 1 Axes>"
      ]
     },
     "metadata": {},
     "output_type": "display_data"
    }
   ],
   "source": [
    "sns.barplot(data=df,x=\"hour\",y=\"count\")"
   ]
  },
  {
   "cell_type": "code",
   "execution_count": 1232,
   "metadata": {
    "scrolled": true
   },
   "outputs": [
    {
     "data": {
      "text/plain": [
       "<AxesSubplot:xlabel='hour', ylabel='count'>"
      ]
     },
     "execution_count": 1232,
     "metadata": {},
     "output_type": "execute_result"
    },
    {
     "data": {
      "image/png": "[encoded data removed]",
      "text/plain": [
       "<Figure size 432x288 with 1 Axes>"
      ]
     },
     "metadata": {},
     "output_type": "display_data"
    }
   ],
   "source": [
    "sns.violinplot(data = df, x = 'hour', y = 'count')"
   ]
  },
  {
   "cell_type": "markdown",
   "metadata": {},
   "source": [
    "La variable hour est très correlé à la variable count"
   ]
  },
  {
   "cell_type": "code",
   "execution_count": 1233,
   "metadata": {},
   "outputs": [
    {
     "data": {
      "text/plain": [
       "0.40060119414684725"
      ]
     },
     "execution_count": 1233,
     "metadata": {},
     "output_type": "execute_result"
    }
   ],
   "source": [
    "df['hour2'] = df.datetime.dt.hour\n",
    "df['hour2'].corr(df['count'])"
   ]
  },
  {
   "cell_type": "code",
   "execution_count": 1234,
   "metadata": {},
   "outputs": [],
   "source": [
    "df  = df.drop([\"hour2\"],axis=1)"
   ]
  },
  {
   "cell_type": "markdown",
   "metadata": {},
   "source": [
    "## Relation des variables date"
   ]
  },
  {
   "cell_type": "markdown",
   "metadata": {},
   "source": [
    "On observe comme supposé une vrai différence de distribution entre les jours de weekend et les jours de semaine\n",
    "(0:4 = Lundi:Vendredi, 5 = samedi, 6 = dimanche)\n",
    "\n",
    "\n",
    "On peut voir des différences de proportion lorsqu'on croise hour avec season, weather. Ce sont des informations que notre modèle utilisera pour sa prédiction.\n"
   ]
  },
  {
   "cell_type": "code",
   "execution_count": 1235,
   "metadata": {},
   "outputs": [
    {
     "data": {
      "text/plain": [
       "<AxesSubplot:xlabel='hour', ylabel='count'>"
      ]
     },
     "execution_count": 1235,
     "metadata": {},
     "output_type": "execute_result"
    },
    {
     "data": {
      "image/png": "[encoded data removed]",
      "text/plain": [
       "<Figure size 432x288 with 1 Axes>"
      ]
     },
     "metadata": {},
     "output_type": "display_data"
    }
   ],
   "source": [
    "hourGroupbyDayOfWeek = pd.DataFrame(df.groupby([\"hour\",\"dayofweek\"],sort=True)[\"count\"].mean()).reset_index()\n",
    "sns.pointplot(x=hourGroupbyDayOfWeek[\"hour\"], y=hourGroupbyDayOfWeek[\"count\"],hue=hourGroupbyDayOfWeek[\"dayofweek\"], data=hourGroupbyDayOfWeek, join=True,)"
   ]
  },
  {
   "cell_type": "markdown",
   "metadata": {},
   "source": [
    "On pourrait peut-être simplifier le modèle en ayant une variable isWeekend. Vu qu'on identifie clairement une courbe de location pour les jours de semaine et une pour le weekend. Mais j'ai peur que ce soit redondant avec la varaiables workingday. On peut vérifier le même graphique avec workingday =0 et workingday =1"
   ]
  },
  {
   "cell_type": "code",
   "execution_count": 1236,
   "metadata": {},
   "outputs": [
    {
     "data": {
      "text/html": [
       "<div>\n",
       "<style scoped>\n",
       "    .dataframe tbody tr th:only-of-type {\n",
       "        vertical-align: middle;\n",
       "    }\n",
       "\n",
       "    .dataframe tbody tr th {\n",
       "        vertical-align: top;\n",
       "    }\n",
       "\n",
       "    .dataframe thead th {\n",
       "        text-align: right;\n",
       "    }\n",
       "</style>\n",
       "<table border=\"1\" class=\"dataframe\">\n",
       "  <thead>\n",
       "    <tr style=\"text-align: right;\">\n",
       "      <th></th>\n",
       "      <th>datetime</th>\n",
       "      <th>season</th>\n",
       "      <th>holiday</th>\n",
       "      <th>workingday</th>\n",
       "      <th>weather</th>\n",
       "      <th>temp</th>\n",
       "      <th>atemp</th>\n",
       "      <th>humidity</th>\n",
       "      <th>windspeed</th>\n",
       "      <th>count</th>\n",
       "      <th>dayofweek</th>\n",
       "      <th>hour</th>\n",
       "      <th>month</th>\n",
       "      <th>year</th>\n",
       "    </tr>\n",
       "  </thead>\n",
       "  <tbody>\n",
       "    <tr>\n",
       "      <th>0</th>\n",
       "      <td>2011-01-01 00:00:00</td>\n",
       "      <td>1</td>\n",
       "      <td>0</td>\n",
       "      <td>0</td>\n",
       "      <td>1</td>\n",
       "      <td>9.84</td>\n",
       "      <td>14.395</td>\n",
       "      <td>81</td>\n",
       "      <td>0.0000</td>\n",
       "      <td>16</td>\n",
       "      <td>5</td>\n",
       "      <td>0</td>\n",
       "      <td>1</td>\n",
       "      <td>2011</td>\n",
       "    </tr>\n",
       "    <tr>\n",
       "      <th>1</th>\n",
       "      <td>2011-01-01 01:00:00</td>\n",
       "      <td>1</td>\n",
       "      <td>0</td>\n",
       "      <td>0</td>\n",
       "      <td>1</td>\n",
       "      <td>9.02</td>\n",
       "      <td>13.635</td>\n",
       "      <td>80</td>\n",
       "      <td>0.0000</td>\n",
       "      <td>40</td>\n",
       "      <td>5</td>\n",
       "      <td>1</td>\n",
       "      <td>1</td>\n",
       "      <td>2011</td>\n",
       "    </tr>\n",
       "    <tr>\n",
       "      <th>2</th>\n",
       "      <td>2011-01-01 02:00:00</td>\n",
       "      <td>1</td>\n",
       "      <td>0</td>\n",
       "      <td>0</td>\n",
       "      <td>1</td>\n",
       "      <td>9.02</td>\n",
       "      <td>13.635</td>\n",
       "      <td>80</td>\n",
       "      <td>0.0000</td>\n",
       "      <td>32</td>\n",
       "      <td>5</td>\n",
       "      <td>2</td>\n",
       "      <td>1</td>\n",
       "      <td>2011</td>\n",
       "    </tr>\n",
       "    <tr>\n",
       "      <th>3</th>\n",
       "      <td>2011-01-01 03:00:00</td>\n",
       "      <td>1</td>\n",
       "      <td>0</td>\n",
       "      <td>0</td>\n",
       "      <td>1</td>\n",
       "      <td>9.84</td>\n",
       "      <td>14.395</td>\n",
       "      <td>75</td>\n",
       "      <td>0.0000</td>\n",
       "      <td>13</td>\n",
       "      <td>5</td>\n",
       "      <td>3</td>\n",
       "      <td>1</td>\n",
       "      <td>2011</td>\n",
       "    </tr>\n",
       "    <tr>\n",
       "      <th>4</th>\n",
       "      <td>2011-01-01 04:00:00</td>\n",
       "      <td>1</td>\n",
       "      <td>0</td>\n",
       "      <td>0</td>\n",
       "      <td>1</td>\n",
       "      <td>9.84</td>\n",
       "      <td>14.395</td>\n",
       "      <td>75</td>\n",
       "      <td>0.0000</td>\n",
       "      <td>1</td>\n",
       "      <td>5</td>\n",
       "      <td>4</td>\n",
       "      <td>1</td>\n",
       "      <td>2011</td>\n",
       "    </tr>\n",
       "    <tr>\n",
       "      <th>...</th>\n",
       "      <td>...</td>\n",
       "      <td>...</td>\n",
       "      <td>...</td>\n",
       "      <td>...</td>\n",
       "      <td>...</td>\n",
       "      <td>...</td>\n",
       "      <td>...</td>\n",
       "      <td>...</td>\n",
       "      <td>...</td>\n",
       "      <td>...</td>\n",
       "      <td>...</td>\n",
       "      <td>...</td>\n",
       "      <td>...</td>\n",
       "      <td>...</td>\n",
       "    </tr>\n",
       "    <tr>\n",
       "      <th>10881</th>\n",
       "      <td>2012-12-19 19:00:00</td>\n",
       "      <td>4</td>\n",
       "      <td>0</td>\n",
       "      <td>1</td>\n",
       "      <td>1</td>\n",
       "      <td>15.58</td>\n",
       "      <td>19.695</td>\n",
       "      <td>50</td>\n",
       "      <td>26.0027</td>\n",
       "      <td>336</td>\n",
       "      <td>2</td>\n",
       "      <td>19</td>\n",
       "      <td>12</td>\n",
       "      <td>2012</td>\n",
       "    </tr>\n",
       "    <tr>\n",
       "      <th>10882</th>\n",
       "      <td>2012-12-19 20:00:00</td>\n",
       "      <td>4</td>\n",
       "      <td>0</td>\n",
       "      <td>1</td>\n",
       "      <td>1</td>\n",
       "      <td>14.76</td>\n",
       "      <td>17.425</td>\n",
       "      <td>57</td>\n",
       "      <td>15.0013</td>\n",
       "      <td>241</td>\n",
       "      <td>2</td>\n",
       "      <td>20</td>\n",
       "      <td>12</td>\n",
       "      <td>2012</td>\n",
       "    </tr>\n",
       "    <tr>\n",
       "      <th>10883</th>\n",
       "      <td>2012-12-19 21:00:00</td>\n",
       "      <td>4</td>\n",
       "      <td>0</td>\n",
       "      <td>1</td>\n",
       "      <td>1</td>\n",
       "      <td>13.94</td>\n",
       "      <td>15.910</td>\n",
       "      <td>61</td>\n",
       "      <td>15.0013</td>\n",
       "      <td>168</td>\n",
       "      <td>2</td>\n",
       "      <td>21</td>\n",
       "      <td>12</td>\n",
       "      <td>2012</td>\n",
       "    </tr>\n",
       "    <tr>\n",
       "      <th>10884</th>\n",
       "      <td>2012-12-19 22:00:00</td>\n",
       "      <td>4</td>\n",
       "      <td>0</td>\n",
       "      <td>1</td>\n",
       "      <td>1</td>\n",
       "      <td>13.94</td>\n",
       "      <td>17.425</td>\n",
       "      <td>61</td>\n",
       "      <td>6.0032</td>\n",
       "      <td>129</td>\n",
       "      <td>2</td>\n",
       "      <td>22</td>\n",
       "      <td>12</td>\n",
       "      <td>2012</td>\n",
       "    </tr>\n",
       "    <tr>\n",
       "      <th>10885</th>\n",
       "      <td>2012-12-19 23:00:00</td>\n",
       "      <td>4</td>\n",
       "      <td>0</td>\n",
       "      <td>1</td>\n",
       "      <td>1</td>\n",
       "      <td>13.12</td>\n",
       "      <td>16.665</td>\n",
       "      <td>66</td>\n",
       "      <td>8.9981</td>\n",
       "      <td>88</td>\n",
       "      <td>2</td>\n",
       "      <td>23</td>\n",
       "      <td>12</td>\n",
       "      <td>2012</td>\n",
       "    </tr>\n",
       "  </tbody>\n",
       "</table>\n",
       "<p>10886 rows × 14 columns</p>\n",
       "</div>"
      ],
      "text/plain": [
       "                 datetime season holiday workingday weather   temp   atemp  \\\n",
       "0     2011-01-01 00:00:00      1       0          0       1   9.84  14.395   \n",
       "1     2011-01-01 01:00:00      1       0          0       1   9.02  13.635   \n",
       "2     2011-01-01 02:00:00      1       0          0       1   9.02  13.635   \n",
       "3     2011-01-01 03:00:00      1       0          0       1   9.84  14.395   \n",
       "4     2011-01-01 04:00:00      1       0          0       1   9.84  14.395   \n",
       "...                   ...    ...     ...        ...     ...    ...     ...   \n",
       "10881 2012-12-19 19:00:00      4       0          1       1  15.58  19.695   \n",
       "10882 2012-12-19 20:00:00      4       0          1       1  14.76  17.425   \n",
       "10883 2012-12-19 21:00:00      4       0          1       1  13.94  15.910   \n",
       "10884 2012-12-19 22:00:00      4       0          1       1  13.94  17.425   \n",
       "10885 2012-12-19 23:00:00      4       0          1       1  13.12  16.665   \n",
       "\n",
       "       humidity  windspeed  count dayofweek hour month  year  \n",
       "0            81     0.0000     16         5    0     1  2011  \n",
       "1            80     0.0000     40         5    1     1  2011  \n",
       "2            80     0.0000     32         5    2     1  2011  \n",
       "3            75     0.0000     13         5    3     1  2011  \n",
       "4            75     0.0000      1         5    4     1  2011  \n",
       "...         ...        ...    ...       ...  ...   ...   ...  \n",
       "10881        50    26.0027    336         2   19    12  2012  \n",
       "10882        57    15.0013    241         2   20    12  2012  \n",
       "10883        61    15.0013    168         2   21    12  2012  \n",
       "10884        61     6.0032    129         2   22    12  2012  \n",
       "10885        66     8.9981     88         2   23    12  2012  \n",
       "\n",
       "[10886 rows x 14 columns]"
      ]
     },
     "execution_count": 1236,
     "metadata": {},
     "output_type": "execute_result"
    }
   ],
   "source": [
    "df"
   ]
  },
  {
   "cell_type": "code",
   "execution_count": 1237,
   "metadata": {},
   "outputs": [
    {
     "data": {
      "text/plain": [
       "<AxesSubplot:xlabel='hour', ylabel='count'>"
      ]
     },
     "execution_count": 1237,
     "metadata": {},
     "output_type": "execute_result"
    },
    {
     "data": {
      "image/png": "[encoded data removed]",
      "text/plain": [
       "<Figure size 432x288 with 1 Axes>"
      ]
     },
     "metadata": {},
     "output_type": "display_data"
    }
   ],
   "source": [
    "hourGroupbyWorkingday = pd.DataFrame(df.groupby([\"hour\",\"workingday\"],sort=True)[\"count\"].mean()).reset_index()\n",
    "sns.pointplot(x=hourGroupbyWorkingday[\"hour\"], y=hourGroupbyWorkingday[\"count\"],hue=hourGroupbyWorkingday[\"workingday\"], data=hourGroupbyDayOfWeek, join=True,)"
   ]
  },
  {
   "cell_type": "markdown",
   "metadata": {},
   "source": [
    "Comme on pouvait si attendre. Les courbes ne corresponde pas vraiment à jour de semaine et jour de weekend. Mais la répartition des locations dépend si le jour et un jour de travail ou de repos. Donc workingday \"possède\" deja cette information. On va garder les jours de semaine pour en avant les différences de proportions entre les jours. Par exemple: a 14h et 15h on a une différence de location entre samedi et dimanche."
   ]
  },
  {
   "cell_type": "code",
   "execution_count": 1238,
   "metadata": {},
   "outputs": [
    {
     "data": {
      "text/plain": [
       "<AxesSubplot:xlabel='hour', ylabel='count'>"
      ]
     },
     "execution_count": 1238,
     "metadata": {},
     "output_type": "execute_result"
    },
    {
     "data": {
      "image/png": "[encoded data removed]",
      "text/plain": [
       "<Figure size 432x288 with 1 Axes>"
      ]
     },
     "metadata": {},
     "output_type": "display_data"
    }
   ],
   "source": [
    "hourGroupbySeason = pd.DataFrame(df.groupby([\"hour\",\"season\"],sort=True)[\"count\"].mean()).reset_index()\n",
    "sns.pointplot(x=hourGroupbySeason[\"hour\"], y=hourGroupbySeason[\"count\"],hue=hourGroupbySeason[\"season\"], data=hourGroupbySeason, join=True,)"
   ]
  },
  {
   "cell_type": "code",
   "execution_count": 1239,
   "metadata": {},
   "outputs": [
    {
     "data": {
      "text/plain": [
       "<AxesSubplot:xlabel='hour', ylabel='count'>"
      ]
     },
     "execution_count": 1239,
     "metadata": {},
     "output_type": "execute_result"
    },
    {
     "data": {
      "image/png": "[encoded data removed]",
      "text/plain": [
       "<Figure size 432x288 with 1 Axes>"
      ]
     },
     "metadata": {},
     "output_type": "display_data"
    }
   ],
   "source": [
    "hourGroupbyWeather = pd.DataFrame(df.groupby([\"hour\",\"weather\"],sort=True)[\"count\"].mean()).reset_index()\n",
    "sns.pointplot(x=hourGroupbyWeather[\"hour\"], y=hourGroupbyWeather[\"count\"],hue=hourGroupbyWeather[\"weather\"], data=hourGroupbyWeather, join=True,)"
   ]
  },
  {
   "cell_type": "markdown",
   "metadata": {},
   "source": [
    "Je supprime maintennat al columns datetime qui est devenu inutile"
   ]
  },
  {
   "cell_type": "code",
   "execution_count": 1240,
   "metadata": {},
   "outputs": [],
   "source": [
    "df  = df.drop([\"datetime\"],axis=1)"
   ]
  },
  {
   "cell_type": "code",
   "execution_count": 1241,
   "metadata": {},
   "outputs": [
    {
     "data": {
      "text/html": [
       "<div>\n",
       "<style scoped>\n",
       "    .dataframe tbody tr th:only-of-type {\n",
       "        vertical-align: middle;\n",
       "    }\n",
       "\n",
       "    .dataframe tbody tr th {\n",
       "        vertical-align: top;\n",
       "    }\n",
       "\n",
       "    .dataframe thead th {\n",
       "        text-align: right;\n",
       "    }\n",
       "</style>\n",
       "<table border=\"1\" class=\"dataframe\">\n",
       "  <thead>\n",
       "    <tr style=\"text-align: right;\">\n",
       "      <th></th>\n",
       "      <th>season</th>\n",
       "      <th>holiday</th>\n",
       "      <th>workingday</th>\n",
       "      <th>weather</th>\n",
       "      <th>temp</th>\n",
       "      <th>atemp</th>\n",
       "      <th>humidity</th>\n",
       "      <th>windspeed</th>\n",
       "      <th>count</th>\n",
       "      <th>dayofweek</th>\n",
       "      <th>hour</th>\n",
       "      <th>month</th>\n",
       "      <th>year</th>\n",
       "    </tr>\n",
       "  </thead>\n",
       "  <tbody>\n",
       "    <tr>\n",
       "      <th>0</th>\n",
       "      <td>1</td>\n",
       "      <td>0</td>\n",
       "      <td>0</td>\n",
       "      <td>1</td>\n",
       "      <td>9.84</td>\n",
       "      <td>14.395</td>\n",
       "      <td>81</td>\n",
       "      <td>0.0000</td>\n",
       "      <td>16</td>\n",
       "      <td>5</td>\n",
       "      <td>0</td>\n",
       "      <td>1</td>\n",
       "      <td>2011</td>\n",
       "    </tr>\n",
       "    <tr>\n",
       "      <th>1</th>\n",
       "      <td>1</td>\n",
       "      <td>0</td>\n",
       "      <td>0</td>\n",
       "      <td>1</td>\n",
       "      <td>9.02</td>\n",
       "      <td>13.635</td>\n",
       "      <td>80</td>\n",
       "      <td>0.0000</td>\n",
       "      <td>40</td>\n",
       "      <td>5</td>\n",
       "      <td>1</td>\n",
       "      <td>1</td>\n",
       "      <td>2011</td>\n",
       "    </tr>\n",
       "    <tr>\n",
       "      <th>2</th>\n",
       "      <td>1</td>\n",
       "      <td>0</td>\n",
       "      <td>0</td>\n",
       "      <td>1</td>\n",
       "      <td>9.02</td>\n",
       "      <td>13.635</td>\n",
       "      <td>80</td>\n",
       "      <td>0.0000</td>\n",
       "      <td>32</td>\n",
       "      <td>5</td>\n",
       "      <td>2</td>\n",
       "      <td>1</td>\n",
       "      <td>2011</td>\n",
       "    </tr>\n",
       "    <tr>\n",
       "      <th>3</th>\n",
       "      <td>1</td>\n",
       "      <td>0</td>\n",
       "      <td>0</td>\n",
       "      <td>1</td>\n",
       "      <td>9.84</td>\n",
       "      <td>14.395</td>\n",
       "      <td>75</td>\n",
       "      <td>0.0000</td>\n",
       "      <td>13</td>\n",
       "      <td>5</td>\n",
       "      <td>3</td>\n",
       "      <td>1</td>\n",
       "      <td>2011</td>\n",
       "    </tr>\n",
       "    <tr>\n",
       "      <th>4</th>\n",
       "      <td>1</td>\n",
       "      <td>0</td>\n",
       "      <td>0</td>\n",
       "      <td>1</td>\n",
       "      <td>9.84</td>\n",
       "      <td>14.395</td>\n",
       "      <td>75</td>\n",
       "      <td>0.0000</td>\n",
       "      <td>1</td>\n",
       "      <td>5</td>\n",
       "      <td>4</td>\n",
       "      <td>1</td>\n",
       "      <td>2011</td>\n",
       "    </tr>\n",
       "    <tr>\n",
       "      <th>...</th>\n",
       "      <td>...</td>\n",
       "      <td>...</td>\n",
       "      <td>...</td>\n",
       "      <td>...</td>\n",
       "      <td>...</td>\n",
       "      <td>...</td>\n",
       "      <td>...</td>\n",
       "      <td>...</td>\n",
       "      <td>...</td>\n",
       "      <td>...</td>\n",
       "      <td>...</td>\n",
       "      <td>...</td>\n",
       "      <td>...</td>\n",
       "    </tr>\n",
       "    <tr>\n",
       "      <th>10881</th>\n",
       "      <td>4</td>\n",
       "      <td>0</td>\n",
       "      <td>1</td>\n",
       "      <td>1</td>\n",
       "      <td>15.58</td>\n",
       "      <td>19.695</td>\n",
       "      <td>50</td>\n",
       "      <td>26.0027</td>\n",
       "      <td>336</td>\n",
       "      <td>2</td>\n",
       "      <td>19</td>\n",
       "      <td>12</td>\n",
       "      <td>2012</td>\n",
       "    </tr>\n",
       "    <tr>\n",
       "      <th>10882</th>\n",
       "      <td>4</td>\n",
       "      <td>0</td>\n",
       "      <td>1</td>\n",
       "      <td>1</td>\n",
       "      <td>14.76</td>\n",
       "      <td>17.425</td>\n",
       "      <td>57</td>\n",
       "      <td>15.0013</td>\n",
       "      <td>241</td>\n",
       "      <td>2</td>\n",
       "      <td>20</td>\n",
       "      <td>12</td>\n",
       "      <td>2012</td>\n",
       "    </tr>\n",
       "    <tr>\n",
       "      <th>10883</th>\n",
       "      <td>4</td>\n",
       "      <td>0</td>\n",
       "      <td>1</td>\n",
       "      <td>1</td>\n",
       "      <td>13.94</td>\n",
       "      <td>15.910</td>\n",
       "      <td>61</td>\n",
       "      <td>15.0013</td>\n",
       "      <td>168</td>\n",
       "      <td>2</td>\n",
       "      <td>21</td>\n",
       "      <td>12</td>\n",
       "      <td>2012</td>\n",
       "    </tr>\n",
       "    <tr>\n",
       "      <th>10884</th>\n",
       "      <td>4</td>\n",
       "      <td>0</td>\n",
       "      <td>1</td>\n",
       "      <td>1</td>\n",
       "      <td>13.94</td>\n",
       "      <td>17.425</td>\n",
       "      <td>61</td>\n",
       "      <td>6.0032</td>\n",
       "      <td>129</td>\n",
       "      <td>2</td>\n",
       "      <td>22</td>\n",
       "      <td>12</td>\n",
       "      <td>2012</td>\n",
       "    </tr>\n",
       "    <tr>\n",
       "      <th>10885</th>\n",
       "      <td>4</td>\n",
       "      <td>0</td>\n",
       "      <td>1</td>\n",
       "      <td>1</td>\n",
       "      <td>13.12</td>\n",
       "      <td>16.665</td>\n",
       "      <td>66</td>\n",
       "      <td>8.9981</td>\n",
       "      <td>88</td>\n",
       "      <td>2</td>\n",
       "      <td>23</td>\n",
       "      <td>12</td>\n",
       "      <td>2012</td>\n",
       "    </tr>\n",
       "  </tbody>\n",
       "</table>\n",
       "<p>10886 rows × 13 columns</p>\n",
       "</div>"
      ],
      "text/plain": [
       "      season holiday workingday weather   temp   atemp  humidity  windspeed  \\\n",
       "0          1       0          0       1   9.84  14.395        81     0.0000   \n",
       "1          1       0          0       1   9.02  13.635        80     0.0000   \n",
       "2          1       0          0       1   9.02  13.635        80     0.0000   \n",
       "3          1       0          0       1   9.84  14.395        75     0.0000   \n",
       "4          1       0          0       1   9.84  14.395        75     0.0000   \n",
       "...      ...     ...        ...     ...    ...     ...       ...        ...   \n",
       "10881      4       0          1       1  15.58  19.695        50    26.0027   \n",
       "10882      4       0          1       1  14.76  17.425        57    15.0013   \n",
       "10883      4       0          1       1  13.94  15.910        61    15.0013   \n",
       "10884      4       0          1       1  13.94  17.425        61     6.0032   \n",
       "10885      4       0          1       1  13.12  16.665        66     8.9981   \n",
       "\n",
       "       count dayofweek hour month  year  \n",
       "0         16         5    0     1  2011  \n",
       "1         40         5    1     1  2011  \n",
       "2         32         5    2     1  2011  \n",
       "3         13         5    3     1  2011  \n",
       "4          1         5    4     1  2011  \n",
       "...      ...       ...  ...   ...   ...  \n",
       "10881    336         2   19    12  2012  \n",
       "10882    241         2   20    12  2012  \n",
       "10883    168         2   21    12  2012  \n",
       "10884    129         2   22    12  2012  \n",
       "10885     88         2   23    12  2012  \n",
       "\n",
       "[10886 rows x 13 columns]"
      ]
     },
     "execution_count": 1241,
     "metadata": {},
     "output_type": "execute_result"
    }
   ],
   "source": [
    "df"
   ]
  },
  {
   "cell_type": "markdown",
   "metadata": {},
   "source": [
    "## Windspeed"
   ]
  },
  {
   "cell_type": "markdown",
   "metadata": {},
   "source": [
    "On peut voir ici qu'on a des valeurs de où windspeed est égale à zero. Ce qui semble plutot dû àun manque de données. Car la vitesse du vent ne peut pas tere a zero. "
   ]
  },
  {
   "cell_type": "code",
   "execution_count": 1242,
   "metadata": {},
   "outputs": [
    {
     "data": {
      "text/plain": [
       "<AxesSubplot:xlabel='windspeed'>"
      ]
     },
     "execution_count": 1242,
     "metadata": {},
     "output_type": "execute_result"
    },
    {
     "data": {
      "image/png": "[encoded data removed]",
      "text/plain": [
       "<Figure size 432x288 with 1 Axes>"
      ]
     },
     "metadata": {},
     "output_type": "display_data"
    }
   ],
   "source": [
    "sns.boxplot(x=df['windspeed'])"
   ]
  },
  {
   "cell_type": "code",
   "execution_count": 1243,
   "metadata": {},
   "outputs": [
    {
     "data": {
      "text/html": [
       "<div>\n",
       "<style scoped>\n",
       "    .dataframe tbody tr th:only-of-type {\n",
       "        vertical-align: middle;\n",
       "    }\n",
       "\n",
       "    .dataframe tbody tr th {\n",
       "        vertical-align: top;\n",
       "    }\n",
       "\n",
       "    .dataframe thead th {\n",
       "        text-align: right;\n",
       "    }\n",
       "</style>\n",
       "<table border=\"1\" class=\"dataframe\">\n",
       "  <thead>\n",
       "    <tr style=\"text-align: right;\">\n",
       "      <th></th>\n",
       "      <th>season</th>\n",
       "      <th>holiday</th>\n",
       "      <th>workingday</th>\n",
       "      <th>weather</th>\n",
       "      <th>temp</th>\n",
       "      <th>atemp</th>\n",
       "      <th>humidity</th>\n",
       "      <th>windspeed</th>\n",
       "      <th>count</th>\n",
       "      <th>dayofweek</th>\n",
       "      <th>hour</th>\n",
       "      <th>month</th>\n",
       "      <th>year</th>\n",
       "    </tr>\n",
       "  </thead>\n",
       "  <tbody>\n",
       "    <tr>\n",
       "      <th>0</th>\n",
       "      <td>1</td>\n",
       "      <td>0</td>\n",
       "      <td>0</td>\n",
       "      <td>1</td>\n",
       "      <td>9.84</td>\n",
       "      <td>14.395</td>\n",
       "      <td>81</td>\n",
       "      <td>0.0</td>\n",
       "      <td>16</td>\n",
       "      <td>5</td>\n",
       "      <td>0</td>\n",
       "      <td>1</td>\n",
       "      <td>2011</td>\n",
       "    </tr>\n",
       "    <tr>\n",
       "      <th>1</th>\n",
       "      <td>1</td>\n",
       "      <td>0</td>\n",
       "      <td>0</td>\n",
       "      <td>1</td>\n",
       "      <td>9.02</td>\n",
       "      <td>13.635</td>\n",
       "      <td>80</td>\n",
       "      <td>0.0</td>\n",
       "      <td>40</td>\n",
       "      <td>5</td>\n",
       "      <td>1</td>\n",
       "      <td>1</td>\n",
       "      <td>2011</td>\n",
       "    </tr>\n",
       "    <tr>\n",
       "      <th>2</th>\n",
       "      <td>1</td>\n",
       "      <td>0</td>\n",
       "      <td>0</td>\n",
       "      <td>1</td>\n",
       "      <td>9.02</td>\n",
       "      <td>13.635</td>\n",
       "      <td>80</td>\n",
       "      <td>0.0</td>\n",
       "      <td>32</td>\n",
       "      <td>5</td>\n",
       "      <td>2</td>\n",
       "      <td>1</td>\n",
       "      <td>2011</td>\n",
       "    </tr>\n",
       "    <tr>\n",
       "      <th>3</th>\n",
       "      <td>1</td>\n",
       "      <td>0</td>\n",
       "      <td>0</td>\n",
       "      <td>1</td>\n",
       "      <td>9.84</td>\n",
       "      <td>14.395</td>\n",
       "      <td>75</td>\n",
       "      <td>0.0</td>\n",
       "      <td>13</td>\n",
       "      <td>5</td>\n",
       "      <td>3</td>\n",
       "      <td>1</td>\n",
       "      <td>2011</td>\n",
       "    </tr>\n",
       "    <tr>\n",
       "      <th>4</th>\n",
       "      <td>1</td>\n",
       "      <td>0</td>\n",
       "      <td>0</td>\n",
       "      <td>1</td>\n",
       "      <td>9.84</td>\n",
       "      <td>14.395</td>\n",
       "      <td>75</td>\n",
       "      <td>0.0</td>\n",
       "      <td>1</td>\n",
       "      <td>5</td>\n",
       "      <td>4</td>\n",
       "      <td>1</td>\n",
       "      <td>2011</td>\n",
       "    </tr>\n",
       "    <tr>\n",
       "      <th>...</th>\n",
       "      <td>...</td>\n",
       "      <td>...</td>\n",
       "      <td>...</td>\n",
       "      <td>...</td>\n",
       "      <td>...</td>\n",
       "      <td>...</td>\n",
       "      <td>...</td>\n",
       "      <td>...</td>\n",
       "      <td>...</td>\n",
       "      <td>...</td>\n",
       "      <td>...</td>\n",
       "      <td>...</td>\n",
       "      <td>...</td>\n",
       "    </tr>\n",
       "    <tr>\n",
       "      <th>10826</th>\n",
       "      <td>4</td>\n",
       "      <td>0</td>\n",
       "      <td>1</td>\n",
       "      <td>2</td>\n",
       "      <td>16.40</td>\n",
       "      <td>20.455</td>\n",
       "      <td>87</td>\n",
       "      <td>0.0</td>\n",
       "      <td>232</td>\n",
       "      <td>0</td>\n",
       "      <td>12</td>\n",
       "      <td>12</td>\n",
       "      <td>2012</td>\n",
       "    </tr>\n",
       "    <tr>\n",
       "      <th>10829</th>\n",
       "      <td>4</td>\n",
       "      <td>0</td>\n",
       "      <td>1</td>\n",
       "      <td>2</td>\n",
       "      <td>17.22</td>\n",
       "      <td>21.210</td>\n",
       "      <td>88</td>\n",
       "      <td>0.0</td>\n",
       "      <td>211</td>\n",
       "      <td>0</td>\n",
       "      <td>15</td>\n",
       "      <td>12</td>\n",
       "      <td>2012</td>\n",
       "    </tr>\n",
       "    <tr>\n",
       "      <th>10846</th>\n",
       "      <td>4</td>\n",
       "      <td>0</td>\n",
       "      <td>1</td>\n",
       "      <td>1</td>\n",
       "      <td>15.58</td>\n",
       "      <td>19.695</td>\n",
       "      <td>94</td>\n",
       "      <td>0.0</td>\n",
       "      <td>662</td>\n",
       "      <td>1</td>\n",
       "      <td>8</td>\n",
       "      <td>12</td>\n",
       "      <td>2012</td>\n",
       "    </tr>\n",
       "    <tr>\n",
       "      <th>10860</th>\n",
       "      <td>4</td>\n",
       "      <td>0</td>\n",
       "      <td>1</td>\n",
       "      <td>1</td>\n",
       "      <td>13.94</td>\n",
       "      <td>16.665</td>\n",
       "      <td>49</td>\n",
       "      <td>0.0</td>\n",
       "      <td>132</td>\n",
       "      <td>1</td>\n",
       "      <td>22</td>\n",
       "      <td>12</td>\n",
       "      <td>2012</td>\n",
       "    </tr>\n",
       "    <tr>\n",
       "      <th>10862</th>\n",
       "      <td>4</td>\n",
       "      <td>0</td>\n",
       "      <td>1</td>\n",
       "      <td>1</td>\n",
       "      <td>12.30</td>\n",
       "      <td>15.910</td>\n",
       "      <td>61</td>\n",
       "      <td>0.0</td>\n",
       "      <td>41</td>\n",
       "      <td>2</td>\n",
       "      <td>0</td>\n",
       "      <td>12</td>\n",
       "      <td>2012</td>\n",
       "    </tr>\n",
       "  </tbody>\n",
       "</table>\n",
       "<p>1313 rows × 13 columns</p>\n",
       "</div>"
      ],
      "text/plain": [
       "      season holiday workingday weather   temp   atemp  humidity  windspeed  \\\n",
       "0          1       0          0       1   9.84  14.395        81        0.0   \n",
       "1          1       0          0       1   9.02  13.635        80        0.0   \n",
       "2          1       0          0       1   9.02  13.635        80        0.0   \n",
       "3          1       0          0       1   9.84  14.395        75        0.0   \n",
       "4          1       0          0       1   9.84  14.395        75        0.0   \n",
       "...      ...     ...        ...     ...    ...     ...       ...        ...   \n",
       "10826      4       0          1       2  16.40  20.455        87        0.0   \n",
       "10829      4       0          1       2  17.22  21.210        88        0.0   \n",
       "10846      4       0          1       1  15.58  19.695        94        0.0   \n",
       "10860      4       0          1       1  13.94  16.665        49        0.0   \n",
       "10862      4       0          1       1  12.30  15.910        61        0.0   \n",
       "\n",
       "       count dayofweek hour month  year  \n",
       "0         16         5    0     1  2011  \n",
       "1         40         5    1     1  2011  \n",
       "2         32         5    2     1  2011  \n",
       "3         13         5    3     1  2011  \n",
       "4          1         5    4     1  2011  \n",
       "...      ...       ...  ...   ...   ...  \n",
       "10826    232         0   12    12  2012  \n",
       "10829    211         0   15    12  2012  \n",
       "10846    662         1    8    12  2012  \n",
       "10860    132         1   22    12  2012  \n",
       "10862     41         2    0    12  2012  \n",
       "\n",
       "[1313 rows x 13 columns]"
      ]
     },
     "execution_count": 1243,
     "metadata": {},
     "output_type": "execute_result"
    }
   ],
   "source": [
    "df[df[\"windspeed\"] == 0]"
   ]
  },
  {
   "cell_type": "code",
   "execution_count": 1244,
   "metadata": {},
   "outputs": [],
   "source": [
    "windspeedGroupByMonths = pd.DataFrame(df.groupby([\"windspeed\",\"month\"]))"
   ]
  },
  {
   "cell_type": "code",
   "execution_count": 1245,
   "metadata": {},
   "outputs": [
    {
     "data": {
      "text/plain": [
       "0        True\n",
       "1        True\n",
       "2        True\n",
       "3        True\n",
       "4        True\n",
       "         ... \n",
       "10881    True\n",
       "10882    True\n",
       "10883    True\n",
       "10884    True\n",
       "10885    True\n",
       "Name: month, Length: 10886, dtype: bool"
      ]
     },
     "execution_count": 1245,
     "metadata": {},
     "output_type": "execute_result"
    }
   ],
   "source": [
    "df_windspeed = df.copy()\n",
    "df_windspeed[\"month\"] == pd.Categorical(df_windspeed[\"month\"])"
   ]
  },
  {
   "cell_type": "code",
   "execution_count": 1246,
   "metadata": {},
   "outputs": [
    {
     "data": {
      "text/plain": [
       "month\n",
       "1     14.582959\n",
       "2     13.963707\n",
       "3     15.363249\n",
       "4     15.581090\n",
       "5     12.293956\n",
       "6     12.348930\n",
       "7     11.019928\n",
       "8     11.931179\n",
       "9     11.575698\n",
       "10    11.226457\n",
       "11    13.126587\n",
       "12    10.682489\n",
       "Name: windspeed, dtype: float64"
      ]
     },
     "execution_count": 1246,
     "metadata": {},
     "output_type": "execute_result"
    }
   ],
   "source": [
    "df_windspeed.groupby(\"month\")[\"windspeed\"].mean()"
   ]
  },
  {
   "cell_type": "markdown",
   "metadata": {},
   "source": [
    "Ici on la moyenne de la valeurs windspeed par mois. Je vais donc remplacer les valeurs égale à zero avec la valeur moyenne du mois. "
   ]
  },
  {
   "cell_type": "markdown",
   "metadata": {},
   "source": [
    "A default de reussir à faire cette opération de manière \"propre\" j'ai fais comme ceci:"
   ]
  },
  {
   "cell_type": "code",
   "execution_count": 1247,
   "metadata": {},
   "outputs": [],
   "source": [
    "df['windspeed'] = np.where( ( (df['windspeed'] == 0) & (df['month'] == 1) ), 14.58, df['windspeed'])\n",
    "df['windspeed'] = np.where( ( (df['windspeed'] == 0) & (df['month'] == 2) ), 13.96, df['windspeed'])\n",
    "df['windspeed'] = np.where( ( (df['windspeed'] == 0) & (df['month'] == 3) ), 15.36, df['windspeed'])\n",
    "df['windspeed'] = np.where( ( (df['windspeed'] == 0) & (df['month'] == 4) ), 15.58, df['windspeed'])\n",
    "df['windspeed'] = np.where( ( (df['windspeed'] == 0) & (df['month'] == 5) ), 12.29, df['windspeed'])\n",
    "df['windspeed'] = np.where( ( (df['windspeed'] == 0) & (df['month'] == 6) ), 12.34, df['windspeed'])\n",
    "df['windspeed'] = np.where( ( (df['windspeed'] == 0) & (df['month'] == 7) ), 11.01, df['windspeed'])\n",
    "df['windspeed'] = np.where( ( (df['windspeed'] == 0) & (df['month'] == 8) ), 11.93, df['windspeed'])\n",
    "df['windspeed'] = np.where( ( (df['windspeed'] == 0) & (df['month'] == 9) ), 11.57, df['windspeed'])\n",
    "df['windspeed'] = np.where( ( (df['windspeed'] == 0) & (df['month'] == 10) ), 11.22, df['windspeed'])\n",
    "df['windspeed'] = np.where( ( (df['windspeed'] == 0) & (df['month'] == 11) ), 13.12, df['windspeed'])\n",
    "df['windspeed'] = np.where( ( (df['windspeed'] == 0) & (df['month'] == 12) ), 10.68, df['windspeed'])\n"
   ]
  },
  {
   "cell_type": "code",
   "execution_count": 1248,
   "metadata": {},
   "outputs": [
    {
     "data": {
      "text/html": [
       "<div>\n",
       "<style scoped>\n",
       "    .dataframe tbody tr th:only-of-type {\n",
       "        vertical-align: middle;\n",
       "    }\n",
       "\n",
       "    .dataframe tbody tr th {\n",
       "        vertical-align: top;\n",
       "    }\n",
       "\n",
       "    .dataframe thead th {\n",
       "        text-align: right;\n",
       "    }\n",
       "</style>\n",
       "<table border=\"1\" class=\"dataframe\">\n",
       "  <thead>\n",
       "    <tr style=\"text-align: right;\">\n",
       "      <th></th>\n",
       "      <th>season</th>\n",
       "      <th>holiday</th>\n",
       "      <th>workingday</th>\n",
       "      <th>weather</th>\n",
       "      <th>temp</th>\n",
       "      <th>atemp</th>\n",
       "      <th>humidity</th>\n",
       "      <th>windspeed</th>\n",
       "      <th>count</th>\n",
       "      <th>dayofweek</th>\n",
       "      <th>hour</th>\n",
       "      <th>month</th>\n",
       "      <th>year</th>\n",
       "    </tr>\n",
       "  </thead>\n",
       "  <tbody>\n",
       "  </tbody>\n",
       "</table>\n",
       "</div>"
      ],
      "text/plain": [
       "Empty DataFrame\n",
       "Columns: [season, holiday, workingday, weather, temp, atemp, humidity, windspeed, count, dayofweek, hour, month, year]\n",
       "Index: []"
      ]
     },
     "execution_count": 1248,
     "metadata": {},
     "output_type": "execute_result"
    }
   ],
   "source": [
    "df[df[\"windspeed\"] == 0]"
   ]
  },
  {
   "cell_type": "markdown",
   "metadata": {},
   "source": [
    "# Exploration des variables catégorie"
   ]
  },
  {
   "cell_type": "code",
   "execution_count": 1249,
   "metadata": {},
   "outputs": [
    {
     "name": "stdout",
     "output_type": "stream",
     "text": [
      "season has 4 unique values.\n",
      "holiday has 2 unique values.\n",
      "workingday has 2 unique values.\n",
      "weather has 4 unique values.\n",
      "temp has 49 unique values.\n",
      "atemp has 60 unique values.\n",
      "humidity has 89 unique values.\n",
      "windspeed has 39 unique values.\n",
      "count has 822 unique values.\n",
      "dayofweek has 7 unique values.\n",
      "hour has 24 unique values.\n",
      "month has 12 unique values.\n",
      "year has 2 unique values.\n"
     ]
    }
   ],
   "source": [
    "#Petit rappel\n",
    "for colname, serie in df.iteritems():\n",
    "    print(colname + \" has \" + str(serie.drop_duplicates().shape[0]) + \" unique values.\")"
   ]
  },
  {
   "cell_type": "code",
   "execution_count": 1250,
   "metadata": {},
   "outputs": [
    {
     "data": {
      "text/plain": [
       "[Text(0, 0, '1'), Text(1, 0, '2'), Text(2, 0, '3'), Text(3, 0, '4')]"
      ]
     },
     "execution_count": 1250,
     "metadata": {},
     "output_type": "execute_result"
    },
    {
     "data": {
      "image/png": "[encoded data removed]",
      "text/plain": [
       "<Figure size 720x360 with 1 Axes>"
      ]
     },
     "metadata": {},
     "output_type": "display_data"
    }
   ],
   "source": [
    "plt.figure(figsize=(10,5))\n",
    "chart = sns.countplot(x = 'weather', data = df, palette='Set1')\n",
    "chart.set_xticklabels(chart.get_xticklabels())\n",
    "\n",
    "#weather - 1: Dégagé à nuageux, 2 : Brouillard, 3 : Légère pluie ou neige, 4 : Fortes averses ou neiges"
   ]
  },
  {
   "cell_type": "markdown",
   "metadata": {},
   "source": [
    "Je remarque qu'il n'y a que 1 exemple de jour avec une forte averse. \n",
    "Cette exemple seras sois dans le train sois dans le test donc on peur supprimer cette enregistrement\n"
   ]
  },
  {
   "cell_type": "code",
   "execution_count": 1251,
   "metadata": {},
   "outputs": [
    {
     "data": {
      "text/html": [
       "<div>\n",
       "<style scoped>\n",
       "    .dataframe tbody tr th:only-of-type {\n",
       "        vertical-align: middle;\n",
       "    }\n",
       "\n",
       "    .dataframe tbody tr th {\n",
       "        vertical-align: top;\n",
       "    }\n",
       "\n",
       "    .dataframe thead th {\n",
       "        text-align: right;\n",
       "    }\n",
       "</style>\n",
       "<table border=\"1\" class=\"dataframe\">\n",
       "  <thead>\n",
       "    <tr style=\"text-align: right;\">\n",
       "      <th></th>\n",
       "      <th>season</th>\n",
       "      <th>holiday</th>\n",
       "      <th>workingday</th>\n",
       "      <th>weather</th>\n",
       "      <th>temp</th>\n",
       "      <th>atemp</th>\n",
       "      <th>humidity</th>\n",
       "      <th>windspeed</th>\n",
       "      <th>count</th>\n",
       "      <th>dayofweek</th>\n",
       "      <th>hour</th>\n",
       "      <th>month</th>\n",
       "      <th>year</th>\n",
       "    </tr>\n",
       "  </thead>\n",
       "  <tbody>\n",
       "    <tr>\n",
       "      <th>5631</th>\n",
       "      <td>1</td>\n",
       "      <td>0</td>\n",
       "      <td>1</td>\n",
       "      <td>4</td>\n",
       "      <td>8.2</td>\n",
       "      <td>11.365</td>\n",
       "      <td>86</td>\n",
       "      <td>6.0032</td>\n",
       "      <td>164</td>\n",
       "      <td>0</td>\n",
       "      <td>18</td>\n",
       "      <td>1</td>\n",
       "      <td>2012</td>\n",
       "    </tr>\n",
       "  </tbody>\n",
       "</table>\n",
       "</div>"
      ],
      "text/plain": [
       "     season holiday workingday weather  temp   atemp  humidity  windspeed  \\\n",
       "5631      1       0          1       4   8.2  11.365        86     6.0032   \n",
       "\n",
       "      count dayofweek hour month  year  \n",
       "5631    164         0   18     1  2012  "
      ]
     },
     "execution_count": 1251,
     "metadata": {},
     "output_type": "execute_result"
    }
   ],
   "source": [
    "df[df[\"weather\"]==4]"
   ]
  },
  {
   "cell_type": "code",
   "execution_count": 1252,
   "metadata": {},
   "outputs": [],
   "source": [
    "df = df.drop(5631)"
   ]
  },
  {
   "cell_type": "markdown",
   "metadata": {},
   "source": [
    "On enleve carrement la catégorie 4"
   ]
  },
  {
   "cell_type": "code",
   "execution_count": 1253,
   "metadata": {},
   "outputs": [],
   "source": [
    "df .weather = df.weather.cat.remove_unused_categories()"
   ]
  },
  {
   "cell_type": "code",
   "execution_count": 1254,
   "metadata": {},
   "outputs": [
    {
     "data": {
      "text/plain": [
       "<AxesSubplot:xlabel='weather', ylabel='count'>"
      ]
     },
     "execution_count": 1254,
     "metadata": {},
     "output_type": "execute_result"
    },
    {
     "data": {
      "image/png": "[encoded data removed]",
      "text/plain": [
       "<Figure size 432x288 with 2 Axes>"
      ]
     },
     "metadata": {},
     "output_type": "display_data"
    }
   ],
   "source": [
    "fig, axes = plt.subplots(2, 1)\n",
    "fig.suptitle('Weather countplot & Weather/Count distribution')\n",
    "sns.countplot(ax=axes[0], x = 'weather', data = df, palette='Set1')\n",
    "sns.violinplot(ax=axes[1], data = df, x = 'weather', y = 'count')"
   ]
  },
  {
   "cell_type": "code",
   "execution_count": 1255,
   "metadata": {},
   "outputs": [
    {
     "data": {
      "text/plain": [
       "<AxesSubplot:xlabel='weather', ylabel='count'>"
      ]
     },
     "execution_count": 1255,
     "metadata": {},
     "output_type": "execute_result"
    },
    {
     "data": {
      "image/png": "[encoded data removed]",
      "text/plain": [
       "<Figure size 432x288 with 1 Axes>"
      ]
     },
     "metadata": {},
     "output_type": "display_data"
    }
   ],
   "source": [
    "sns.boxplot( data = df, x = 'weather', y = 'count')"
   ]
  },
  {
   "cell_type": "markdown",
   "metadata": {},
   "source": [
    "Je remarque holiday et workinday sont redondant. Et j'ai l'impression qu'il y a surement une meilleur façon de représenter les Jours de vacances, les week-end et les jours travaillé. Je reprendrais ce raisonement dans la suite de l'analyse. "
   ]
  },
  {
   "cell_type": "code",
   "execution_count": 1256,
   "metadata": {
    "scrolled": true
   },
   "outputs": [
    {
     "data": {
      "text/plain": [
       "<AxesSubplot:xlabel='holiday', ylabel='count'>"
      ]
     },
     "execution_count": 1256,
     "metadata": {},
     "output_type": "execute_result"
    },
    {
     "data": {
      "image/png": "[encoded data removed]",
      "text/plain": [
       "<Figure size 432x288 with 2 Axes>"
      ]
     },
     "metadata": {},
     "output_type": "display_data"
    }
   ],
   "source": [
    "fig, axes = plt.subplots(2, 1)\n",
    "fig.suptitle('Holiday countplot & Holiday/Count distribution')\n",
    "sns.countplot(ax=axes[0], x = 'holiday', data = df, palette='Set1')\n",
    "sns.violinplot(ax=axes[1], data = df, x = 'holiday', y = 'count')"
   ]
  },
  {
   "cell_type": "code",
   "execution_count": 1257,
   "metadata": {},
   "outputs": [
    {
     "data": {
      "text/plain": [
       "<AxesSubplot:xlabel='holiday', ylabel='count'>"
      ]
     },
     "execution_count": 1257,
     "metadata": {},
     "output_type": "execute_result"
    },
    {
     "data": {
      "image/png": "[encoded data removed]",
      "text/plain": [
       "<Figure size 432x288 with 1 Axes>"
      ]
     },
     "metadata": {},
     "output_type": "display_data"
    }
   ],
   "source": [
    "sns.boxplot( data = df, x = 'holiday', y = 'count')"
   ]
  },
  {
   "cell_type": "code",
   "execution_count": 1258,
   "metadata": {
    "scrolled": true
   },
   "outputs": [
    {
     "data": {
      "text/plain": [
       "<AxesSubplot:xlabel='workingday', ylabel='count'>"
      ]
     },
     "execution_count": 1258,
     "metadata": {},
     "output_type": "execute_result"
    },
    {
     "data": {
      "image/png": "[encoded data removed]",
      "text/plain": [
       "<Figure size 432x288 with 2 Axes>"
      ]
     },
     "metadata": {},
     "output_type": "display_data"
    }
   ],
   "source": [
    "fig, axes = plt.subplots(2, 1)\n",
    "fig.suptitle('workingday countplot & workingday/Count distribution')\n",
    "sns.countplot(ax=axes[0], x = 'workingday', data = df, palette='Set1')\n",
    "sns.violinplot(ax=axes[1], data = df, x = 'workingday', y = 'count')"
   ]
  },
  {
   "cell_type": "code",
   "execution_count": 1259,
   "metadata": {},
   "outputs": [
    {
     "data": {
      "text/plain": [
       "<AxesSubplot:xlabel='workingday', ylabel='count'>"
      ]
     },
     "execution_count": 1259,
     "metadata": {},
     "output_type": "execute_result"
    },
    {
     "data": {
      "image/png": "[encoded data removed]",
      "text/plain": [
       "<Figure size 432x288 with 1 Axes>"
      ]
     },
     "metadata": {},
     "output_type": "display_data"
    }
   ],
   "source": [
    "sns.boxplot( data = df, x = 'workingday', y = 'count')"
   ]
  },
  {
   "cell_type": "markdown",
   "metadata": {},
   "source": [
    "On peut voir avec les graphiques précedent la corrélation entre la variable weather et count. Pour les variables workingday et holiday, j'ai l'impression qu'il y a une meilleur façon de traduire cette aspect en donnée et qu'elles pourraient être redondant entre elles. Mais je ne vois pas comment faire mieux à l'heure actuelle. \n",
    "\n",
    "On peut observer des outliers lorsque workingday=1 et holiday=0"
   ]
  },
  {
   "cell_type": "markdown",
   "metadata": {},
   "source": [
    "## Exploration des variables continues"
   ]
  },
  {
   "cell_type": "markdown",
   "metadata": {},
   "source": [
    "Pour m'attaquer à l'exploration des variables continue je vais d'abord dégrossir avec une heatmap de correlation générale:\n"
   ]
  },
  {
   "cell_type": "code",
   "execution_count": 1260,
   "metadata": {
    "scrolled": true
   },
   "outputs": [
    {
     "data": {
      "image/png": "[encoded data removed]",
      "text/plain": [
       "<Figure size 432x288 with 2 Axes>"
      ]
     },
     "metadata": {},
     "output_type": "display_data"
    }
   ],
   "source": [
    "sns.heatmap(df.corr(), cmap=\"YlOrRd\")\n",
    "plt.title(\"Corrélations des variables continues\")\n",
    "plt.show()"
   ]
  },
  {
   "cell_type": "markdown",
   "metadata": {},
   "source": [
    "\n"
   ]
  },
  {
   "cell_type": "markdown",
   "metadata": {},
   "source": [
    "Observations:\n",
    "- Les variables temp et atemp ont une bonne corrélation avec notre variable cible (count). Elles pourrait être utile à notre modèle, Mais elles sont trop corrélé entre elle. Et ensemble elles n'apportent pas plus d'information que toute seul. Je pense conservé uniquement temp. Etant donnée que la temperature ressenti (atemp) est calculé à partir de la temperature et de l'humidité. ET que l'on a déjà l'humidité dans notre dataset\n",
    "-Himidité semble aussi avoir une corrélation mais plis faible.\n",
    "-Pour windspeed ça me semble proche de zero. ON va regarder ça de plus pres. \n"
   ]
  },
  {
   "cell_type": "code",
   "execution_count": 1261,
   "metadata": {},
   "outputs": [
    {
     "data": {
      "text/html": [
       "<div>\n",
       "<style scoped>\n",
       "    .dataframe tbody tr th:only-of-type {\n",
       "        vertical-align: middle;\n",
       "    }\n",
       "\n",
       "    .dataframe tbody tr th {\n",
       "        vertical-align: top;\n",
       "    }\n",
       "\n",
       "    .dataframe thead th {\n",
       "        text-align: right;\n",
       "    }\n",
       "</style>\n",
       "<table border=\"1\" class=\"dataframe\">\n",
       "  <thead>\n",
       "    <tr style=\"text-align: right;\">\n",
       "      <th></th>\n",
       "      <th>temp</th>\n",
       "      <th>atemp</th>\n",
       "      <th>humidity</th>\n",
       "      <th>windspeed</th>\n",
       "      <th>count</th>\n",
       "    </tr>\n",
       "  </thead>\n",
       "  <tbody>\n",
       "    <tr>\n",
       "      <th>temp</th>\n",
       "      <td>1.000000</td>\n",
       "      <td>0.984945</td>\n",
       "      <td>-0.064783</td>\n",
       "      <td>-0.044975</td>\n",
       "      <td>0.394476</td>\n",
       "    </tr>\n",
       "    <tr>\n",
       "      <th>atemp</th>\n",
       "      <td>0.984945</td>\n",
       "      <td>1.000000</td>\n",
       "      <td>-0.043376</td>\n",
       "      <td>-0.075156</td>\n",
       "      <td>0.389802</td>\n",
       "    </tr>\n",
       "    <tr>\n",
       "      <th>humidity</th>\n",
       "      <td>-0.064783</td>\n",
       "      <td>-0.043376</td>\n",
       "      <td>1.000000</td>\n",
       "      <td>-0.318922</td>\n",
       "      <td>-0.317377</td>\n",
       "    </tr>\n",
       "    <tr>\n",
       "      <th>windspeed</th>\n",
       "      <td>-0.044975</td>\n",
       "      <td>-0.075156</td>\n",
       "      <td>-0.318922</td>\n",
       "      <td>1.000000</td>\n",
       "      <td>0.082135</td>\n",
       "    </tr>\n",
       "    <tr>\n",
       "      <th>count</th>\n",
       "      <td>0.394476</td>\n",
       "      <td>0.389802</td>\n",
       "      <td>-0.317377</td>\n",
       "      <td>0.082135</td>\n",
       "      <td>1.000000</td>\n",
       "    </tr>\n",
       "  </tbody>\n",
       "</table>\n",
       "</div>"
      ],
      "text/plain": [
       "               temp     atemp  humidity  windspeed     count\n",
       "temp       1.000000  0.984945 -0.064783  -0.044975  0.394476\n",
       "atemp      0.984945  1.000000 -0.043376  -0.075156  0.389802\n",
       "humidity  -0.064783 -0.043376  1.000000  -0.318922 -0.317377\n",
       "windspeed -0.044975 -0.075156 -0.318922   1.000000  0.082135\n",
       "count      0.394476  0.389802 -0.317377   0.082135  1.000000"
      ]
     },
     "execution_count": 1261,
     "metadata": {},
     "output_type": "execute_result"
    }
   ],
   "source": [
    "df.corr()"
   ]
  },
  {
   "cell_type": "markdown",
   "metadata": {},
   "source": [
    "Je trouves toutes les variables intéréssante à utilisé à part atemp. L'humidité et la vistesse du vent semble avoir une petite correlation qui pourrais aider notre modèle.\n"
   ]
  },
  {
   "cell_type": "code",
   "execution_count": 1262,
   "metadata": {
    "scrolled": true
   },
   "outputs": [
    {
     "data": {
      "text/html": [
       "<div>\n",
       "<style scoped>\n",
       "    .dataframe tbody tr th:only-of-type {\n",
       "        vertical-align: middle;\n",
       "    }\n",
       "\n",
       "    .dataframe tbody tr th {\n",
       "        vertical-align: top;\n",
       "    }\n",
       "\n",
       "    .dataframe thead th {\n",
       "        text-align: right;\n",
       "    }\n",
       "</style>\n",
       "<table border=\"1\" class=\"dataframe\">\n",
       "  <thead>\n",
       "    <tr style=\"text-align: right;\">\n",
       "      <th></th>\n",
       "      <th>season</th>\n",
       "      <th>holiday</th>\n",
       "      <th>workingday</th>\n",
       "      <th>weather</th>\n",
       "      <th>temp</th>\n",
       "      <th>humidity</th>\n",
       "      <th>windspeed</th>\n",
       "      <th>count</th>\n",
       "      <th>dayofweek</th>\n",
       "      <th>hour</th>\n",
       "      <th>month</th>\n",
       "      <th>year</th>\n",
       "    </tr>\n",
       "  </thead>\n",
       "  <tbody>\n",
       "    <tr>\n",
       "      <th>0</th>\n",
       "      <td>1</td>\n",
       "      <td>0</td>\n",
       "      <td>0</td>\n",
       "      <td>1</td>\n",
       "      <td>9.84</td>\n",
       "      <td>81</td>\n",
       "      <td>14.5800</td>\n",
       "      <td>16</td>\n",
       "      <td>5</td>\n",
       "      <td>0</td>\n",
       "      <td>1</td>\n",
       "      <td>2011</td>\n",
       "    </tr>\n",
       "    <tr>\n",
       "      <th>1</th>\n",
       "      <td>1</td>\n",
       "      <td>0</td>\n",
       "      <td>0</td>\n",
       "      <td>1</td>\n",
       "      <td>9.02</td>\n",
       "      <td>80</td>\n",
       "      <td>14.5800</td>\n",
       "      <td>40</td>\n",
       "      <td>5</td>\n",
       "      <td>1</td>\n",
       "      <td>1</td>\n",
       "      <td>2011</td>\n",
       "    </tr>\n",
       "    <tr>\n",
       "      <th>2</th>\n",
       "      <td>1</td>\n",
       "      <td>0</td>\n",
       "      <td>0</td>\n",
       "      <td>1</td>\n",
       "      <td>9.02</td>\n",
       "      <td>80</td>\n",
       "      <td>14.5800</td>\n",
       "      <td>32</td>\n",
       "      <td>5</td>\n",
       "      <td>2</td>\n",
       "      <td>1</td>\n",
       "      <td>2011</td>\n",
       "    </tr>\n",
       "    <tr>\n",
       "      <th>3</th>\n",
       "      <td>1</td>\n",
       "      <td>0</td>\n",
       "      <td>0</td>\n",
       "      <td>1</td>\n",
       "      <td>9.84</td>\n",
       "      <td>75</td>\n",
       "      <td>14.5800</td>\n",
       "      <td>13</td>\n",
       "      <td>5</td>\n",
       "      <td>3</td>\n",
       "      <td>1</td>\n",
       "      <td>2011</td>\n",
       "    </tr>\n",
       "    <tr>\n",
       "      <th>4</th>\n",
       "      <td>1</td>\n",
       "      <td>0</td>\n",
       "      <td>0</td>\n",
       "      <td>1</td>\n",
       "      <td>9.84</td>\n",
       "      <td>75</td>\n",
       "      <td>14.5800</td>\n",
       "      <td>1</td>\n",
       "      <td>5</td>\n",
       "      <td>4</td>\n",
       "      <td>1</td>\n",
       "      <td>2011</td>\n",
       "    </tr>\n",
       "    <tr>\n",
       "      <th>...</th>\n",
       "      <td>...</td>\n",
       "      <td>...</td>\n",
       "      <td>...</td>\n",
       "      <td>...</td>\n",
       "      <td>...</td>\n",
       "      <td>...</td>\n",
       "      <td>...</td>\n",
       "      <td>...</td>\n",
       "      <td>...</td>\n",
       "      <td>...</td>\n",
       "      <td>...</td>\n",
       "      <td>...</td>\n",
       "    </tr>\n",
       "    <tr>\n",
       "      <th>10881</th>\n",
       "      <td>4</td>\n",
       "      <td>0</td>\n",
       "      <td>1</td>\n",
       "      <td>1</td>\n",
       "      <td>15.58</td>\n",
       "      <td>50</td>\n",
       "      <td>26.0027</td>\n",
       "      <td>336</td>\n",
       "      <td>2</td>\n",
       "      <td>19</td>\n",
       "      <td>12</td>\n",
       "      <td>2012</td>\n",
       "    </tr>\n",
       "    <tr>\n",
       "      <th>10882</th>\n",
       "      <td>4</td>\n",
       "      <td>0</td>\n",
       "      <td>1</td>\n",
       "      <td>1</td>\n",
       "      <td>14.76</td>\n",
       "      <td>57</td>\n",
       "      <td>15.0013</td>\n",
       "      <td>241</td>\n",
       "      <td>2</td>\n",
       "      <td>20</td>\n",
       "      <td>12</td>\n",
       "      <td>2012</td>\n",
       "    </tr>\n",
       "    <tr>\n",
       "      <th>10883</th>\n",
       "      <td>4</td>\n",
       "      <td>0</td>\n",
       "      <td>1</td>\n",
       "      <td>1</td>\n",
       "      <td>13.94</td>\n",
       "      <td>61</td>\n",
       "      <td>15.0013</td>\n",
       "      <td>168</td>\n",
       "      <td>2</td>\n",
       "      <td>21</td>\n",
       "      <td>12</td>\n",
       "      <td>2012</td>\n",
       "    </tr>\n",
       "    <tr>\n",
       "      <th>10884</th>\n",
       "      <td>4</td>\n",
       "      <td>0</td>\n",
       "      <td>1</td>\n",
       "      <td>1</td>\n",
       "      <td>13.94</td>\n",
       "      <td>61</td>\n",
       "      <td>6.0032</td>\n",
       "      <td>129</td>\n",
       "      <td>2</td>\n",
       "      <td>22</td>\n",
       "      <td>12</td>\n",
       "      <td>2012</td>\n",
       "    </tr>\n",
       "    <tr>\n",
       "      <th>10885</th>\n",
       "      <td>4</td>\n",
       "      <td>0</td>\n",
       "      <td>1</td>\n",
       "      <td>1</td>\n",
       "      <td>13.12</td>\n",
       "      <td>66</td>\n",
       "      <td>8.9981</td>\n",
       "      <td>88</td>\n",
       "      <td>2</td>\n",
       "      <td>23</td>\n",
       "      <td>12</td>\n",
       "      <td>2012</td>\n",
       "    </tr>\n",
       "  </tbody>\n",
       "</table>\n",
       "<p>10885 rows × 12 columns</p>\n",
       "</div>"
      ],
      "text/plain": [
       "      season holiday workingday weather   temp  humidity  windspeed  count  \\\n",
       "0          1       0          0       1   9.84        81    14.5800     16   \n",
       "1          1       0          0       1   9.02        80    14.5800     40   \n",
       "2          1       0          0       1   9.02        80    14.5800     32   \n",
       "3          1       0          0       1   9.84        75    14.5800     13   \n",
       "4          1       0          0       1   9.84        75    14.5800      1   \n",
       "...      ...     ...        ...     ...    ...       ...        ...    ...   \n",
       "10881      4       0          1       1  15.58        50    26.0027    336   \n",
       "10882      4       0          1       1  14.76        57    15.0013    241   \n",
       "10883      4       0          1       1  13.94        61    15.0013    168   \n",
       "10884      4       0          1       1  13.94        61     6.0032    129   \n",
       "10885      4       0          1       1  13.12        66     8.9981     88   \n",
       "\n",
       "      dayofweek hour month  year  \n",
       "0             5    0     1  2011  \n",
       "1             5    1     1  2011  \n",
       "2             5    2     1  2011  \n",
       "3             5    3     1  2011  \n",
       "4             5    4     1  2011  \n",
       "...         ...  ...   ...   ...  \n",
       "10881         2   19    12  2012  \n",
       "10882         2   20    12  2012  \n",
       "10883         2   21    12  2012  \n",
       "10884         2   22    12  2012  \n",
       "10885         2   23    12  2012  \n",
       "\n",
       "[10885 rows x 12 columns]"
      ]
     },
     "execution_count": 1262,
     "metadata": {},
     "output_type": "execute_result"
    }
   ],
   "source": [
    "df.drop(['atemp'], axis=1)"
   ]
  },
  {
   "cell_type": "markdown",
   "metadata": {},
   "source": [
    "On confirme la correlationpositif de \"temp\" et la correlation negative de \"humidity\". Enfin \"windspeed\" n'est pas vraiment correler comme plus haut. "
   ]
  },
  {
   "cell_type": "code",
   "execution_count": 1263,
   "metadata": {},
   "outputs": [
    {
     "data": {
      "text/plain": [
       "<AxesSubplot:xlabel='humidity', ylabel='count'>"
      ]
     },
     "execution_count": 1263,
     "metadata": {},
     "output_type": "execute_result"
    },
    {
     "data": {
      "image/png": "[encoded data removed]",
      "text/plain": [
       "<Figure size 720x720 with 3 Axes>"
      ]
     },
     "metadata": {},
     "output_type": "display_data"
    }
   ],
   "source": [
    "fig, axes = plt.subplots(3, 1)\n",
    "fig.set_size_inches(10,10)\n",
    "sns.regplot(ax=axes[0], x=\"temp\", y=\"count\", data=df)\n",
    "sns.regplot(ax=axes[1], x=\"windspeed\", y=\"count\", data=df)\n",
    "sns.regplot(ax=axes[2], x=\"humidity\", y=\"count\", data=df)"
   ]
  },
  {
   "cell_type": "markdown",
   "metadata": {},
   "source": [
    "# Outlier "
   ]
  },
  {
   "cell_type": "markdown",
   "metadata": {},
   "source": [
    "Après quelque recherche j'ai voulu utiliser le z-score sur la colonnes count pour detecter et supprimer les outliers identifié sur les boxplots. J'avais avant cela utilisé le z-core sur toutes les collonnes mais je perdais plus de 800 lignes donc je pense que c'était contre productif. "
   ]
  },
  {
   "cell_type": "code",
   "execution_count": 1264,
   "metadata": {},
   "outputs": [
    {
     "data": {
      "text/html": [
       "<div>\n",
       "<style scoped>\n",
       "    .dataframe tbody tr th:only-of-type {\n",
       "        vertical-align: middle;\n",
       "    }\n",
       "\n",
       "    .dataframe tbody tr th {\n",
       "        vertical-align: top;\n",
       "    }\n",
       "\n",
       "    .dataframe thead th {\n",
       "        text-align: right;\n",
       "    }\n",
       "</style>\n",
       "<table border=\"1\" class=\"dataframe\">\n",
       "  <thead>\n",
       "    <tr style=\"text-align: right;\">\n",
       "      <th></th>\n",
       "      <th>season</th>\n",
       "      <th>holiday</th>\n",
       "      <th>workingday</th>\n",
       "      <th>weather</th>\n",
       "      <th>temp</th>\n",
       "      <th>atemp</th>\n",
       "      <th>humidity</th>\n",
       "      <th>windspeed</th>\n",
       "      <th>count</th>\n",
       "      <th>dayofweek</th>\n",
       "      <th>hour</th>\n",
       "      <th>month</th>\n",
       "      <th>year</th>\n",
       "    </tr>\n",
       "  </thead>\n",
       "  <tbody>\n",
       "    <tr>\n",
       "      <th>0</th>\n",
       "      <td>1</td>\n",
       "      <td>0</td>\n",
       "      <td>0</td>\n",
       "      <td>1</td>\n",
       "      <td>9.84</td>\n",
       "      <td>14.395</td>\n",
       "      <td>81</td>\n",
       "      <td>14.58</td>\n",
       "      <td>16</td>\n",
       "      <td>5</td>\n",
       "      <td>0</td>\n",
       "      <td>1</td>\n",
       "      <td>2011</td>\n",
       "    </tr>\n",
       "    <tr>\n",
       "      <th>1</th>\n",
       "      <td>1</td>\n",
       "      <td>0</td>\n",
       "      <td>0</td>\n",
       "      <td>1</td>\n",
       "      <td>9.02</td>\n",
       "      <td>13.635</td>\n",
       "      <td>80</td>\n",
       "      <td>14.58</td>\n",
       "      <td>40</td>\n",
       "      <td>5</td>\n",
       "      <td>1</td>\n",
       "      <td>1</td>\n",
       "      <td>2011</td>\n",
       "    </tr>\n",
       "    <tr>\n",
       "      <th>2</th>\n",
       "      <td>1</td>\n",
       "      <td>0</td>\n",
       "      <td>0</td>\n",
       "      <td>1</td>\n",
       "      <td>9.02</td>\n",
       "      <td>13.635</td>\n",
       "      <td>80</td>\n",
       "      <td>14.58</td>\n",
       "      <td>32</td>\n",
       "      <td>5</td>\n",
       "      <td>2</td>\n",
       "      <td>1</td>\n",
       "      <td>2011</td>\n",
       "    </tr>\n",
       "    <tr>\n",
       "      <th>3</th>\n",
       "      <td>1</td>\n",
       "      <td>0</td>\n",
       "      <td>0</td>\n",
       "      <td>1</td>\n",
       "      <td>9.84</td>\n",
       "      <td>14.395</td>\n",
       "      <td>75</td>\n",
       "      <td>14.58</td>\n",
       "      <td>13</td>\n",
       "      <td>5</td>\n",
       "      <td>3</td>\n",
       "      <td>1</td>\n",
       "      <td>2011</td>\n",
       "    </tr>\n",
       "    <tr>\n",
       "      <th>4</th>\n",
       "      <td>1</td>\n",
       "      <td>0</td>\n",
       "      <td>0</td>\n",
       "      <td>1</td>\n",
       "      <td>9.84</td>\n",
       "      <td>14.395</td>\n",
       "      <td>75</td>\n",
       "      <td>14.58</td>\n",
       "      <td>1</td>\n",
       "      <td>5</td>\n",
       "      <td>4</td>\n",
       "      <td>1</td>\n",
       "      <td>2011</td>\n",
       "    </tr>\n",
       "  </tbody>\n",
       "</table>\n",
       "</div>"
      ],
      "text/plain": [
       "  season holiday workingday weather  temp   atemp  humidity  windspeed  count  \\\n",
       "0      1       0          0       1  9.84  14.395        81      14.58     16   \n",
       "1      1       0          0       1  9.02  13.635        80      14.58     40   \n",
       "2      1       0          0       1  9.02  13.635        80      14.58     32   \n",
       "3      1       0          0       1  9.84  14.395        75      14.58     13   \n",
       "4      1       0          0       1  9.84  14.395        75      14.58      1   \n",
       "\n",
       "  dayofweek hour month  year  \n",
       "0         5    0     1  2011  \n",
       "1         5    1     1  2011  \n",
       "2         5    2     1  2011  \n",
       "3         5    3     1  2011  \n",
       "4         5    4     1  2011  "
      ]
     },
     "execution_count": 1264,
     "metadata": {},
     "output_type": "execute_result"
    }
   ],
   "source": [
    "df_noOutlier = df.copy()\n",
    "df_noOutlier.head()"
   ]
  },
  {
   "cell_type": "code",
   "execution_count": 1265,
   "metadata": {},
   "outputs": [
    {
     "name": "stdout",
     "output_type": "stream",
     "text": [
      "[0.9692643  0.83677321 0.88093691 ... 0.13015408 0.3454521  0.57179104]\n"
     ]
    }
   ],
   "source": [
    "#Calcul des z-score par ligne et columns count\n",
    "z = np.abs(stats.zscore(df_noOutlier[\"count\"]))\n",
    "print(z)"
   ]
  },
  {
   "cell_type": "code",
   "execution_count": 1266,
   "metadata": {},
   "outputs": [
    {
     "name": "stdout",
     "output_type": "stream",
     "text": [
      "(array([ 6657,  6658,  6682,  6778,  6848,  6849,  6872,  6873,  6896,\n",
      "        7016,  7087,  7183,  7184,  7231,  7232,  7256,  7280,  7399,\n",
      "        7472,  7495,  7615,  7616,  7639,  7640,  7654,  7663,  7783,\n",
      "        7784,  7807,  7808,  7832,  7855,  7856,  7879,  7951,  7952,\n",
      "        7999,  8000,  8023,  8024,  8047,  8143,  8144,  8191,  8359,\n",
      "        8360,  8383,  8384,  8407,  8408,  8431,  8432,  8455,  8527,\n",
      "        8528,  8551,  8552,  8599,  8600,  8623,  8624,  8638,  8647,\n",
      "        8648,  8671,  8743,  8744,  8767,  8768,  8782,  8791,  8792,\n",
      "        8815,  8816,  8911,  8912,  8935,  8936,  8959,  8960,  8983,\n",
      "        8984,  9007,  9151,  9152,  9175,  9176,  9199,  9200,  9223,\n",
      "        9224,  9266,  9295,  9296,  9310,  9319,  9320,  9334,  9343,\n",
      "        9344,  9358,  9367,  9368,  9382,  9391,  9392,  9414,  9463,\n",
      "        9464,  9502,  9511,  9512,  9526,  9535,  9574,  9583,  9584,\n",
      "        9598,  9607,  9608,  9622,  9631,  9632,  9650,  9727,  9728,\n",
      "        9742,  9751,  9752,  9766,  9775,  9777,  9790,  9799,  9862,\n",
      "        9871,  9886,  9895,  9896,  9910,  9919,  9920,  9934,  9943,\n",
      "        9944, 10518, 10533], dtype=int64),)\n"
     ]
    }
   ],
   "source": [
    "#affichage des index avec un z-score supèrieur à 3\n",
    "threshold = 3\n",
    "print(np.where(z > 3))"
   ]
  },
  {
   "cell_type": "code",
   "execution_count": 1267,
   "metadata": {},
   "outputs": [
    {
     "name": "stdout",
     "output_type": "stream",
     "text": [
      "3.259409553377711\n"
     ]
    }
   ],
   "source": [
    "#On regarde un example. ligne 6657. On peut voir que c'est la columns count qui à un z-score supèrieur à 3 pur cette exemple\n",
    "print(z[6657])"
   ]
  },
  {
   "cell_type": "code",
   "execution_count": 1268,
   "metadata": {},
   "outputs": [
    {
     "data": {
      "text/html": [
       "<div>\n",
       "<style scoped>\n",
       "    .dataframe tbody tr th:only-of-type {\n",
       "        vertical-align: middle;\n",
       "    }\n",
       "\n",
       "    .dataframe tbody tr th {\n",
       "        vertical-align: top;\n",
       "    }\n",
       "\n",
       "    .dataframe thead th {\n",
       "        text-align: right;\n",
       "    }\n",
       "</style>\n",
       "<table border=\"1\" class=\"dataframe\">\n",
       "  <thead>\n",
       "    <tr style=\"text-align: right;\">\n",
       "      <th></th>\n",
       "      <th>season</th>\n",
       "      <th>holiday</th>\n",
       "      <th>workingday</th>\n",
       "      <th>weather</th>\n",
       "      <th>temp</th>\n",
       "      <th>atemp</th>\n",
       "      <th>humidity</th>\n",
       "      <th>windspeed</th>\n",
       "      <th>count</th>\n",
       "      <th>dayofweek</th>\n",
       "      <th>hour</th>\n",
       "      <th>month</th>\n",
       "      <th>year</th>\n",
       "    </tr>\n",
       "  </thead>\n",
       "  <tbody>\n",
       "    <tr>\n",
       "      <th>6658</th>\n",
       "      <td>1</td>\n",
       "      <td>0</td>\n",
       "      <td>1</td>\n",
       "      <td>1</td>\n",
       "      <td>28.70</td>\n",
       "      <td>31.820</td>\n",
       "      <td>28</td>\n",
       "      <td>6.0032</td>\n",
       "      <td>782</td>\n",
       "      <td>2</td>\n",
       "      <td>17</td>\n",
       "      <td>3</td>\n",
       "      <td>2012</td>\n",
       "    </tr>\n",
       "    <tr>\n",
       "      <th>6659</th>\n",
       "      <td>1</td>\n",
       "      <td>0</td>\n",
       "      <td>1</td>\n",
       "      <td>1</td>\n",
       "      <td>28.70</td>\n",
       "      <td>31.820</td>\n",
       "      <td>32</td>\n",
       "      <td>15.3600</td>\n",
       "      <td>749</td>\n",
       "      <td>2</td>\n",
       "      <td>18</td>\n",
       "      <td>3</td>\n",
       "      <td>2012</td>\n",
       "    </tr>\n",
       "    <tr>\n",
       "      <th>6683</th>\n",
       "      <td>1</td>\n",
       "      <td>0</td>\n",
       "      <td>1</td>\n",
       "      <td>1</td>\n",
       "      <td>27.06</td>\n",
       "      <td>31.060</td>\n",
       "      <td>44</td>\n",
       "      <td>19.0012</td>\n",
       "      <td>746</td>\n",
       "      <td>3</td>\n",
       "      <td>18</td>\n",
       "      <td>3</td>\n",
       "      <td>2012</td>\n",
       "    </tr>\n",
       "    <tr>\n",
       "      <th>6779</th>\n",
       "      <td>1</td>\n",
       "      <td>0</td>\n",
       "      <td>1</td>\n",
       "      <td>1</td>\n",
       "      <td>26.24</td>\n",
       "      <td>31.060</td>\n",
       "      <td>57</td>\n",
       "      <td>16.9979</td>\n",
       "      <td>801</td>\n",
       "      <td>0</td>\n",
       "      <td>18</td>\n",
       "      <td>3</td>\n",
       "      <td>2012</td>\n",
       "    </tr>\n",
       "    <tr>\n",
       "      <th>6849</th>\n",
       "      <td>2</td>\n",
       "      <td>0</td>\n",
       "      <td>1</td>\n",
       "      <td>1</td>\n",
       "      <td>25.42</td>\n",
       "      <td>30.305</td>\n",
       "      <td>17</td>\n",
       "      <td>12.9980</td>\n",
       "      <td>757</td>\n",
       "      <td>1</td>\n",
       "      <td>17</td>\n",
       "      <td>4</td>\n",
       "      <td>2012</td>\n",
       "    </tr>\n",
       "    <tr>\n",
       "      <th>...</th>\n",
       "      <td>...</td>\n",
       "      <td>...</td>\n",
       "      <td>...</td>\n",
       "      <td>...</td>\n",
       "      <td>...</td>\n",
       "      <td>...</td>\n",
       "      <td>...</td>\n",
       "      <td>...</td>\n",
       "      <td>...</td>\n",
       "      <td>...</td>\n",
       "      <td>...</td>\n",
       "      <td>...</td>\n",
       "      <td>...</td>\n",
       "    </tr>\n",
       "    <tr>\n",
       "      <th>9935</th>\n",
       "      <td>4</td>\n",
       "      <td>0</td>\n",
       "      <td>1</td>\n",
       "      <td>1</td>\n",
       "      <td>18.86</td>\n",
       "      <td>22.725</td>\n",
       "      <td>82</td>\n",
       "      <td>16.9979</td>\n",
       "      <td>834</td>\n",
       "      <td>3</td>\n",
       "      <td>8</td>\n",
       "      <td>10</td>\n",
       "      <td>2012</td>\n",
       "    </tr>\n",
       "    <tr>\n",
       "      <th>9944</th>\n",
       "      <td>4</td>\n",
       "      <td>0</td>\n",
       "      <td>1</td>\n",
       "      <td>2</td>\n",
       "      <td>23.78</td>\n",
       "      <td>27.275</td>\n",
       "      <td>64</td>\n",
       "      <td>22.0028</td>\n",
       "      <td>890</td>\n",
       "      <td>3</td>\n",
       "      <td>17</td>\n",
       "      <td>10</td>\n",
       "      <td>2012</td>\n",
       "    </tr>\n",
       "    <tr>\n",
       "      <th>9945</th>\n",
       "      <td>4</td>\n",
       "      <td>0</td>\n",
       "      <td>1</td>\n",
       "      <td>2</td>\n",
       "      <td>22.96</td>\n",
       "      <td>26.515</td>\n",
       "      <td>64</td>\n",
       "      <td>22.0028</td>\n",
       "      <td>788</td>\n",
       "      <td>3</td>\n",
       "      <td>18</td>\n",
       "      <td>10</td>\n",
       "      <td>2012</td>\n",
       "    </tr>\n",
       "    <tr>\n",
       "      <th>10519</th>\n",
       "      <td>4</td>\n",
       "      <td>0</td>\n",
       "      <td>1</td>\n",
       "      <td>1</td>\n",
       "      <td>21.32</td>\n",
       "      <td>25.000</td>\n",
       "      <td>59</td>\n",
       "      <td>15.0013</td>\n",
       "      <td>743</td>\n",
       "      <td>1</td>\n",
       "      <td>17</td>\n",
       "      <td>12</td>\n",
       "      <td>2012</td>\n",
       "    </tr>\n",
       "    <tr>\n",
       "      <th>10534</th>\n",
       "      <td>4</td>\n",
       "      <td>0</td>\n",
       "      <td>1</td>\n",
       "      <td>2</td>\n",
       "      <td>18.04</td>\n",
       "      <td>21.970</td>\n",
       "      <td>58</td>\n",
       "      <td>19.0012</td>\n",
       "      <td>759</td>\n",
       "      <td>2</td>\n",
       "      <td>8</td>\n",
       "      <td>12</td>\n",
       "      <td>2012</td>\n",
       "    </tr>\n",
       "  </tbody>\n",
       "</table>\n",
       "<p>147 rows × 13 columns</p>\n",
       "</div>"
      ],
      "text/plain": [
       "      season holiday workingday weather   temp   atemp  humidity  windspeed  \\\n",
       "6658       1       0          1       1  28.70  31.820        28     6.0032   \n",
       "6659       1       0          1       1  28.70  31.820        32    15.3600   \n",
       "6683       1       0          1       1  27.06  31.060        44    19.0012   \n",
       "6779       1       0          1       1  26.24  31.060        57    16.9979   \n",
       "6849       2       0          1       1  25.42  30.305        17    12.9980   \n",
       "...      ...     ...        ...     ...    ...     ...       ...        ...   \n",
       "9935       4       0          1       1  18.86  22.725        82    16.9979   \n",
       "9944       4       0          1       2  23.78  27.275        64    22.0028   \n",
       "9945       4       0          1       2  22.96  26.515        64    22.0028   \n",
       "10519      4       0          1       1  21.32  25.000        59    15.0013   \n",
       "10534      4       0          1       2  18.04  21.970        58    19.0012   \n",
       "\n",
       "       count dayofweek hour month  year  \n",
       "6658     782         2   17     3  2012  \n",
       "6659     749         2   18     3  2012  \n",
       "6683     746         3   18     3  2012  \n",
       "6779     801         0   18     3  2012  \n",
       "6849     757         1   17     4  2012  \n",
       "...      ...       ...  ...   ...   ...  \n",
       "9935     834         3    8    10  2012  \n",
       "9944     890         3   17    10  2012  \n",
       "9945     788         3   18    10  2012  \n",
       "10519    743         1   17    12  2012  \n",
       "10534    759         2    8    12  2012  \n",
       "\n",
       "[147 rows x 13 columns]"
      ]
     },
     "execution_count": 1268,
     "metadata": {},
     "output_type": "execute_result"
    }
   ],
   "source": [
    "df_noOutlier.iloc[np.where(z > 3)]"
   ]
  },
  {
   "cell_type": "code",
   "execution_count": 1269,
   "metadata": {},
   "outputs": [
    {
     "data": {
      "text/plain": [
       "147"
      ]
     },
     "execution_count": 1269,
     "metadata": {},
     "output_type": "execute_result"
    }
   ],
   "source": [
    "#On a 147 outlier. Pour un dataset de + 10000 lignes c'est bon\n",
    "df_noOutlier.iloc[np.where(z > 3)].shape[0]"
   ]
  },
  {
   "cell_type": "code",
   "execution_count": 1270,
   "metadata": {},
   "outputs": [],
   "source": [
    "#On supprimes les outliers\n",
    "df_noOutlier = df_noOutlier[(z < 3)]"
   ]
  },
  {
   "cell_type": "code",
   "execution_count": 1271,
   "metadata": {},
   "outputs": [
    {
     "name": "stdout",
     "output_type": "stream",
     "text": [
      "147\n"
     ]
    }
   ],
   "source": [
    "#Nombre de ligne avec outlier supprimé\n",
    "print(df.shape[0] - df_noOutlier.shape[0])"
   ]
  },
  {
   "cell_type": "markdown",
   "metadata": {},
   "source": [
    "On vérifie le résultat"
   ]
  },
  {
   "cell_type": "code",
   "execution_count": 1272,
   "metadata": {},
   "outputs": [
    {
     "data": {
      "text/plain": [
       "<AxesSubplot:xlabel='count'>"
      ]
     },
     "execution_count": 1272,
     "metadata": {},
     "output_type": "execute_result"
    },
    {
     "data": {
      "image/png": "[encoded data removed]",
      "text/plain": [
       "<Figure size 432x288 with 2 Axes>"
      ]
     },
     "metadata": {},
     "output_type": "display_data"
    }
   ],
   "source": [
    "fig, axes = plt.subplots(2, 1, sharex=True)\n",
    "sns.boxplot(ax=axes[0], x=df['count'])\n",
    "sns.boxplot(ax=axes[1], x=df_noOutlier['count'])"
   ]
  },
  {
   "cell_type": "markdown",
   "metadata": {},
   "source": [
    "# Distribution des variables"
   ]
  },
  {
   "cell_type": "markdown",
   "metadata": {},
   "source": [
    "On va vérifier la distribution normal des variables. QQ plot est utilisé pour avoir une vue plus précise que l'histograme de la distribution des variable avec la loi normal. "
   ]
  },
  {
   "cell_type": "code",
   "execution_count": 1273,
   "metadata": {},
   "outputs": [
    {
     "data": {
      "text/plain": [
       "((array([-3.82817384, -3.60399556, -3.48096514, ...,  3.48096514,\n",
       "        3.60399556,  3.82817384]), array([  1,   1,   1, ..., 732, 733, 734], dtype=int64)), (157.65362658175596, 183.00558763270624, 0.945521243132703))"
      ]
     },
     "execution_count": 1273,
     "metadata": {},
     "output_type": "execute_result"
    },
    {
     "data": {
      "image/png": "[encoded data removed]",
      "text/plain": [
       "<Figure size 720x720 with 8 Axes>"
      ]
     },
     "metadata": {},
     "output_type": "display_data"
    }
   ],
   "source": [
    "fig, axes = plt.subplots(4, 2)\n",
    "fig.set_size_inches(10,10)\n",
    "sns.distplot(df_noOutlier[\"temp\"], ax=axes[0,0])\n",
    "stats.probplot(df_noOutlier[\"temp\"], dist='norm', fit=True, plot=axes[0,1])\n",
    "sns.distplot(df_noOutlier[\"windspeed\"], ax=axes[1,0])\n",
    "stats.probplot(df_noOutlier[\"windspeed\"], dist='norm', fit=True, plot=axes[1,1])\n",
    "sns.distplot(df_noOutlier[\"humidity\"], ax=axes[2,0])\n",
    "stats.probplot(df_noOutlier[\"humidity\"], dist='norm', fit=True, plot=axes[2,1])\n",
    "sns.distplot(df_noOutlier[\"count\"], ax=axes[3,0])\n",
    "stats.probplot(df_noOutlier[\"count\"], dist='norm', fit=True, plot=axes[3,1])\n"
   ]
  },
  {
   "cell_type": "markdown",
   "metadata": {},
   "source": [
    "On peut voir que la variable count est écrasé vers la gauche. On peut la normaliser avec la fonction log. pour notre modèle. \n",
    "On peut voir qu'ensuite la distribution fit mieux la loi normal."
   ]
  },
  {
   "cell_type": "code",
   "execution_count": 1274,
   "metadata": {},
   "outputs": [
    {
     "data": {
      "text/plain": [
       "((array([-3.82817384, -3.60399556, -3.48096514, ...,  3.48096514,\n",
       "        3.60399556,  3.82817384]), array([0.69314718, 0.69314718, 0.69314718, ..., 6.5971457 , 6.59850903,\n",
       "       6.5998705 ])), (1.3487595031437705, 4.562373251436122, 0.9581226674861731))"
      ]
     },
     "execution_count": 1274,
     "metadata": {},
     "output_type": "execute_result"
    },
    {
     "data": {
      "image/png": "[encoded data removed]",
      "text/plain": [
       "<Figure size 720x360 with 2 Axes>"
      ]
     },
     "metadata": {},
     "output_type": "display_data"
    }
   ],
   "source": [
    "fig, axes = plt.subplots(1, 2)\n",
    "fig.set_size_inches(10,5)\n",
    "sns.distplot(np.log1p(df_noOutlier[\"count\"]), ax=axes[0])\n",
    "stats.probplot(np.log1p(df_noOutlier[\"count\"]), dist='norm', fit=True, plot=axes[1])"
   ]
  },
  {
   "cell_type": "code",
   "execution_count": 1275,
   "metadata": {},
   "outputs": [],
   "source": [
    "df_noOutlier_norm = df_noOutlier.copy()\n",
    "df_noOutlier_norm[\"count\"]= np.log1p(df_noOutlier_norm[\"count\"])\n",
    "df_norm = df.copy()\n",
    "df_norm[\"count\"]= np.log1p(df[\"count\"])"
   ]
  },
  {
   "cell_type": "markdown",
   "metadata": {},
   "source": [
    "# Models"
   ]
  },
  {
   "cell_type": "markdown",
   "metadata": {},
   "source": [
    "## Multi Linear Regression"
   ]
  },
  {
   "cell_type": "markdown",
   "metadata": {},
   "source": [
    "Ici on va préparer nos données pour pouvoir utiliser le modèle de Linear Regression de sickit-learn. Notre principale probleme sont les variables de type catégorie. On va utiliser différentes methode selon que notre catégorie possède un grand nombre de catégorie ou non. "
   ]
  },
  {
   "cell_type": "code",
   "execution_count": 1276,
   "metadata": {},
   "outputs": [
    {
     "data": {
      "text/html": [
       "<div>\n",
       "<style scoped>\n",
       "    .dataframe tbody tr th:only-of-type {\n",
       "        vertical-align: middle;\n",
       "    }\n",
       "\n",
       "    .dataframe tbody tr th {\n",
       "        vertical-align: top;\n",
       "    }\n",
       "\n",
       "    .dataframe thead th {\n",
       "        text-align: right;\n",
       "    }\n",
       "</style>\n",
       "<table border=\"1\" class=\"dataframe\">\n",
       "  <thead>\n",
       "    <tr style=\"text-align: right;\">\n",
       "      <th></th>\n",
       "      <th>season</th>\n",
       "      <th>holiday</th>\n",
       "      <th>workingday</th>\n",
       "      <th>weather</th>\n",
       "      <th>temp</th>\n",
       "      <th>atemp</th>\n",
       "      <th>humidity</th>\n",
       "      <th>windspeed</th>\n",
       "      <th>count</th>\n",
       "      <th>dayofweek</th>\n",
       "      <th>hour</th>\n",
       "      <th>month</th>\n",
       "      <th>year</th>\n",
       "    </tr>\n",
       "  </thead>\n",
       "  <tbody>\n",
       "    <tr>\n",
       "      <th>0</th>\n",
       "      <td>1</td>\n",
       "      <td>0</td>\n",
       "      <td>0</td>\n",
       "      <td>1</td>\n",
       "      <td>9.84</td>\n",
       "      <td>14.395</td>\n",
       "      <td>81</td>\n",
       "      <td>14.58</td>\n",
       "      <td>2.833213</td>\n",
       "      <td>5</td>\n",
       "      <td>0</td>\n",
       "      <td>1</td>\n",
       "      <td>2011</td>\n",
       "    </tr>\n",
       "    <tr>\n",
       "      <th>1</th>\n",
       "      <td>1</td>\n",
       "      <td>0</td>\n",
       "      <td>0</td>\n",
       "      <td>1</td>\n",
       "      <td>9.02</td>\n",
       "      <td>13.635</td>\n",
       "      <td>80</td>\n",
       "      <td>14.58</td>\n",
       "      <td>3.713572</td>\n",
       "      <td>5</td>\n",
       "      <td>1</td>\n",
       "      <td>1</td>\n",
       "      <td>2011</td>\n",
       "    </tr>\n",
       "    <tr>\n",
       "      <th>2</th>\n",
       "      <td>1</td>\n",
       "      <td>0</td>\n",
       "      <td>0</td>\n",
       "      <td>1</td>\n",
       "      <td>9.02</td>\n",
       "      <td>13.635</td>\n",
       "      <td>80</td>\n",
       "      <td>14.58</td>\n",
       "      <td>3.496508</td>\n",
       "      <td>5</td>\n",
       "      <td>2</td>\n",
       "      <td>1</td>\n",
       "      <td>2011</td>\n",
       "    </tr>\n",
       "    <tr>\n",
       "      <th>3</th>\n",
       "      <td>1</td>\n",
       "      <td>0</td>\n",
       "      <td>0</td>\n",
       "      <td>1</td>\n",
       "      <td>9.84</td>\n",
       "      <td>14.395</td>\n",
       "      <td>75</td>\n",
       "      <td>14.58</td>\n",
       "      <td>2.639057</td>\n",
       "      <td>5</td>\n",
       "      <td>3</td>\n",
       "      <td>1</td>\n",
       "      <td>2011</td>\n",
       "    </tr>\n",
       "    <tr>\n",
       "      <th>4</th>\n",
       "      <td>1</td>\n",
       "      <td>0</td>\n",
       "      <td>0</td>\n",
       "      <td>1</td>\n",
       "      <td>9.84</td>\n",
       "      <td>14.395</td>\n",
       "      <td>75</td>\n",
       "      <td>14.58</td>\n",
       "      <td>0.693147</td>\n",
       "      <td>5</td>\n",
       "      <td>4</td>\n",
       "      <td>1</td>\n",
       "      <td>2011</td>\n",
       "    </tr>\n",
       "  </tbody>\n",
       "</table>\n",
       "</div>"
      ],
      "text/plain": [
       "  season holiday workingday weather  temp   atemp  humidity  windspeed  \\\n",
       "0      1       0          0       1  9.84  14.395        81      14.58   \n",
       "1      1       0          0       1  9.02  13.635        80      14.58   \n",
       "2      1       0          0       1  9.02  13.635        80      14.58   \n",
       "3      1       0          0       1  9.84  14.395        75      14.58   \n",
       "4      1       0          0       1  9.84  14.395        75      14.58   \n",
       "\n",
       "      count dayofweek hour month  year  \n",
       "0  2.833213         5    0     1  2011  \n",
       "1  3.713572         5    1     1  2011  \n",
       "2  3.496508         5    2     1  2011  \n",
       "3  2.639057         5    3     1  2011  \n",
       "4  0.693147         5    4     1  2011  "
      ]
     },
     "execution_count": 1276,
     "metadata": {},
     "output_type": "execute_result"
    }
   ],
   "source": [
    "df_noOutlier_norm.head()"
   ]
  },
  {
   "cell_type": "code",
   "execution_count": 1277,
   "metadata": {},
   "outputs": [
    {
     "data": {
      "text/plain": [
       "season        category\n",
       "holiday       category\n",
       "workingday    category\n",
       "weather       category\n",
       "temp           float64\n",
       "atemp          float64\n",
       "humidity         int64\n",
       "windspeed      float64\n",
       "count          float64\n",
       "dayofweek     category\n",
       "hour          category\n",
       "month         category\n",
       "year          category\n",
       "dtype: object"
      ]
     },
     "execution_count": 1277,
     "metadata": {},
     "output_type": "execute_result"
    }
   ],
   "source": [
    "df_noOutlier_norm.dtypes"
   ]
  },
  {
   "cell_type": "code",
   "execution_count": 1278,
   "metadata": {},
   "outputs": [
    {
     "name": "stdout",
     "output_type": "stream",
     "text": [
      "season has 4 unique values.\n",
      "holiday has 2 unique values.\n",
      "workingday has 2 unique values.\n",
      "weather has 3 unique values.\n",
      "dayofweek has 7 unique values.\n",
      "hour has 24 unique values.\n",
      "month has 12 unique values.\n",
      "year has 2 unique values.\n"
     ]
    }
   ],
   "source": [
    "for colname, serie in df_noOutlier_norm.select_dtypes(include=['category']).iteritems():\n",
    "    print(colname + \" has \" + str(serie.drop_duplicates().shape[0]) + \" unique values.\")"
   ]
  },
  {
   "cell_type": "code",
   "execution_count": 1279,
   "metadata": {},
   "outputs": [],
   "source": [
    "df_copy = df.copy()\n",
    "df_norm_copy = df_norm.copy() \n",
    "df_noOutlier_copy = df_noOutlier.copy() \n",
    "df_noOutlier_norm_copy = df_noOutlier_norm.copy() "
   ]
  },
  {
   "cell_type": "code",
   "execution_count": 1280,
   "metadata": {},
   "outputs": [],
   "source": [
    "categorical_features = [\"season\", \"holiday\", \"workingday\", \"weather\", \"month\", \"year\", \"hour\"]\n",
    "categorical_features_less_dummies = [\"season\", \"holiday\", \"workingday\", \"weather\"]"
   ]
  },
  {
   "cell_type": "code",
   "execution_count": 1281,
   "metadata": {},
   "outputs": [],
   "source": [
    "df_dummies_noOutlier = pd.get_dummies(df_noOutlier_norm_copy[categorical_features])\n",
    "df_dummies = pd.get_dummies(df_copy[categorical_features])\n",
    "\n",
    "df_less_dummies_noOutlier = pd.get_dummies(df_noOutlier_norm_copy[categorical_features_less_dummies])"
   ]
  },
  {
   "cell_type": "code",
   "execution_count": 1282,
   "metadata": {},
   "outputs": [],
   "source": [
    "# on concatène ensuite avec le dataset original\n",
    "df = pd.concat([df_copy.drop(categorical_features, axis=1), df_dummies], axis=1)\n",
    "df_norm = pd.concat([df_norm_copy.drop(categorical_features, axis=1), df_dummies], axis=1)\n",
    "df_noOutlier = pd.concat([df_noOutlier_copy.drop(categorical_features, axis=1), df_dummies_noOutlier], axis=1)\n",
    "df_noOutlier_norm = pd.concat([df_noOutlier_norm_copy.drop(categorical_features, axis=1), df_dummies_noOutlier], axis=1)\n",
    "\n",
    "df_less_dummies_noOutlier = pd.concat([df_noOutlier_copy.drop(categorical_features, axis=1), df_dummies_noOutlier], axis=1)\n",
    "df_less_dummies_noOutlier_norm = pd.concat([df_noOutlier_norm_copy.drop(categorical_features, axis=1), df_dummies_noOutlier], axis=1)"
   ]
  },
  {
   "cell_type": "code",
   "execution_count": 1283,
   "metadata": {},
   "outputs": [
    {
     "data": {
      "text/html": [
       "<div>\n",
       "<style scoped>\n",
       "    .dataframe tbody tr th:only-of-type {\n",
       "        vertical-align: middle;\n",
       "    }\n",
       "\n",
       "    .dataframe tbody tr th {\n",
       "        vertical-align: top;\n",
       "    }\n",
       "\n",
       "    .dataframe thead th {\n",
       "        text-align: right;\n",
       "    }\n",
       "</style>\n",
       "<table border=\"1\" class=\"dataframe\">\n",
       "  <thead>\n",
       "    <tr style=\"text-align: right;\">\n",
       "      <th></th>\n",
       "      <th>temp</th>\n",
       "      <th>atemp</th>\n",
       "      <th>humidity</th>\n",
       "      <th>windspeed</th>\n",
       "      <th>count</th>\n",
       "      <th>dayofweek</th>\n",
       "      <th>season_1</th>\n",
       "      <th>season_2</th>\n",
       "      <th>season_3</th>\n",
       "      <th>season_4</th>\n",
       "      <th>...</th>\n",
       "      <th>hour_14</th>\n",
       "      <th>hour_15</th>\n",
       "      <th>hour_16</th>\n",
       "      <th>hour_17</th>\n",
       "      <th>hour_18</th>\n",
       "      <th>hour_19</th>\n",
       "      <th>hour_20</th>\n",
       "      <th>hour_21</th>\n",
       "      <th>hour_22</th>\n",
       "      <th>hour_23</th>\n",
       "    </tr>\n",
       "  </thead>\n",
       "  <tbody>\n",
       "    <tr>\n",
       "      <th>0</th>\n",
       "      <td>9.84</td>\n",
       "      <td>14.395</td>\n",
       "      <td>81</td>\n",
       "      <td>14.58</td>\n",
       "      <td>16</td>\n",
       "      <td>5</td>\n",
       "      <td>1</td>\n",
       "      <td>0</td>\n",
       "      <td>0</td>\n",
       "      <td>0</td>\n",
       "      <td>...</td>\n",
       "      <td>0</td>\n",
       "      <td>0</td>\n",
       "      <td>0</td>\n",
       "      <td>0</td>\n",
       "      <td>0</td>\n",
       "      <td>0</td>\n",
       "      <td>0</td>\n",
       "      <td>0</td>\n",
       "      <td>0</td>\n",
       "      <td>0</td>\n",
       "    </tr>\n",
       "    <tr>\n",
       "      <th>1</th>\n",
       "      <td>9.02</td>\n",
       "      <td>13.635</td>\n",
       "      <td>80</td>\n",
       "      <td>14.58</td>\n",
       "      <td>40</td>\n",
       "      <td>5</td>\n",
       "      <td>1</td>\n",
       "      <td>0</td>\n",
       "      <td>0</td>\n",
       "      <td>0</td>\n",
       "      <td>...</td>\n",
       "      <td>0</td>\n",
       "      <td>0</td>\n",
       "      <td>0</td>\n",
       "      <td>0</td>\n",
       "      <td>0</td>\n",
       "      <td>0</td>\n",
       "      <td>0</td>\n",
       "      <td>0</td>\n",
       "      <td>0</td>\n",
       "      <td>0</td>\n",
       "    </tr>\n",
       "    <tr>\n",
       "      <th>2</th>\n",
       "      <td>9.02</td>\n",
       "      <td>13.635</td>\n",
       "      <td>80</td>\n",
       "      <td>14.58</td>\n",
       "      <td>32</td>\n",
       "      <td>5</td>\n",
       "      <td>1</td>\n",
       "      <td>0</td>\n",
       "      <td>0</td>\n",
       "      <td>0</td>\n",
       "      <td>...</td>\n",
       "      <td>0</td>\n",
       "      <td>0</td>\n",
       "      <td>0</td>\n",
       "      <td>0</td>\n",
       "      <td>0</td>\n",
       "      <td>0</td>\n",
       "      <td>0</td>\n",
       "      <td>0</td>\n",
       "      <td>0</td>\n",
       "      <td>0</td>\n",
       "    </tr>\n",
       "    <tr>\n",
       "      <th>3</th>\n",
       "      <td>9.84</td>\n",
       "      <td>14.395</td>\n",
       "      <td>75</td>\n",
       "      <td>14.58</td>\n",
       "      <td>13</td>\n",
       "      <td>5</td>\n",
       "      <td>1</td>\n",
       "      <td>0</td>\n",
       "      <td>0</td>\n",
       "      <td>0</td>\n",
       "      <td>...</td>\n",
       "      <td>0</td>\n",
       "      <td>0</td>\n",
       "      <td>0</td>\n",
       "      <td>0</td>\n",
       "      <td>0</td>\n",
       "      <td>0</td>\n",
       "      <td>0</td>\n",
       "      <td>0</td>\n",
       "      <td>0</td>\n",
       "      <td>0</td>\n",
       "    </tr>\n",
       "    <tr>\n",
       "      <th>4</th>\n",
       "      <td>9.84</td>\n",
       "      <td>14.395</td>\n",
       "      <td>75</td>\n",
       "      <td>14.58</td>\n",
       "      <td>1</td>\n",
       "      <td>5</td>\n",
       "      <td>1</td>\n",
       "      <td>0</td>\n",
       "      <td>0</td>\n",
       "      <td>0</td>\n",
       "      <td>...</td>\n",
       "      <td>0</td>\n",
       "      <td>0</td>\n",
       "      <td>0</td>\n",
       "      <td>0</td>\n",
       "      <td>0</td>\n",
       "      <td>0</td>\n",
       "      <td>0</td>\n",
       "      <td>0</td>\n",
       "      <td>0</td>\n",
       "      <td>0</td>\n",
       "    </tr>\n",
       "  </tbody>\n",
       "</table>\n",
       "<p>5 rows × 55 columns</p>\n",
       "</div>"
      ],
      "text/plain": [
       "   temp   atemp  humidity  windspeed  count dayofweek  season_1  season_2  \\\n",
       "0  9.84  14.395        81      14.58     16         5         1         0   \n",
       "1  9.02  13.635        80      14.58     40         5         1         0   \n",
       "2  9.02  13.635        80      14.58     32         5         1         0   \n",
       "3  9.84  14.395        75      14.58     13         5         1         0   \n",
       "4  9.84  14.395        75      14.58      1         5         1         0   \n",
       "\n",
       "   season_3  season_4  ...  hour_14  hour_15  hour_16  hour_17  hour_18  \\\n",
       "0         0         0  ...        0        0        0        0        0   \n",
       "1         0         0  ...        0        0        0        0        0   \n",
       "2         0         0  ...        0        0        0        0        0   \n",
       "3         0         0  ...        0        0        0        0        0   \n",
       "4         0         0  ...        0        0        0        0        0   \n",
       "\n",
       "   hour_19  hour_20  hour_21  hour_22  hour_23  \n",
       "0        0        0        0        0        0  \n",
       "1        0        0        0        0        0  \n",
       "2        0        0        0        0        0  \n",
       "3        0        0        0        0        0  \n",
       "4        0        0        0        0        0  \n",
       "\n",
       "[5 rows x 55 columns]"
      ]
     },
     "execution_count": 1283,
     "metadata": {},
     "output_type": "execute_result"
    }
   ],
   "source": [
    "df.head()"
   ]
  },
  {
   "cell_type": "markdown",
   "metadata": {},
   "source": [
    "## Multi Linear regression Model"
   ]
  },
  {
   "cell_type": "markdown",
   "metadata": {},
   "source": [
    "Après de nombreux essaie avec 4 types de datasets:\n",
    "- Dataframe normal\n",
    "- Dataframe sans Outlier\n",
    "- DataFrame sans Outlier et normalisé\n",
    "- Dataframe normalisé\n",
    "\n",
    "J'ai regardé les métrics suivantes: MSE, R^2, RMSE et RMSLE. Mais je vais me concentrer sur MSE est R2.\n",
    "Le meilleur modèles que j'ai entrainé et la version avec le dataframe sans outlier et normalisé.\n",
    "Il semble donc que le modèle de regression linéaire est mieux entrainé avec un dataset sans outlier et normalisé. \n",
    "\n",
    "Après différente test avec les variables catégoriciel, le modèle préfère avoir les variables catégoriques traité avec get_dummies pour Season, Workingday, holydays, mais n'a pas de préférence pour les variable Dates. Traité avec ou sans get_dummies les resultats sont similaires. \n",
    "\n",
    "On valide:\n",
    "Datasets    df_less_dummies_noOutlier_norm\n",
    "MSE                                8095.79\n",
    "RMSE                               89.9766\n",
    "R2                                0.696031\n",
    "\n",
    "\n",
    "\n",
    "Je ne pense pas que ce modèle est adapté à ce probleme. En effet sans normalisation des données le modèle prédits des valeurs négative. En effet comme expliqué ici: https://stats.stackexchange.com/questions/145383/getting-negative-predicted-values-after-linear-regression\n",
    " \"Linear regression does not respect the bounds of 0. It's linear, always and everywhere. It may not be appropriate for values that need to be close to 0 but are strictly positive.\". \n",
    " \n",
    "Etant donnée mes résultats mes nombreux esssais peu convaincant j'ai décider d'arreter  d'abandonner ce modèle.\n",
    "Je pense également que le probleme persisteras pour les autres modèeles de regression linéar tel que Ridge ou Lasso. \n",
    " \n",
    " "
   ]
  },
  {
   "cell_type": "code",
   "execution_count": 1311,
   "metadata": {},
   "outputs": [],
   "source": [
    "def evaluate(y_test, y_train, y_pred_test, y_pred_train):\n",
    "    print(\"MSE test: \", mean_squared_error(y_test, y_pred_test, squared=True))\n",
    "    print(\"MSE train: \", mean_squared_error(y_train, y_pred_train, squared=True))\n",
    "    print(\"R2 test: \", r2_score(y_test, y_pred_test))\n",
    "    print(\"R2 train: \", r2_score(y_train, y_pred_train))"
   ]
  },
  {
   "cell_type": "code",
   "execution_count": 1312,
   "metadata": {},
   "outputs": [
    {
     "data": {
      "text/html": [
       "<div>\n",
       "<style scoped>\n",
       "    .dataframe tbody tr th:only-of-type {\n",
       "        vertical-align: middle;\n",
       "    }\n",
       "\n",
       "    .dataframe tbody tr th {\n",
       "        vertical-align: top;\n",
       "    }\n",
       "\n",
       "    .dataframe thead th {\n",
       "        text-align: right;\n",
       "    }\n",
       "</style>\n",
       "<table border=\"1\" class=\"dataframe\">\n",
       "  <thead>\n",
       "    <tr style=\"text-align: right;\">\n",
       "      <th></th>\n",
       "      <th>Datasets</th>\n",
       "      <th>MSE</th>\n",
       "      <th>R2</th>\n",
       "    </tr>\n",
       "  </thead>\n",
       "  <tbody>\n",
       "    <tr>\n",
       "      <th>0</th>\n",
       "      <td>df</td>\n",
       "      <td>10152.449009</td>\n",
       "      <td>0.683313</td>\n",
       "    </tr>\n",
       "    <tr>\n",
       "      <th>1</th>\n",
       "      <td>df_norm</td>\n",
       "      <td>9629.286079</td>\n",
       "      <td>0.699632</td>\n",
       "    </tr>\n",
       "    <tr>\n",
       "      <th>2</th>\n",
       "      <td>df_noOutlier</td>\n",
       "      <td>8377.452752</td>\n",
       "      <td>0.685455</td>\n",
       "    </tr>\n",
       "    <tr>\n",
       "      <th>3</th>\n",
       "      <td>df_noOutlier_norm</td>\n",
       "      <td>8095.793764</td>\n",
       "      <td>0.696031</td>\n",
       "    </tr>\n",
       "    <tr>\n",
       "      <th>4</th>\n",
       "      <td>df_less_dummies_noOutlier</td>\n",
       "      <td>8377.452752</td>\n",
       "      <td>0.685455</td>\n",
       "    </tr>\n",
       "    <tr>\n",
       "      <th>5</th>\n",
       "      <td>df_less_dummies_noOutlier_norm</td>\n",
       "      <td>8095.793764</td>\n",
       "      <td>0.696031</td>\n",
       "    </tr>\n",
       "  </tbody>\n",
       "</table>\n",
       "</div>"
      ],
      "text/plain": [
       "                         Datasets           MSE        R2\n",
       "0                              df  10152.449009  0.683313\n",
       "1                         df_norm   9629.286079  0.699632\n",
       "2                    df_noOutlier   8377.452752  0.685455\n",
       "3               df_noOutlier_norm   8095.793764  0.696031\n",
       "4       df_less_dummies_noOutlier   8377.452752  0.685455\n",
       "5  df_less_dummies_noOutlier_norm   8095.793764  0.696031"
      ]
     },
     "execution_count": 1312,
     "metadata": {},
     "output_type": "execute_result"
    }
   ],
   "source": [
    "#ICI LES RESULTATS SONT MIS A L'ECHELLE.\n",
    "#PArceque nous avons des datasets avec et sans normalisation. Pour comparer les résultat j'ai dénormalisé y_pred, y_train et \n",
    "#y_test des dataframe normalisé pour l'évaluation\n",
    "datasets = [df,df_norm,df_noOutlier,df_noOutlier_norm, df_less_dummies_noOutlier, df_less_dummies_noOutlier_norm]\n",
    "datasetsLabels=[\"df\",\"df_norm\",\"df_noOutlier\",\"df_noOutlier_norm\", \"df_less_dummies_noOutlier\", \"df_less_dummies_noOutlier_norm\"]\n",
    "mse=[]\n",
    "r2=[]\n",
    "d={}\n",
    "for i in range(len(datasets)):\n",
    "    model = LinearRegression()    \n",
    "    X = datasets[i].drop([\"count\",\"atemp\"], axis=1)\n",
    "    y = datasets[i][\"count\"]\n",
    "    X_train, X_test, y_train, y_test = train_test_split(X, y, test_size=0.2, random_state=777)\n",
    "    model.fit(X_train,y_train)\n",
    "    y_pred=model.predict(X_test)\n",
    "    #Mise à l'echelle des resultats\n",
    "    if \"norm\" in datasetsLabels[i]:\n",
    "        y_test = np.expm1(y_test)\n",
    "        y_pred = np.expm1(y_pred)\n",
    "    mse.append(mean_squared_error(y_test, y_pred, squared=True))    \n",
    "    r2.append(r2_score(y_test, y_pred))\n",
    "d={'Datasets':datasetsLabels, 'MSE': mse, \"R2\": r2}\n",
    "res_frame=pd.DataFrame(d)\n",
    "res_frame"
   ]
  },
  {
   "cell_type": "markdown",
   "metadata": {},
   "source": [
    "On valide celui là pour LinearRegression (On cherche à minimiser MSE et maximiser R2):\n",
    "    "
   ]
  },
  {
   "cell_type": "code",
   "execution_count": 1313,
   "metadata": {},
   "outputs": [
    {
     "data": {
      "text/plain": [
       "Datasets    df_less_dummies_noOutlier_norm\n",
       "MSE                                8095.79\n",
       "R2                                0.696031\n",
       "Name: 5, dtype: object"
      ]
     },
     "execution_count": 1313,
     "metadata": {},
     "output_type": "execute_result"
    }
   ],
   "source": [
    "res_frame.loc[5]"
   ]
  },
  {
   "cell_type": "markdown",
   "metadata": {},
   "source": [
    "Final result (sans la dénormalisation): "
   ]
  },
  {
   "cell_type": "code",
   "execution_count": 1316,
   "metadata": {},
   "outputs": [
    {
     "name": "stdout",
     "output_type": "stream",
     "text": [
      "MSE test:  0.3711791898894495\n",
      "MSE train:  0.3318896388357093\n",
      "R2 test:  0.8205940488212254\n",
      "R2 train:  0.8304490688449889\n"
     ]
    }
   ],
   "source": [
    "X = df_less_dummies_noOutlier_norm.drop([\"count\",\"atemp\"], axis=1)\n",
    "y = df_less_dummies_noOutlier_norm[\"count\"]\n",
    "X_train, X_test, y_train, y_test = train_test_split(X, y, test_size=0.2, random_state=777)\n",
    "model.fit(X_train,y_train)\n",
    "y_pred_test=model.predict(X_test)\n",
    "y_pred_train=model.predict(X_train)\n",
    "evaluate(y_test, y_train, y_pred_test, y_pred_train)\n"
   ]
  },
  {
   "cell_type": "markdown",
   "metadata": {},
   "source": [
    "### Lasso"
   ]
  },
  {
   "cell_type": "markdown",
   "metadata": {},
   "source": [
    "On essaye LASSO ici pour mesurer l'apport d'une regularisation en regression linéaire. Nous allons train avec différente valeur d'alpha et en Cross validation."
   ]
  },
  {
   "cell_type": "code",
   "execution_count": 1317,
   "metadata": {},
   "outputs": [],
   "source": [
    "X = df_less_dummies_noOutlier_norm.drop([\"count\",\"atemp\"], axis=1)\n",
    "y = df_less_dummies_noOutlier_norm[\"count\"]\n",
    "\n",
    "# Create a list of alphas to cross-validate against\n",
    "alphas = np.logspace(-10, 1, 400)\n"
   ]
  },
  {
   "cell_type": "code",
   "execution_count": 1318,
   "metadata": {},
   "outputs": [
    {
     "data": {
      "text/plain": [
       "LassoCV(alphas=array([1.00000000e-10, 1.06553795e-10, 1.13537112e-10, 1.20978102e-10,\n",
       "       1.28906759e-10, 1.37355044e-10, 1.46357012e-10, 1.55948950e-10,\n",
       "       1.66169525e-10, 1.77059935e-10, 1.88664080e-10, 2.01028738e-10,\n",
       "       2.14203749e-10, 2.28242224e-10, 2.43200751e-10, 2.59139630e-10,\n",
       "       2.76123110e-10, 2.94219653e-10, 3.13502206e-10, 3.34048498e-10,\n",
       "       3.55941352e-10, 3.79269019e-1...\n",
       "       4.97441317e+00, 5.30042602e+00, 5.64780507e+00, 6.01795064e+00,\n",
       "       6.41235480e+00, 6.83260739e+00, 7.28040247e+00, 7.75754513e+00,\n",
       "       8.26595874e+00, 8.80769273e+00, 9.38493086e+00, 1.00000000e+01]),\n",
       "        copy_X=True, cv=5, eps=0.001, fit_intercept=False, max_iter=1000,\n",
       "        n_alphas=100, n_jobs=None, normalize=False, positive=False,\n",
       "        precompute='auto', random_state=0, selection='cyclic', tol=0.0001,\n",
       "        verbose=False)"
      ]
     },
     "execution_count": 1318,
     "metadata": {},
     "output_type": "execute_result"
    }
   ],
   "source": [
    "#On veut savir pour quelles valeurs de Alpha  avec 5-Fold de validation croisé\n",
    "#le modèle est plus performant\n",
    "lcv = LassoCV(alphas=alphas,normalize=False,fit_intercept=False,random_state=0,cv=5)\n",
    "lcv.fit(X, y)"
   ]
  },
  {
   "cell_type": "code",
   "execution_count": 1319,
   "metadata": {},
   "outputs": [
    {
     "name": "stdout",
     "output_type": "stream",
     "text": [
      "[1.00000000e+01 9.38493086e+00 8.80769273e+00 8.26595874e+00\n",
      " 7.75754513e+00 7.28040247e+00 6.83260739e+00 6.41235480e+00\n",
      " 6.01795064e+00 5.64780507e+00 5.30042602e+00 4.97441317e+00\n",
      " 4.66845237e+00 4.38131027e+00 4.11182940e+00 3.85892347e+00\n",
      " 3.62157300e+00 3.39882122e+00 3.18977022e+00 2.99357729e+00\n",
      " 2.80945159e+00 2.63665090e+00 2.47447864e+00 2.32228110e+00\n",
      " 2.17944475e+00 2.04539383e+00 1.91958797e+00 1.80152004e+00\n",
      " 1.69071410e+00 1.58672350e+00 1.48912903e+00 1.39753730e+00\n",
      " 1.31157910e+00 1.23090791e+00 1.15519857e+00 1.08414587e+00\n",
      " 1.01746340e+00 9.54882369e-01 8.96150502e-01 8.41031051e-01\n",
      " 7.89301826e-01 7.40754307e-01 6.95192796e-01 6.52433633e-01\n",
      " 6.12304454e-01 5.74643497e-01 5.39298949e-01 5.06128335e-01\n",
      " 4.74997943e-01 4.45782286e-01 4.18363594e-01 3.92631340e-01\n",
      " 3.68481798e-01 3.45817620e-01 3.24547446e-01 3.04585534e-01\n",
      " 2.85851418e-01 2.68269580e-01 2.51769146e-01 2.36283603e-01\n",
      " 2.21750528e-01 2.08111337e-01 1.95311051e-01 1.83298071e-01\n",
      " 1.72023972e-01 1.61443309e-01 1.51513429e-01 1.42194306e-01\n",
      " 1.33448373e-01 1.25240375e-01 1.17537227e-01 1.10307874e-01\n",
      " 1.03523178e-01 9.71557865e-02 9.11800339e-02 8.55718314e-02\n",
      " 8.03085722e-02 7.53690398e-02 7.07333228e-02 6.63827344e-02\n",
      " 6.22997373e-02 5.84678728e-02 5.48716944e-02 5.14967058e-02\n",
      " 4.83293024e-02 4.53567162e-02 4.25669645e-02 3.99488019e-02\n",
      " 3.74916744e-02 3.51856773e-02 3.30215148e-02 3.09904634e-02\n",
      " 2.90843356e-02 2.72954479e-02 2.56165892e-02 2.40409918e-02\n",
      " 2.25623046e-02 2.11745669e-02 1.98721847e-02 1.86499079e-02\n",
      " 1.75028096e-02 1.64262658e-02 1.54159369e-02 1.44677502e-02\n",
      " 1.35778836e-02 1.27427499e-02 1.19589826e-02 1.12234225e-02\n",
      " 1.05331045e-02 9.88524571e-03 9.27723476e-03 8.70662068e-03\n",
      " 8.17110332e-03 7.66852397e-03 7.19685673e-03 6.75420029e-03\n",
      " 6.33877027e-03 5.94889208e-03 5.58299409e-03 5.23960135e-03\n",
      " 4.91732965e-03 4.61487988e-03 4.33103286e-03 4.06464440e-03\n",
      " 3.81464066e-03 3.58001389e-03 3.35981829e-03 3.15316623e-03\n",
      " 2.95922471e-03 2.77721193e-03 2.60639420e-03 2.44608294e-03\n",
      " 2.29563192e-03 2.15443469e-03 2.02192206e-03 1.89755988e-03\n",
      " 1.78084683e-03 1.67131243e-03 1.56851516e-03 1.47204064e-03\n",
      " 1.38149996e-03 1.29652816e-03 1.21678272e-03 1.14194217e-03\n",
      " 1.07170483e-03 1.00578757e-03 9.43924684e-04 8.85866790e-04\n",
      " 8.31379858e-04 7.80244249e-04 7.32253834e-04 6.87215161e-04\n",
      " 6.44946677e-04 6.05277998e-04 5.68049216e-04 5.33110262e-04\n",
      " 5.00320295e-04 4.69547138e-04 4.40666743e-04 4.13562692e-04\n",
      " 3.88125727e-04 3.64253312e-04 3.41849215e-04 3.20823125e-04\n",
      " 3.01090284e-04 2.82571150e-04 2.65191071e-04 2.48879987e-04\n",
      " 2.33572147e-04 2.19205845e-04 2.05723170e-04 1.93069773e-04\n",
      " 1.81194647e-04 1.70049924e-04 1.59590678e-04 1.49774748e-04\n",
      " 1.40562565e-04 1.31916996e-04 1.23803188e-04 1.16188436e-04\n",
      " 1.09042044e-04 1.02335205e-04 9.60408821e-05 9.01337039e-05\n",
      " 8.45898580e-05 7.93869969e-05 7.45041477e-05 6.99216276e-05\n",
      " 6.56209641e-05 6.15848211e-05 5.77969288e-05 5.42420181e-05\n",
      " 5.09057590e-05 4.77747029e-05 4.48362284e-05 4.20784904e-05\n",
      " 3.94903723e-05 3.70614414e-05 3.47819065e-05 3.26425788e-05\n",
      " 3.06348345e-05 2.87505804e-05 2.69822209e-05 2.53226278e-05\n",
      " 2.37651111e-05 2.23033925e-05 2.09315797e-05 1.96441428e-05\n",
      " 1.84358922e-05 1.73019574e-05 1.62377674e-05 1.52390324e-05\n",
      " 1.43017266e-05 1.34220715e-05 1.25965213e-05 1.18217482e-05\n",
      " 1.10946289e-05 1.04122326e-05 9.77180827e-06 9.17077451e-06\n",
      " 8.60670847e-06 8.07733640e-06 7.58052437e-06 7.11426971e-06\n",
      " 6.67669294e-06 6.26603016e-06 5.88062599e-06 5.51892683e-06\n",
      " 5.17947468e-06 4.86090118e-06 4.56192215e-06 4.28133240e-06\n",
      " 4.01800086e-06 3.77086603e-06 3.53893170e-06 3.32126293e-06\n",
      " 3.11698230e-06 2.92526634e-06 2.74534223e-06 2.57648471e-06\n",
      " 2.41801308e-06 2.26928856e-06 2.12971163e-06 1.99871964e-06\n",
      " 1.87578456e-06 1.76041084e-06 1.65213341e-06 1.55051578e-06\n",
      " 1.45514834e-06 1.36564666e-06 1.28164995e-06 1.20281961e-06\n",
      " 1.12883789e-06 1.05940656e-06 9.94245730e-07 9.33092744e-07\n",
      " 8.75701089e-07 8.21839418e-07 7.71290612e-07 7.23850907e-07\n",
      " 6.79329072e-07 6.37545637e-07 5.98332173e-07 5.61530608e-07\n",
      " 5.26992593e-07 4.94578905e-07 4.64158883e-07 4.35609903e-07\n",
      " 4.08816882e-07 3.83671818e-07 3.60073348e-07 3.37926348e-07\n",
      " 3.17141542e-07 2.97635144e-07 2.79328525e-07 2.62147890e-07\n",
      " 2.46023982e-07 2.30891806e-07 2.16690364e-07 2.03362408e-07\n",
      " 1.90854214e-07 1.79115361e-07 1.68098528e-07 1.57759306e-07\n",
      " 1.48056018e-07 1.38949549e-07 1.30403192e-07 1.22382494e-07\n",
      " 1.14855124e-07 1.07790740e-07 1.01160864e-07 9.49387718e-08\n",
      " 8.90993810e-08 8.36191530e-08 7.84759970e-08 7.36491807e-08\n",
      " 6.91192469e-08 6.48679353e-08 6.08781089e-08 5.71336843e-08\n",
      " 5.36195677e-08 5.03215936e-08 4.72264677e-08 4.43217134e-08\n",
      " 4.15956216e-08 3.90372033e-08 3.66361454e-08 3.43827692e-08\n",
      " 3.22679912e-08 3.02832867e-08 2.84206552e-08 2.66725884e-08\n",
      " 2.50320398e-08 2.34923963e-08 2.20474515e-08 2.06913808e-08\n",
      " 1.94187178e-08 1.82243324e-08 1.71034100e-08 1.60514320e-08\n",
      " 1.50641580e-08 1.41376081e-08 1.32680475e-08 1.24519708e-08\n",
      " 1.16860886e-08 1.09673133e-08 1.02927477e-08 9.65967258e-09\n",
      " 9.06553593e-09 8.50794280e-09 7.98464550e-09 7.49353460e-09\n",
      " 7.03263041e-09 6.60007502e-09 6.19412478e-09 5.81314328e-09\n",
      " 5.45559478e-09 5.12003798e-09 4.80512025e-09 4.50957214e-09\n",
      " 4.23220227e-09 3.97189257e-09 3.72759372e-09 3.49832094e-09\n",
      " 3.28315001e-09 3.08121359e-09 2.89169765e-09 2.71383825e-09\n",
      " 2.54691844e-09 2.39026535e-09 2.24324750e-09 2.10527227e-09\n",
      " 1.97578347e-09 1.85425913e-09 1.74020937e-09 1.63317447e-09\n",
      " 1.53272295e-09 1.43844989e-09 1.34997528e-09 1.26694246e-09\n",
      " 1.18901674e-09 1.11588399e-09 1.04724941e-09 9.82836333e-10\n",
      " 9.22385104e-10 8.65652043e-10 8.12408458e-10 7.62439721e-10\n",
      " 7.15544407e-10 6.71533479e-10 6.30229527e-10 5.91466054e-10\n",
      " 5.55086803e-10 5.20945127e-10 4.88903400e-10 4.58832461e-10\n",
      " 4.30611093e-10 4.04125533e-10 3.79269019e-10 3.55941352e-10\n",
      " 3.34048498e-10 3.13502206e-10 2.94219653e-10 2.76123110e-10\n",
      " 2.59139630e-10 2.43200751e-10 2.28242224e-10 2.14203749e-10\n",
      " 2.01028738e-10 1.88664080e-10 1.77059935e-10 1.66169525e-10\n",
      " 1.55948950e-10 1.46357012e-10 1.37355044e-10 1.28906759e-10\n",
      " 1.20978102e-10 1.13537112e-10 1.06553795e-10 1.00000000e-10]\n"
     ]
    }
   ],
   "source": [
    "#VAleurs d'alpha testé\n",
    "print(lcv.alphas_) "
   ]
  },
  {
   "cell_type": "code",
   "execution_count": 1320,
   "metadata": {},
   "outputs": [
    {
     "name": "stdout",
     "output_type": "stream",
     "text": [
      "[[2.95030792 2.50685844 3.689098   3.9611766  3.27061375]\n",
      " [2.84918822 2.43045027 3.67014343 3.75658626 3.18708884]\n",
      " [2.72625975 2.36664634 3.58493879 3.57535009 3.11351296]\n",
      " ...\n",
      " [0.46621246 0.36408057 0.41490026 0.34868193 0.3302701 ]\n",
      " [0.46621246 0.36408057 0.41490026 0.34868193 0.3302701 ]\n",
      " [0.46621246 0.36408057 0.41490026 0.34868193 0.3302701 ]]\n"
     ]
    }
   ],
   "source": [
    "#valeurs des MSE en validation croisée\n",
    "print(lcv.mse_path_)"
   ]
  },
  {
   "cell_type": "code",
   "execution_count": 1321,
   "metadata": {},
   "outputs": [
    {
     "name": "stdout",
     "output_type": "stream",
     "text": [
      "            alpha       MSE\n",
      "0    1.000000e+01  3.275611\n",
      "1    9.384931e+00  3.178691\n",
      "2    8.807693e+00  3.073342\n",
      "3    8.265959e+00  2.978186\n",
      "4    7.757545e+00  2.894696\n",
      "..            ...       ...\n",
      "395  1.289068e-10  0.384829\n",
      "396  1.209781e-10  0.384829\n",
      "397  1.135371e-10  0.384829\n",
      "398  1.065538e-10  0.384829\n",
      "399  1.000000e-10  0.384829\n",
      "\n",
      "[400 rows x 2 columns]\n"
     ]
    }
   ],
   "source": [
    "#moyenne mse en validation croisée pour chaque alpha\n",
    "avg_mse = np.mean(lcv.mse_path_,axis=1)\n",
    "#alphas vs. MSE en cross-validation\n",
    "lasso_df = pd.DataFrame({'alpha':lcv.alphas_,'MSE':avg_mse})\n",
    "print(lasso_df) "
   ]
  },
  {
   "cell_type": "code",
   "execution_count": 1322,
   "metadata": {},
   "outputs": [
    {
     "data": {
      "text/html": [
       "<div>\n",
       "<style scoped>\n",
       "    .dataframe tbody tr th:only-of-type {\n",
       "        vertical-align: middle;\n",
       "    }\n",
       "\n",
       "    .dataframe tbody tr th {\n",
       "        vertical-align: top;\n",
       "    }\n",
       "\n",
       "    .dataframe thead th {\n",
       "        text-align: right;\n",
       "    }\n",
       "</style>\n",
       "<table border=\"1\" class=\"dataframe\">\n",
       "  <thead>\n",
       "    <tr style=\"text-align: right;\">\n",
       "      <th></th>\n",
       "      <th>alpha</th>\n",
       "      <th>MSE</th>\n",
       "    </tr>\n",
       "  </thead>\n",
       "  <tbody>\n",
       "    <tr>\n",
       "      <th>120</th>\n",
       "      <td>4.917330e-03</td>\n",
       "      <td>0.388004</td>\n",
       "    </tr>\n",
       "    <tr>\n",
       "      <th>121</th>\n",
       "      <td>4.614880e-03</td>\n",
       "      <td>0.386127</td>\n",
       "    </tr>\n",
       "    <tr>\n",
       "      <th>122</th>\n",
       "      <td>4.331033e-03</td>\n",
       "      <td>0.384551</td>\n",
       "    </tr>\n",
       "    <tr>\n",
       "      <th>123</th>\n",
       "      <td>4.064644e-03</td>\n",
       "      <td>0.383194</td>\n",
       "    </tr>\n",
       "    <tr>\n",
       "      <th>124</th>\n",
       "      <td>3.814641e-03</td>\n",
       "      <td>0.382084</td>\n",
       "    </tr>\n",
       "    <tr>\n",
       "      <th>...</th>\n",
       "      <td>...</td>\n",
       "      <td>...</td>\n",
       "    </tr>\n",
       "    <tr>\n",
       "      <th>395</th>\n",
       "      <td>1.289068e-10</td>\n",
       "      <td>0.384829</td>\n",
       "    </tr>\n",
       "    <tr>\n",
       "      <th>396</th>\n",
       "      <td>1.209781e-10</td>\n",
       "      <td>0.384829</td>\n",
       "    </tr>\n",
       "    <tr>\n",
       "      <th>397</th>\n",
       "      <td>1.135371e-10</td>\n",
       "      <td>0.384829</td>\n",
       "    </tr>\n",
       "    <tr>\n",
       "      <th>398</th>\n",
       "      <td>1.065538e-10</td>\n",
       "      <td>0.384829</td>\n",
       "    </tr>\n",
       "    <tr>\n",
       "      <th>399</th>\n",
       "      <td>1.000000e-10</td>\n",
       "      <td>0.384829</td>\n",
       "    </tr>\n",
       "  </tbody>\n",
       "</table>\n",
       "<p>280 rows × 2 columns</p>\n",
       "</div>"
      ],
      "text/plain": [
       "            alpha       MSE\n",
       "120  4.917330e-03  0.388004\n",
       "121  4.614880e-03  0.386127\n",
       "122  4.331033e-03  0.384551\n",
       "123  4.064644e-03  0.383194\n",
       "124  3.814641e-03  0.382084\n",
       "..            ...       ...\n",
       "395  1.289068e-10  0.384829\n",
       "396  1.209781e-10  0.384829\n",
       "397  1.135371e-10  0.384829\n",
       "398  1.065538e-10  0.384829\n",
       "399  1.000000e-10  0.384829\n",
       "\n",
       "[280 rows x 2 columns]"
      ]
     },
     "execution_count": 1322,
     "metadata": {},
     "output_type": "execute_result"
    }
   ],
   "source": [
    "lasso_df[lasso_df.MSE <=0.39]"
   ]
  },
  {
   "cell_type": "code",
   "execution_count": 1323,
   "metadata": {},
   "outputs": [
    {
     "data": {
      "image/png": "[encoded data removed]",
      "text/plain": [
       "<Figure size 432x288 with 1 Axes>"
      ]
     },
     "metadata": {},
     "output_type": "display_data"
    }
   ],
   "source": [
    "#sous-forme graphique\n",
    "plt.plot(lcv.alphas_,avg_mse)\n",
    "plt.xlabel('Alpha')\n",
    "plt.ylabel('MSE')\n",
    "plt.title('MSE vs. Alpha')\n",
    "plt.show()\n"
   ]
  },
  {
   "cell_type": "code",
   "execution_count": 1324,
   "metadata": {},
   "outputs": [
    {
     "name": "stdout",
     "output_type": "stream",
     "text": [
      "0.0022956319242369095\n"
     ]
    }
   ],
   "source": [
    "#best alpha\n",
    "print(lcv.alpha_) #0.01"
   ]
  },
  {
   "cell_type": "code",
   "execution_count": 1326,
   "metadata": {},
   "outputs": [
    {
     "name": "stdout",
     "output_type": "stream",
     "text": [
      "MSE test:  0.37775841903722646\n",
      "MSE train:  0.3388249532207634\n",
      "R2 test:  0.8174140406326424\n",
      "R2 train:  0.8269060567281789\n"
     ]
    }
   ],
   "source": [
    "y_pred_test=lcv.predict(X_test)\n",
    "y_pred_train=lcv.predict(X_train)\n",
    "evaluate(y_test, y_train, y_pred_test, y_pred_train)"
   ]
  },
  {
   "cell_type": "markdown",
   "metadata": {},
   "source": [
    "On constate que les performances sont sensiblement similaire à notre modèles de regression linéaire sans régularization. Je pense chercher à explorer d'autre type d'algorythme. Sans amélioration avec ce modèele je pense que essayer Ridge ou ElasticNet (qui utilise les deux régularization L1 et L2] est une perte de temps. \n"
   ]
  },
  {
   "cell_type": "markdown",
   "metadata": {},
   "source": [
    "# Random Forest"
   ]
  },
  {
   "cell_type": "markdown",
   "metadata": {},
   "source": [
    "Je pense que ce serais une bonne idée de teste les forets aléatoires. Car cette algo n'est pas de la même famille que LinearRegression, Lasso et Ridge et il est populaire pour les problèmes de regression. "
   ]
  },
  {
   "cell_type": "code",
   "execution_count": 1327,
   "metadata": {},
   "outputs": [],
   "source": [
    "X_train, X_test, y_train, y_test = train_test_split(X, y, test_size=0.2, random_state=777)"
   ]
  },
  {
   "cell_type": "code",
   "execution_count": 1328,
   "metadata": {},
   "outputs": [
    {
     "data": {
      "text/plain": [
       "RandomForestRegressor(bootstrap=True, ccp_alpha=0.0, criterion='mse',\n",
       "                      max_depth=None, max_features='auto', max_leaf_nodes=None,\n",
       "                      max_samples=None, min_impurity_decrease=0.0,\n",
       "                      min_impurity_split=None, min_samples_leaf=1,\n",
       "                      min_samples_split=2, min_weight_fraction_leaf=0.0,\n",
       "                      n_estimators=20, n_jobs=None, oob_score=False,\n",
       "                      random_state=0, verbose=0, warm_start=False)"
      ]
     },
     "execution_count": 1328,
     "metadata": {},
     "output_type": "execute_result"
    }
   ],
   "source": [
    "regressor = RandomForestRegressor(n_estimators=20, random_state=0)\n",
    "regressor.fit(X_train, y_train)\n",
    "\n"
   ]
  },
  {
   "cell_type": "code",
   "execution_count": 1330,
   "metadata": {},
   "outputs": [
    {
     "name": "stdout",
     "output_type": "stream",
     "text": [
      "MSE test:  0.1236888954774135\n",
      "MSE train:  0.017845564384944043\n",
      "R2 test:  0.9402161421011062\n",
      "R2 train:  0.9908833187168228\n"
     ]
    }
   ],
   "source": [
    "y_pred_test=regressor.predict(X_test)\n",
    "y_pred_train=regressor.predict(X_train)\n",
    "evaluate(y_test, y_train, y_pred_test, y_pred_train)\n"
   ]
  },
  {
   "cell_type": "markdown",
   "metadata": {},
   "source": [
    "En quelques lignes le modèle affiche déjà de très bonne performance comparé à nos modèle précédents. je vais aller plus en profondeurs en le tunant et et utilisant la cross validation. (Meme si les random forest sont moins sujet au probelme d'overfitting)\n"
   ]
  },
  {
   "cell_type": "markdown",
   "metadata": {},
   "source": [
    "On regarde les paramètres de notre modèles:\n",
    "    "
   ]
  },
  {
   "cell_type": "code",
   "execution_count": 1331,
   "metadata": {},
   "outputs": [],
   "source": [
    "from pprint import pprint"
   ]
  },
  {
   "cell_type": "code",
   "execution_count": 1332,
   "metadata": {},
   "outputs": [
    {
     "name": "stdout",
     "output_type": "stream",
     "text": [
      "{'copy_X': True, 'fit_intercept': True, 'n_jobs': None, 'normalize': False}\n"
     ]
    }
   ],
   "source": [
    "pprint(model.get_params())"
   ]
  },
  {
   "cell_type": "markdown",
   "metadata": {},
   "source": [
    "n_estimators = number of trees in the foreset\n",
    "\n",
    "max_features = max number of features considered for splitting a node\n",
    "\n",
    "max_depth = max number of levels in each decision tree\n",
    "\n",
    "min_samples_split = min number of data points placed in a node before the node \n",
    "is split\n",
    "\n",
    "min_samples_leaf = min number of data points allowed in a leaf node\n",
    "\n",
    "bootstrap = method for sampling data points (with or without replacement)\n"
   ]
  },
  {
   "cell_type": "markdown",
   "metadata": {},
   "source": [
    "Je vais creer une liste de paramètre à essayer"
   ]
  },
  {
   "cell_type": "code",
   "execution_count": 1333,
   "metadata": {},
   "outputs": [],
   "source": [
    "\n",
    "n_estimators = [int(x) for x in np.linspace(start = 10, stop = 150, num = 10)]\n",
    "\n",
    "max_features = ['auto', 'sqrt']\n",
    "\n",
    "max_depth = [int(x) for x in np.linspace(10, 110, num = 11)]\n",
    "max_depth.append(None)\n",
    "\n",
    "min_samples_split = [2, 5, 10]\n",
    "\n",
    "min_samples_leaf = [1, 2, 4]\n",
    "\n",
    "bootstrap = [True, False]"
   ]
  },
  {
   "cell_type": "code",
   "execution_count": 1334,
   "metadata": {},
   "outputs": [],
   "source": [
    "\n",
    "random_grid = {'n_estimators': n_estimators,\n",
    "               'max_features': max_features,\n",
    "               'max_depth': max_depth,\n",
    "               'min_samples_split': min_samples_split,\n",
    "               'min_samples_leaf': min_samples_leaf,\n",
    "               'bootstrap': bootstrap}"
   ]
  },
  {
   "cell_type": "code",
   "execution_count": 1335,
   "metadata": {},
   "outputs": [
    {
     "name": "stdout",
     "output_type": "stream",
     "text": [
      "{'bootstrap': [True, False],\n",
      " 'max_depth': [10, 20, 30, 40, 50, 60, 70, 80, 90, 100, 110, None],\n",
      " 'max_features': ['auto', 'sqrt'],\n",
      " 'min_samples_leaf': [1, 2, 4],\n",
      " 'min_samples_split': [2, 5, 10],\n",
      " 'n_estimators': [10, 25, 41, 56, 72, 87, 103, 118, 134, 150]}\n"
     ]
    }
   ],
   "source": [
    "pprint(random_grid)"
   ]
  },
  {
   "cell_type": "markdown",
   "metadata": {},
   "source": [
    "On va essayer toutes c'est combinaison pour esperer trouver les meilleurs paramètres avec notre randomgrid"
   ]
  },
  {
   "cell_type": "code",
   "execution_count": 1336,
   "metadata": {},
   "outputs": [],
   "source": [
    "X = df_less_dummies_noOutlier_norm.drop([\"count\",\"atemp\"], axis=1)\n",
    "y = df_less_dummies_noOutlier_norm[\"count\"]\n",
    "X_train, X_test, y_train, y_test = train_test_split(X, y, test_size=0.2, random_state=777)\n"
   ]
  },
  {
   "cell_type": "code",
   "execution_count": 1337,
   "metadata": {},
   "outputs": [
    {
     "name": "stdout",
     "output_type": "stream",
     "text": [
      "Fitting 3 folds for each of 100 candidates, totalling 300 fits\n"
     ]
    },
    {
     "name": "stderr",
     "output_type": "stream",
     "text": [
      "[Parallel(n_jobs=-1)]: Using backend LokyBackend with 8 concurrent workers.\n",
      "[Parallel(n_jobs=-1)]: Done  25 tasks      | elapsed:   14.5s\n",
      "[Parallel(n_jobs=-1)]: Done 146 tasks      | elapsed:  1.0min\n",
      "[Parallel(n_jobs=-1)]: Done 300 out of 300 | elapsed:  2.4min finished\n"
     ]
    },
    {
     "data": {
      "text/plain": [
       "RandomizedSearchCV(cv=3, error_score=nan,\n",
       "                   estimator=RandomForestRegressor(bootstrap=True,\n",
       "                                                   ccp_alpha=0.0,\n",
       "                                                   criterion='mse',\n",
       "                                                   max_depth=None,\n",
       "                                                   max_features='auto',\n",
       "                                                   max_leaf_nodes=None,\n",
       "                                                   max_samples=None,\n",
       "                                                   min_impurity_decrease=0.0,\n",
       "                                                   min_impurity_split=None,\n",
       "                                                   min_samples_leaf=1,\n",
       "                                                   min_samples_split=2,\n",
       "                                                   min_weight_fraction_leaf=0.0,\n",
       "                                                   n_estimators=100,\n",
       "                                                   n_jobs=None, oob_score=Fals...\n",
       "                   iid='deprecated', n_iter=100, n_jobs=-1,\n",
       "                   param_distributions={'bootstrap': [True, False],\n",
       "                                        'max_depth': [10, 20, 30, 40, 50, 60,\n",
       "                                                      70, 80, 90, 100, 110,\n",
       "                                                      None],\n",
       "                                        'max_features': ['auto', 'sqrt'],\n",
       "                                        'min_samples_leaf': [1, 2, 4],\n",
       "                                        'min_samples_split': [2, 5, 10],\n",
       "                                        'n_estimators': [10, 25, 41, 56, 72, 87,\n",
       "                                                         103, 118, 134, 150]},\n",
       "                   pre_dispatch='2*n_jobs', random_state=42, refit=True,\n",
       "                   return_train_score=False, scoring=None, verbose=2)"
      ]
     },
     "execution_count": 1337,
     "metadata": {},
     "output_type": "execute_result"
    }
   ],
   "source": [
    "rf = RandomForestRegressor()\n",
    "# Random search de paramètre avec 3-Fold Cross validation\n",
    "rf_random = RandomizedSearchCV(estimator = rf, param_distributions = random_grid, n_iter = 100, cv = 3, verbose=2, random_state=42, n_jobs = -1)\n",
    "# Fit\n",
    "rf_random.fit(X_train, y_train)"
   ]
  },
  {
   "cell_type": "code",
   "execution_count": 1338,
   "metadata": {},
   "outputs": [
    {
     "data": {
      "text/plain": [
       "{'n_estimators': 118, 'min_samples_split': 5, 'min_samples_leaf': 1, 'max_features': 'auto', 'max_depth': 90, 'bootstrap': True}"
      ]
     },
     "execution_count": 1338,
     "metadata": {},
     "output_type": "execute_result"
    }
   ],
   "source": [
    "#Meilleurs paramètres\n",
    "rf_random.best_params_"
   ]
  },
  {
   "cell_type": "code",
   "execution_count": 1340,
   "metadata": {},
   "outputs": [
    {
     "name": "stdout",
     "output_type": "stream",
     "text": [
      "MSE test:  0.12224363050522728\n",
      "MSE train:  0.018052085948676997\n",
      "R2 test:  0.9409146972574921\n",
      "R2 train:  0.9907778139967678\n"
     ]
    }
   ],
   "source": [
    "best_grid = grid_search.best_estimator_\n",
    "y_pred_test = best_grid.predict(X_test)\n",
    "y_pred_train = best_grid.predict(X_train)\n",
    "evaluate(y_test, y_train, y_pred_test, y_pred_train)\n"
   ]
  },
  {
   "cell_type": "markdown",
   "metadata": {},
   "source": [
    "Nous avons une petite améliorations négligeable et une légère diminution du MSE. \n",
    "On peut tenter de rafiner les paramètres avec une GridSearch centré autour denos best_parameters précédents. Mais dans notre cas je pense pas que nous allons améliorer le model. "
   ]
  },
  {
   "cell_type": "code",
   "execution_count": 1341,
   "metadata": {},
   "outputs": [],
   "source": [
    "param_grid = {\n",
    "    'bootstrap': [True],\n",
    "    'max_depth': [80, 90, 100, 110],\n",
    "    'max_features': ['auto'],\n",
    "    'min_samples_leaf': [1, 2, 3],\n",
    "    'min_samples_split': [1, 2, 3],\n",
    "    'n_estimators': [90, 95, 103, 110, 115]\n",
    "}\n",
    "\n",
    "rf = RandomForestRegressor()\n",
    "\n",
    "grid_search = GridSearchCV(estimator = rf, param_grid = param_grid, \n",
    "                          cv = 3, n_jobs = -1, verbose = 2)"
   ]
  },
  {
   "cell_type": "code",
   "execution_count": 1342,
   "metadata": {},
   "outputs": [
    {
     "name": "stdout",
     "output_type": "stream",
     "text": [
      "Fitting 3 folds for each of 180 candidates, totalling 540 fits\n"
     ]
    },
    {
     "name": "stderr",
     "output_type": "stream",
     "text": [
      "[Parallel(n_jobs=-1)]: Using backend LokyBackend with 8 concurrent workers.\n",
      "[Parallel(n_jobs=-1)]: Done  34 tasks      | elapsed:   23.7s\n",
      "[Parallel(n_jobs=-1)]: Done 162 tasks      | elapsed:  1.8min\n",
      "[Parallel(n_jobs=-1)]: Done 365 tasks      | elapsed:  4.0min\n",
      "[Parallel(n_jobs=-1)]: Done 540 out of 540 | elapsed:  6.0min finished\n"
     ]
    },
    {
     "data": {
      "text/plain": [
       "{'bootstrap': True, 'max_depth': 100, 'max_features': 'auto', 'min_samples_leaf': 1, 'min_samples_split': 2, 'n_estimators': 110}"
      ]
     },
     "execution_count": 1342,
     "metadata": {},
     "output_type": "execute_result"
    }
   ],
   "source": [
    "# Fit the grid search to the data\n",
    "grid_search.fit(X_train, y_train)\n",
    "grid_search.best_params_"
   ]
  },
  {
   "cell_type": "code",
   "execution_count": 1343,
   "metadata": {},
   "outputs": [
    {
     "name": "stdout",
     "output_type": "stream",
     "text": [
      "MSE test:  0.12086349711954356\n",
      "MSE train:  0.01519840026182826\n",
      "R2 test:  0.9415817716774937\n",
      "R2 train:  0.9922356632599334\n"
     ]
    }
   ],
   "source": [
    "best_grid = grid_search.best_estimator_\n",
    "y_pred_test = best_grid.predict(X_test)\n",
    "y_pred_train = best_grid.predict(X_train)\n",
    "evaluate(y_test, y_train, y_pred_test, y_pred_train)\n"
   ]
  },
  {
   "cell_type": "markdown",
   "metadata": {},
   "source": [
    "Malgrés que le fine hyperparameter tuning n'a pas donné de meilleur résultat on peut considerer que ce modèle serais le modèle à envoyer en production étant donnée sa bonne performance et le fais qu'il n'overfit pas nos donnée de train. \n",
    "\n",
    "J'ai cru aussi comprendre que XGBOOST était une version améliorer et très utilisé de RandomForest il serait donc intéréssant d'essayer."
   ]
  },
  {
   "cell_type": "markdown",
   "metadata": {},
   "source": [
    "# Autres méthode et modèles\n",
    "\n",
    "Ici je veux essayer une librairie que j'ai trouver par la suite qui permet de facilement tester, tuner et évaluer un grand nombre de modèles sur un datasets. Afin de faire une prmeière passe qui va nous faciliter notre tarvail de recherche. \n",
    "\n",
    "https://medium.com/@shekharshashank1/2-words-code-to-compare-20-ml-regression-models-with-pycaret-8ed70c62a6b7"
   ]
  },
  {
   "cell_type": "code",
   "execution_count": 1349,
   "metadata": {},
   "outputs": [],
   "source": [
    "x_train,x_test,y_train,y_test=train_test_split(df_less_dummies_noOutlier_norm.drop('count',axis=1),df_less_dummies_noOutlier['count'],test_size=0.25,random_state=42)"
   ]
  },
  {
   "cell_type": "code",
   "execution_count": 1350,
   "metadata": {},
   "outputs": [
    {
     "data": {
      "text/html": [
       "<style  type=\"text/css\" >\n",
       "</style><table id=\"T_68980061_3253_11eb_b61a_9cb6d092420c\" ><thead>    <tr>        <th class=\"blank level0\" ></th>        <th class=\"col_heading level0 col0\" >Description</th>        <th class=\"col_heading level0 col1\" >Value</th>    </tr></thead><tbody>\n",
       "                <tr>\n",
       "                        <th id=\"T_68980061_3253_11eb_b61a_9cb6d092420clevel0_row0\" class=\"row_heading level0 row0\" >0</th>\n",
       "                        <td id=\"T_68980061_3253_11eb_b61a_9cb6d092420crow0_col0\" class=\"data row0 col0\" >session_id</td>\n",
       "                        <td id=\"T_68980061_3253_11eb_b61a_9cb6d092420crow0_col1\" class=\"data row0 col1\" >55</td>\n",
       "            </tr>\n",
       "            <tr>\n",
       "                        <th id=\"T_68980061_3253_11eb_b61a_9cb6d092420clevel0_row1\" class=\"row_heading level0 row1\" >1</th>\n",
       "                        <td id=\"T_68980061_3253_11eb_b61a_9cb6d092420crow1_col0\" class=\"data row1 col0\" >Target</td>\n",
       "                        <td id=\"T_68980061_3253_11eb_b61a_9cb6d092420crow1_col1\" class=\"data row1 col1\" >count</td>\n",
       "            </tr>\n",
       "            <tr>\n",
       "                        <th id=\"T_68980061_3253_11eb_b61a_9cb6d092420clevel0_row2\" class=\"row_heading level0 row2\" >2</th>\n",
       "                        <td id=\"T_68980061_3253_11eb_b61a_9cb6d092420crow2_col0\" class=\"data row2 col0\" >Original Data</td>\n",
       "                        <td id=\"T_68980061_3253_11eb_b61a_9cb6d092420crow2_col1\" class=\"data row2 col1\" >(10738, 55)</td>\n",
       "            </tr>\n",
       "            <tr>\n",
       "                        <th id=\"T_68980061_3253_11eb_b61a_9cb6d092420clevel0_row3\" class=\"row_heading level0 row3\" >3</th>\n",
       "                        <td id=\"T_68980061_3253_11eb_b61a_9cb6d092420crow3_col0\" class=\"data row3 col0\" >Missing Values</td>\n",
       "                        <td id=\"T_68980061_3253_11eb_b61a_9cb6d092420crow3_col1\" class=\"data row3 col1\" >False</td>\n",
       "            </tr>\n",
       "            <tr>\n",
       "                        <th id=\"T_68980061_3253_11eb_b61a_9cb6d092420clevel0_row4\" class=\"row_heading level0 row4\" >4</th>\n",
       "                        <td id=\"T_68980061_3253_11eb_b61a_9cb6d092420crow4_col0\" class=\"data row4 col0\" >Numeric Features</td>\n",
       "                        <td id=\"T_68980061_3253_11eb_b61a_9cb6d092420crow4_col1\" class=\"data row4 col1\" >53</td>\n",
       "            </tr>\n",
       "            <tr>\n",
       "                        <th id=\"T_68980061_3253_11eb_b61a_9cb6d092420clevel0_row5\" class=\"row_heading level0 row5\" >5</th>\n",
       "                        <td id=\"T_68980061_3253_11eb_b61a_9cb6d092420crow5_col0\" class=\"data row5 col0\" >Categorical Features</td>\n",
       "                        <td id=\"T_68980061_3253_11eb_b61a_9cb6d092420crow5_col1\" class=\"data row5 col1\" >1</td>\n",
       "            </tr>\n",
       "            <tr>\n",
       "                        <th id=\"T_68980061_3253_11eb_b61a_9cb6d092420clevel0_row6\" class=\"row_heading level0 row6\" >6</th>\n",
       "                        <td id=\"T_68980061_3253_11eb_b61a_9cb6d092420crow6_col0\" class=\"data row6 col0\" >Ordinal Features</td>\n",
       "                        <td id=\"T_68980061_3253_11eb_b61a_9cb6d092420crow6_col1\" class=\"data row6 col1\" >False</td>\n",
       "            </tr>\n",
       "            <tr>\n",
       "                        <th id=\"T_68980061_3253_11eb_b61a_9cb6d092420clevel0_row7\" class=\"row_heading level0 row7\" >7</th>\n",
       "                        <td id=\"T_68980061_3253_11eb_b61a_9cb6d092420crow7_col0\" class=\"data row7 col0\" >High Cardinality Features</td>\n",
       "                        <td id=\"T_68980061_3253_11eb_b61a_9cb6d092420crow7_col1\" class=\"data row7 col1\" >False</td>\n",
       "            </tr>\n",
       "            <tr>\n",
       "                        <th id=\"T_68980061_3253_11eb_b61a_9cb6d092420clevel0_row8\" class=\"row_heading level0 row8\" >8</th>\n",
       "                        <td id=\"T_68980061_3253_11eb_b61a_9cb6d092420crow8_col0\" class=\"data row8 col0\" >High Cardinality Method</td>\n",
       "                        <td id=\"T_68980061_3253_11eb_b61a_9cb6d092420crow8_col1\" class=\"data row8 col1\" >None</td>\n",
       "            </tr>\n",
       "            <tr>\n",
       "                        <th id=\"T_68980061_3253_11eb_b61a_9cb6d092420clevel0_row9\" class=\"row_heading level0 row9\" >9</th>\n",
       "                        <td id=\"T_68980061_3253_11eb_b61a_9cb6d092420crow9_col0\" class=\"data row9 col0\" >Transformed Train Set</td>\n",
       "                        <td id=\"T_68980061_3253_11eb_b61a_9cb6d092420crow9_col1\" class=\"data row9 col1\" >(7516, 57)</td>\n",
       "            </tr>\n",
       "            <tr>\n",
       "                        <th id=\"T_68980061_3253_11eb_b61a_9cb6d092420clevel0_row10\" class=\"row_heading level0 row10\" >10</th>\n",
       "                        <td id=\"T_68980061_3253_11eb_b61a_9cb6d092420crow10_col0\" class=\"data row10 col0\" >Transformed Test Set</td>\n",
       "                        <td id=\"T_68980061_3253_11eb_b61a_9cb6d092420crow10_col1\" class=\"data row10 col1\" >(3222, 57)</td>\n",
       "            </tr>\n",
       "            <tr>\n",
       "                        <th id=\"T_68980061_3253_11eb_b61a_9cb6d092420clevel0_row11\" class=\"row_heading level0 row11\" >11</th>\n",
       "                        <td id=\"T_68980061_3253_11eb_b61a_9cb6d092420crow11_col0\" class=\"data row11 col0\" >Shuffle Train-Test</td>\n",
       "                        <td id=\"T_68980061_3253_11eb_b61a_9cb6d092420crow11_col1\" class=\"data row11 col1\" >True</td>\n",
       "            </tr>\n",
       "            <tr>\n",
       "                        <th id=\"T_68980061_3253_11eb_b61a_9cb6d092420clevel0_row12\" class=\"row_heading level0 row12\" >12</th>\n",
       "                        <td id=\"T_68980061_3253_11eb_b61a_9cb6d092420crow12_col0\" class=\"data row12 col0\" >Stratify Train-Test</td>\n",
       "                        <td id=\"T_68980061_3253_11eb_b61a_9cb6d092420crow12_col1\" class=\"data row12 col1\" >False</td>\n",
       "            </tr>\n",
       "            <tr>\n",
       "                        <th id=\"T_68980061_3253_11eb_b61a_9cb6d092420clevel0_row13\" class=\"row_heading level0 row13\" >13</th>\n",
       "                        <td id=\"T_68980061_3253_11eb_b61a_9cb6d092420crow13_col0\" class=\"data row13 col0\" >Fold Generator</td>\n",
       "                        <td id=\"T_68980061_3253_11eb_b61a_9cb6d092420crow13_col1\" class=\"data row13 col1\" >KFold</td>\n",
       "            </tr>\n",
       "            <tr>\n",
       "                        <th id=\"T_68980061_3253_11eb_b61a_9cb6d092420clevel0_row14\" class=\"row_heading level0 row14\" >14</th>\n",
       "                        <td id=\"T_68980061_3253_11eb_b61a_9cb6d092420crow14_col0\" class=\"data row14 col0\" >Fold Number</td>\n",
       "                        <td id=\"T_68980061_3253_11eb_b61a_9cb6d092420crow14_col1\" class=\"data row14 col1\" >10</td>\n",
       "            </tr>\n",
       "            <tr>\n",
       "                        <th id=\"T_68980061_3253_11eb_b61a_9cb6d092420clevel0_row15\" class=\"row_heading level0 row15\" >15</th>\n",
       "                        <td id=\"T_68980061_3253_11eb_b61a_9cb6d092420crow15_col0\" class=\"data row15 col0\" >CPU Jobs</td>\n",
       "                        <td id=\"T_68980061_3253_11eb_b61a_9cb6d092420crow15_col1\" class=\"data row15 col1\" >-1</td>\n",
       "            </tr>\n",
       "            <tr>\n",
       "                        <th id=\"T_68980061_3253_11eb_b61a_9cb6d092420clevel0_row16\" class=\"row_heading level0 row16\" >16</th>\n",
       "                        <td id=\"T_68980061_3253_11eb_b61a_9cb6d092420crow16_col0\" class=\"data row16 col0\" >Use GPU</td>\n",
       "                        <td id=\"T_68980061_3253_11eb_b61a_9cb6d092420crow16_col1\" class=\"data row16 col1\" >False</td>\n",
       "            </tr>\n",
       "            <tr>\n",
       "                        <th id=\"T_68980061_3253_11eb_b61a_9cb6d092420clevel0_row17\" class=\"row_heading level0 row17\" >17</th>\n",
       "                        <td id=\"T_68980061_3253_11eb_b61a_9cb6d092420crow17_col0\" class=\"data row17 col0\" >Log Experiment</td>\n",
       "                        <td id=\"T_68980061_3253_11eb_b61a_9cb6d092420crow17_col1\" class=\"data row17 col1\" >False</td>\n",
       "            </tr>\n",
       "            <tr>\n",
       "                        <th id=\"T_68980061_3253_11eb_b61a_9cb6d092420clevel0_row18\" class=\"row_heading level0 row18\" >18</th>\n",
       "                        <td id=\"T_68980061_3253_11eb_b61a_9cb6d092420crow18_col0\" class=\"data row18 col0\" >Experiment Name</td>\n",
       "                        <td id=\"T_68980061_3253_11eb_b61a_9cb6d092420crow18_col1\" class=\"data row18 col1\" >reg-default-name</td>\n",
       "            </tr>\n",
       "            <tr>\n",
       "                        <th id=\"T_68980061_3253_11eb_b61a_9cb6d092420clevel0_row19\" class=\"row_heading level0 row19\" >19</th>\n",
       "                        <td id=\"T_68980061_3253_11eb_b61a_9cb6d092420crow19_col0\" class=\"data row19 col0\" >USI</td>\n",
       "                        <td id=\"T_68980061_3253_11eb_b61a_9cb6d092420crow19_col1\" class=\"data row19 col1\" >939f</td>\n",
       "            </tr>\n",
       "            <tr>\n",
       "                        <th id=\"T_68980061_3253_11eb_b61a_9cb6d092420clevel0_row20\" class=\"row_heading level0 row20\" >20</th>\n",
       "                        <td id=\"T_68980061_3253_11eb_b61a_9cb6d092420crow20_col0\" class=\"data row20 col0\" >Imputation Type</td>\n",
       "                        <td id=\"T_68980061_3253_11eb_b61a_9cb6d092420crow20_col1\" class=\"data row20 col1\" >simple</td>\n",
       "            </tr>\n",
       "            <tr>\n",
       "                        <th id=\"T_68980061_3253_11eb_b61a_9cb6d092420clevel0_row21\" class=\"row_heading level0 row21\" >21</th>\n",
       "                        <td id=\"T_68980061_3253_11eb_b61a_9cb6d092420crow21_col0\" class=\"data row21 col0\" >Iterative Imputation Iteration</td>\n",
       "                        <td id=\"T_68980061_3253_11eb_b61a_9cb6d092420crow21_col1\" class=\"data row21 col1\" >None</td>\n",
       "            </tr>\n",
       "            <tr>\n",
       "                        <th id=\"T_68980061_3253_11eb_b61a_9cb6d092420clevel0_row22\" class=\"row_heading level0 row22\" >22</th>\n",
       "                        <td id=\"T_68980061_3253_11eb_b61a_9cb6d092420crow22_col0\" class=\"data row22 col0\" >Numeric Imputer</td>\n",
       "                        <td id=\"T_68980061_3253_11eb_b61a_9cb6d092420crow22_col1\" class=\"data row22 col1\" >mean</td>\n",
       "            </tr>\n",
       "            <tr>\n",
       "                        <th id=\"T_68980061_3253_11eb_b61a_9cb6d092420clevel0_row23\" class=\"row_heading level0 row23\" >23</th>\n",
       "                        <td id=\"T_68980061_3253_11eb_b61a_9cb6d092420crow23_col0\" class=\"data row23 col0\" >Iterative Imputation Numeric Model</td>\n",
       "                        <td id=\"T_68980061_3253_11eb_b61a_9cb6d092420crow23_col1\" class=\"data row23 col1\" >None</td>\n",
       "            </tr>\n",
       "            <tr>\n",
       "                        <th id=\"T_68980061_3253_11eb_b61a_9cb6d092420clevel0_row24\" class=\"row_heading level0 row24\" >24</th>\n",
       "                        <td id=\"T_68980061_3253_11eb_b61a_9cb6d092420crow24_col0\" class=\"data row24 col0\" >Categorical Imputer</td>\n",
       "                        <td id=\"T_68980061_3253_11eb_b61a_9cb6d092420crow24_col1\" class=\"data row24 col1\" >constant</td>\n",
       "            </tr>\n",
       "            <tr>\n",
       "                        <th id=\"T_68980061_3253_11eb_b61a_9cb6d092420clevel0_row25\" class=\"row_heading level0 row25\" >25</th>\n",
       "                        <td id=\"T_68980061_3253_11eb_b61a_9cb6d092420crow25_col0\" class=\"data row25 col0\" >Iterative Imputation Categorical Model</td>\n",
       "                        <td id=\"T_68980061_3253_11eb_b61a_9cb6d092420crow25_col1\" class=\"data row25 col1\" >None</td>\n",
       "            </tr>\n",
       "            <tr>\n",
       "                        <th id=\"T_68980061_3253_11eb_b61a_9cb6d092420clevel0_row26\" class=\"row_heading level0 row26\" >26</th>\n",
       "                        <td id=\"T_68980061_3253_11eb_b61a_9cb6d092420crow26_col0\" class=\"data row26 col0\" >Unknown Categoricals Handling</td>\n",
       "                        <td id=\"T_68980061_3253_11eb_b61a_9cb6d092420crow26_col1\" class=\"data row26 col1\" >least_frequent</td>\n",
       "            </tr>\n",
       "            <tr>\n",
       "                        <th id=\"T_68980061_3253_11eb_b61a_9cb6d092420clevel0_row27\" class=\"row_heading level0 row27\" >27</th>\n",
       "                        <td id=\"T_68980061_3253_11eb_b61a_9cb6d092420crow27_col0\" class=\"data row27 col0\" >Normalize</td>\n",
       "                        <td id=\"T_68980061_3253_11eb_b61a_9cb6d092420crow27_col1\" class=\"data row27 col1\" >False</td>\n",
       "            </tr>\n",
       "            <tr>\n",
       "                        <th id=\"T_68980061_3253_11eb_b61a_9cb6d092420clevel0_row28\" class=\"row_heading level0 row28\" >28</th>\n",
       "                        <td id=\"T_68980061_3253_11eb_b61a_9cb6d092420crow28_col0\" class=\"data row28 col0\" >Normalize Method</td>\n",
       "                        <td id=\"T_68980061_3253_11eb_b61a_9cb6d092420crow28_col1\" class=\"data row28 col1\" >None</td>\n",
       "            </tr>\n",
       "            <tr>\n",
       "                        <th id=\"T_68980061_3253_11eb_b61a_9cb6d092420clevel0_row29\" class=\"row_heading level0 row29\" >29</th>\n",
       "                        <td id=\"T_68980061_3253_11eb_b61a_9cb6d092420crow29_col0\" class=\"data row29 col0\" >Transformation</td>\n",
       "                        <td id=\"T_68980061_3253_11eb_b61a_9cb6d092420crow29_col1\" class=\"data row29 col1\" >False</td>\n",
       "            </tr>\n",
       "            <tr>\n",
       "                        <th id=\"T_68980061_3253_11eb_b61a_9cb6d092420clevel0_row30\" class=\"row_heading level0 row30\" >30</th>\n",
       "                        <td id=\"T_68980061_3253_11eb_b61a_9cb6d092420crow30_col0\" class=\"data row30 col0\" >Transformation Method</td>\n",
       "                        <td id=\"T_68980061_3253_11eb_b61a_9cb6d092420crow30_col1\" class=\"data row30 col1\" >None</td>\n",
       "            </tr>\n",
       "            <tr>\n",
       "                        <th id=\"T_68980061_3253_11eb_b61a_9cb6d092420clevel0_row31\" class=\"row_heading level0 row31\" >31</th>\n",
       "                        <td id=\"T_68980061_3253_11eb_b61a_9cb6d092420crow31_col0\" class=\"data row31 col0\" >PCA</td>\n",
       "                        <td id=\"T_68980061_3253_11eb_b61a_9cb6d092420crow31_col1\" class=\"data row31 col1\" >False</td>\n",
       "            </tr>\n",
       "            <tr>\n",
       "                        <th id=\"T_68980061_3253_11eb_b61a_9cb6d092420clevel0_row32\" class=\"row_heading level0 row32\" >32</th>\n",
       "                        <td id=\"T_68980061_3253_11eb_b61a_9cb6d092420crow32_col0\" class=\"data row32 col0\" >PCA Method</td>\n",
       "                        <td id=\"T_68980061_3253_11eb_b61a_9cb6d092420crow32_col1\" class=\"data row32 col1\" >None</td>\n",
       "            </tr>\n",
       "            <tr>\n",
       "                        <th id=\"T_68980061_3253_11eb_b61a_9cb6d092420clevel0_row33\" class=\"row_heading level0 row33\" >33</th>\n",
       "                        <td id=\"T_68980061_3253_11eb_b61a_9cb6d092420crow33_col0\" class=\"data row33 col0\" >PCA Components</td>\n",
       "                        <td id=\"T_68980061_3253_11eb_b61a_9cb6d092420crow33_col1\" class=\"data row33 col1\" >None</td>\n",
       "            </tr>\n",
       "            <tr>\n",
       "                        <th id=\"T_68980061_3253_11eb_b61a_9cb6d092420clevel0_row34\" class=\"row_heading level0 row34\" >34</th>\n",
       "                        <td id=\"T_68980061_3253_11eb_b61a_9cb6d092420crow34_col0\" class=\"data row34 col0\" >Ignore Low Variance</td>\n",
       "                        <td id=\"T_68980061_3253_11eb_b61a_9cb6d092420crow34_col1\" class=\"data row34 col1\" >False</td>\n",
       "            </tr>\n",
       "            <tr>\n",
       "                        <th id=\"T_68980061_3253_11eb_b61a_9cb6d092420clevel0_row35\" class=\"row_heading level0 row35\" >35</th>\n",
       "                        <td id=\"T_68980061_3253_11eb_b61a_9cb6d092420crow35_col0\" class=\"data row35 col0\" >Combine Rare Levels</td>\n",
       "                        <td id=\"T_68980061_3253_11eb_b61a_9cb6d092420crow35_col1\" class=\"data row35 col1\" >False</td>\n",
       "            </tr>\n",
       "            <tr>\n",
       "                        <th id=\"T_68980061_3253_11eb_b61a_9cb6d092420clevel0_row36\" class=\"row_heading level0 row36\" >36</th>\n",
       "                        <td id=\"T_68980061_3253_11eb_b61a_9cb6d092420crow36_col0\" class=\"data row36 col0\" >Rare Level Threshold</td>\n",
       "                        <td id=\"T_68980061_3253_11eb_b61a_9cb6d092420crow36_col1\" class=\"data row36 col1\" >None</td>\n",
       "            </tr>\n",
       "            <tr>\n",
       "                        <th id=\"T_68980061_3253_11eb_b61a_9cb6d092420clevel0_row37\" class=\"row_heading level0 row37\" >37</th>\n",
       "                        <td id=\"T_68980061_3253_11eb_b61a_9cb6d092420crow37_col0\" class=\"data row37 col0\" >Numeric Binning</td>\n",
       "                        <td id=\"T_68980061_3253_11eb_b61a_9cb6d092420crow37_col1\" class=\"data row37 col1\" >False</td>\n",
       "            </tr>\n",
       "            <tr>\n",
       "                        <th id=\"T_68980061_3253_11eb_b61a_9cb6d092420clevel0_row38\" class=\"row_heading level0 row38\" >38</th>\n",
       "                        <td id=\"T_68980061_3253_11eb_b61a_9cb6d092420crow38_col0\" class=\"data row38 col0\" >Remove Outliers</td>\n",
       "                        <td id=\"T_68980061_3253_11eb_b61a_9cb6d092420crow38_col1\" class=\"data row38 col1\" >False</td>\n",
       "            </tr>\n",
       "            <tr>\n",
       "                        <th id=\"T_68980061_3253_11eb_b61a_9cb6d092420clevel0_row39\" class=\"row_heading level0 row39\" >39</th>\n",
       "                        <td id=\"T_68980061_3253_11eb_b61a_9cb6d092420crow39_col0\" class=\"data row39 col0\" >Outliers Threshold</td>\n",
       "                        <td id=\"T_68980061_3253_11eb_b61a_9cb6d092420crow39_col1\" class=\"data row39 col1\" >None</td>\n",
       "            </tr>\n",
       "            <tr>\n",
       "                        <th id=\"T_68980061_3253_11eb_b61a_9cb6d092420clevel0_row40\" class=\"row_heading level0 row40\" >40</th>\n",
       "                        <td id=\"T_68980061_3253_11eb_b61a_9cb6d092420crow40_col0\" class=\"data row40 col0\" >Remove Multicollinearity</td>\n",
       "                        <td id=\"T_68980061_3253_11eb_b61a_9cb6d092420crow40_col1\" class=\"data row40 col1\" >False</td>\n",
       "            </tr>\n",
       "            <tr>\n",
       "                        <th id=\"T_68980061_3253_11eb_b61a_9cb6d092420clevel0_row41\" class=\"row_heading level0 row41\" >41</th>\n",
       "                        <td id=\"T_68980061_3253_11eb_b61a_9cb6d092420crow41_col0\" class=\"data row41 col0\" >Multicollinearity Threshold</td>\n",
       "                        <td id=\"T_68980061_3253_11eb_b61a_9cb6d092420crow41_col1\" class=\"data row41 col1\" >None</td>\n",
       "            </tr>\n",
       "            <tr>\n",
       "                        <th id=\"T_68980061_3253_11eb_b61a_9cb6d092420clevel0_row42\" class=\"row_heading level0 row42\" >42</th>\n",
       "                        <td id=\"T_68980061_3253_11eb_b61a_9cb6d092420crow42_col0\" class=\"data row42 col0\" >Clustering</td>\n",
       "                        <td id=\"T_68980061_3253_11eb_b61a_9cb6d092420crow42_col1\" class=\"data row42 col1\" >False</td>\n",
       "            </tr>\n",
       "            <tr>\n",
       "                        <th id=\"T_68980061_3253_11eb_b61a_9cb6d092420clevel0_row43\" class=\"row_heading level0 row43\" >43</th>\n",
       "                        <td id=\"T_68980061_3253_11eb_b61a_9cb6d092420crow43_col0\" class=\"data row43 col0\" >Clustering Iteration</td>\n",
       "                        <td id=\"T_68980061_3253_11eb_b61a_9cb6d092420crow43_col1\" class=\"data row43 col1\" >None</td>\n",
       "            </tr>\n",
       "            <tr>\n",
       "                        <th id=\"T_68980061_3253_11eb_b61a_9cb6d092420clevel0_row44\" class=\"row_heading level0 row44\" >44</th>\n",
       "                        <td id=\"T_68980061_3253_11eb_b61a_9cb6d092420crow44_col0\" class=\"data row44 col0\" >Polynomial Features</td>\n",
       "                        <td id=\"T_68980061_3253_11eb_b61a_9cb6d092420crow44_col1\" class=\"data row44 col1\" >False</td>\n",
       "            </tr>\n",
       "            <tr>\n",
       "                        <th id=\"T_68980061_3253_11eb_b61a_9cb6d092420clevel0_row45\" class=\"row_heading level0 row45\" >45</th>\n",
       "                        <td id=\"T_68980061_3253_11eb_b61a_9cb6d092420crow45_col0\" class=\"data row45 col0\" >Polynomial Degree</td>\n",
       "                        <td id=\"T_68980061_3253_11eb_b61a_9cb6d092420crow45_col1\" class=\"data row45 col1\" >None</td>\n",
       "            </tr>\n",
       "            <tr>\n",
       "                        <th id=\"T_68980061_3253_11eb_b61a_9cb6d092420clevel0_row46\" class=\"row_heading level0 row46\" >46</th>\n",
       "                        <td id=\"T_68980061_3253_11eb_b61a_9cb6d092420crow46_col0\" class=\"data row46 col0\" >Trignometry Features</td>\n",
       "                        <td id=\"T_68980061_3253_11eb_b61a_9cb6d092420crow46_col1\" class=\"data row46 col1\" >False</td>\n",
       "            </tr>\n",
       "            <tr>\n",
       "                        <th id=\"T_68980061_3253_11eb_b61a_9cb6d092420clevel0_row47\" class=\"row_heading level0 row47\" >47</th>\n",
       "                        <td id=\"T_68980061_3253_11eb_b61a_9cb6d092420crow47_col0\" class=\"data row47 col0\" >Polynomial Threshold</td>\n",
       "                        <td id=\"T_68980061_3253_11eb_b61a_9cb6d092420crow47_col1\" class=\"data row47 col1\" >None</td>\n",
       "            </tr>\n",
       "            <tr>\n",
       "                        <th id=\"T_68980061_3253_11eb_b61a_9cb6d092420clevel0_row48\" class=\"row_heading level0 row48\" >48</th>\n",
       "                        <td id=\"T_68980061_3253_11eb_b61a_9cb6d092420crow48_col0\" class=\"data row48 col0\" >Group Features</td>\n",
       "                        <td id=\"T_68980061_3253_11eb_b61a_9cb6d092420crow48_col1\" class=\"data row48 col1\" >False</td>\n",
       "            </tr>\n",
       "            <tr>\n",
       "                        <th id=\"T_68980061_3253_11eb_b61a_9cb6d092420clevel0_row49\" class=\"row_heading level0 row49\" >49</th>\n",
       "                        <td id=\"T_68980061_3253_11eb_b61a_9cb6d092420crow49_col0\" class=\"data row49 col0\" >Feature Selection</td>\n",
       "                        <td id=\"T_68980061_3253_11eb_b61a_9cb6d092420crow49_col1\" class=\"data row49 col1\" >False</td>\n",
       "            </tr>\n",
       "            <tr>\n",
       "                        <th id=\"T_68980061_3253_11eb_b61a_9cb6d092420clevel0_row50\" class=\"row_heading level0 row50\" >50</th>\n",
       "                        <td id=\"T_68980061_3253_11eb_b61a_9cb6d092420crow50_col0\" class=\"data row50 col0\" >Features Selection Threshold</td>\n",
       "                        <td id=\"T_68980061_3253_11eb_b61a_9cb6d092420crow50_col1\" class=\"data row50 col1\" >None</td>\n",
       "            </tr>\n",
       "            <tr>\n",
       "                        <th id=\"T_68980061_3253_11eb_b61a_9cb6d092420clevel0_row51\" class=\"row_heading level0 row51\" >51</th>\n",
       "                        <td id=\"T_68980061_3253_11eb_b61a_9cb6d092420crow51_col0\" class=\"data row51 col0\" >Feature Interaction</td>\n",
       "                        <td id=\"T_68980061_3253_11eb_b61a_9cb6d092420crow51_col1\" class=\"data row51 col1\" >False</td>\n",
       "            </tr>\n",
       "            <tr>\n",
       "                        <th id=\"T_68980061_3253_11eb_b61a_9cb6d092420clevel0_row52\" class=\"row_heading level0 row52\" >52</th>\n",
       "                        <td id=\"T_68980061_3253_11eb_b61a_9cb6d092420crow52_col0\" class=\"data row52 col0\" >Feature Ratio</td>\n",
       "                        <td id=\"T_68980061_3253_11eb_b61a_9cb6d092420crow52_col1\" class=\"data row52 col1\" >False</td>\n",
       "            </tr>\n",
       "            <tr>\n",
       "                        <th id=\"T_68980061_3253_11eb_b61a_9cb6d092420clevel0_row53\" class=\"row_heading level0 row53\" >53</th>\n",
       "                        <td id=\"T_68980061_3253_11eb_b61a_9cb6d092420crow53_col0\" class=\"data row53 col0\" >Interaction Threshold</td>\n",
       "                        <td id=\"T_68980061_3253_11eb_b61a_9cb6d092420crow53_col1\" class=\"data row53 col1\" >None</td>\n",
       "            </tr>\n",
       "            <tr>\n",
       "                        <th id=\"T_68980061_3253_11eb_b61a_9cb6d092420clevel0_row54\" class=\"row_heading level0 row54\" >54</th>\n",
       "                        <td id=\"T_68980061_3253_11eb_b61a_9cb6d092420crow54_col0\" class=\"data row54 col0\" >Transform Target</td>\n",
       "                        <td id=\"T_68980061_3253_11eb_b61a_9cb6d092420crow54_col1\" class=\"data row54 col1\" >False</td>\n",
       "            </tr>\n",
       "            <tr>\n",
       "                        <th id=\"T_68980061_3253_11eb_b61a_9cb6d092420clevel0_row55\" class=\"row_heading level0 row55\" >55</th>\n",
       "                        <td id=\"T_68980061_3253_11eb_b61a_9cb6d092420crow55_col0\" class=\"data row55 col0\" >Transform Target Method</td>\n",
       "                        <td id=\"T_68980061_3253_11eb_b61a_9cb6d092420crow55_col1\" class=\"data row55 col1\" >box-cox</td>\n",
       "            </tr>\n",
       "    </tbody></table>"
      ],
      "text/plain": [
       "<pandas.io.formats.style.Styler object at 0x000001C253D41F10>"
      ]
     },
     "metadata": {},
     "output_type": "display_data"
    }
   ],
   "source": [
    "caret_df = setup(data = df_less_dummies_noOutlier_norm, target = \"count\", session_id=55)"
   ]
  },
  {
   "cell_type": "code",
   "execution_count": 1351,
   "metadata": {
    "scrolled": true
   },
   "outputs": [
    {
     "data": {
      "text/html": [
       "<style  type=\"text/css\" >\n",
       "    #T_a03d622e_3253_11eb_be35_9cb6d092420c th {\n",
       "          text-align: left;\n",
       "    }#T_a03d622e_3253_11eb_be35_9cb6d092420crow0_col0,#T_a03d622e_3253_11eb_be35_9cb6d092420crow1_col0,#T_a03d622e_3253_11eb_be35_9cb6d092420crow1_col1,#T_a03d622e_3253_11eb_be35_9cb6d092420crow1_col2,#T_a03d622e_3253_11eb_be35_9cb6d092420crow1_col3,#T_a03d622e_3253_11eb_be35_9cb6d092420crow1_col4,#T_a03d622e_3253_11eb_be35_9cb6d092420crow1_col5,#T_a03d622e_3253_11eb_be35_9cb6d092420crow1_col6,#T_a03d622e_3253_11eb_be35_9cb6d092420crow2_col0,#T_a03d622e_3253_11eb_be35_9cb6d092420crow2_col1,#T_a03d622e_3253_11eb_be35_9cb6d092420crow2_col2,#T_a03d622e_3253_11eb_be35_9cb6d092420crow2_col3,#T_a03d622e_3253_11eb_be35_9cb6d092420crow2_col4,#T_a03d622e_3253_11eb_be35_9cb6d092420crow2_col5,#T_a03d622e_3253_11eb_be35_9cb6d092420crow2_col6,#T_a03d622e_3253_11eb_be35_9cb6d092420crow3_col0,#T_a03d622e_3253_11eb_be35_9cb6d092420crow3_col1,#T_a03d622e_3253_11eb_be35_9cb6d092420crow3_col2,#T_a03d622e_3253_11eb_be35_9cb6d092420crow3_col3,#T_a03d622e_3253_11eb_be35_9cb6d092420crow3_col4,#T_a03d622e_3253_11eb_be35_9cb6d092420crow3_col5,#T_a03d622e_3253_11eb_be35_9cb6d092420crow3_col6,#T_a03d622e_3253_11eb_be35_9cb6d092420crow4_col0,#T_a03d622e_3253_11eb_be35_9cb6d092420crow4_col1,#T_a03d622e_3253_11eb_be35_9cb6d092420crow4_col2,#T_a03d622e_3253_11eb_be35_9cb6d092420crow4_col3,#T_a03d622e_3253_11eb_be35_9cb6d092420crow4_col4,#T_a03d622e_3253_11eb_be35_9cb6d092420crow4_col5,#T_a03d622e_3253_11eb_be35_9cb6d092420crow4_col6,#T_a03d622e_3253_11eb_be35_9cb6d092420crow5_col0,#T_a03d622e_3253_11eb_be35_9cb6d092420crow5_col1,#T_a03d622e_3253_11eb_be35_9cb6d092420crow5_col2,#T_a03d622e_3253_11eb_be35_9cb6d092420crow5_col3,#T_a03d622e_3253_11eb_be35_9cb6d092420crow5_col4,#T_a03d622e_3253_11eb_be35_9cb6d092420crow5_col5,#T_a03d622e_3253_11eb_be35_9cb6d092420crow5_col6,#T_a03d622e_3253_11eb_be35_9cb6d092420crow6_col0,#T_a03d622e_3253_11eb_be35_9cb6d092420crow6_col1,#T_a03d622e_3253_11eb_be35_9cb6d092420crow6_col2,#T_a03d622e_3253_11eb_be35_9cb6d092420crow6_col3,#T_a03d622e_3253_11eb_be35_9cb6d092420crow6_col4,#T_a03d622e_3253_11eb_be35_9cb6d092420crow6_col5,#T_a03d622e_3253_11eb_be35_9cb6d092420crow6_col6,#T_a03d622e_3253_11eb_be35_9cb6d092420crow7_col0,#T_a03d622e_3253_11eb_be35_9cb6d092420crow7_col1,#T_a03d622e_3253_11eb_be35_9cb6d092420crow7_col2,#T_a03d622e_3253_11eb_be35_9cb6d092420crow7_col3,#T_a03d622e_3253_11eb_be35_9cb6d092420crow7_col4,#T_a03d622e_3253_11eb_be35_9cb6d092420crow7_col5,#T_a03d622e_3253_11eb_be35_9cb6d092420crow7_col6,#T_a03d622e_3253_11eb_be35_9cb6d092420crow8_col0,#T_a03d622e_3253_11eb_be35_9cb6d092420crow8_col1,#T_a03d622e_3253_11eb_be35_9cb6d092420crow8_col2,#T_a03d622e_3253_11eb_be35_9cb6d092420crow8_col3,#T_a03d622e_3253_11eb_be35_9cb6d092420crow8_col4,#T_a03d622e_3253_11eb_be35_9cb6d092420crow8_col5,#T_a03d622e_3253_11eb_be35_9cb6d092420crow8_col6,#T_a03d622e_3253_11eb_be35_9cb6d092420crow9_col0,#T_a03d622e_3253_11eb_be35_9cb6d092420crow9_col1,#T_a03d622e_3253_11eb_be35_9cb6d092420crow9_col2,#T_a03d622e_3253_11eb_be35_9cb6d092420crow9_col3,#T_a03d622e_3253_11eb_be35_9cb6d092420crow9_col4,#T_a03d622e_3253_11eb_be35_9cb6d092420crow9_col5,#T_a03d622e_3253_11eb_be35_9cb6d092420crow9_col6,#T_a03d622e_3253_11eb_be35_9cb6d092420crow10_col0,#T_a03d622e_3253_11eb_be35_9cb6d092420crow10_col1,#T_a03d622e_3253_11eb_be35_9cb6d092420crow10_col2,#T_a03d622e_3253_11eb_be35_9cb6d092420crow10_col3,#T_a03d622e_3253_11eb_be35_9cb6d092420crow10_col4,#T_a03d622e_3253_11eb_be35_9cb6d092420crow10_col5,#T_a03d622e_3253_11eb_be35_9cb6d092420crow10_col6,#T_a03d622e_3253_11eb_be35_9cb6d092420crow11_col0,#T_a03d622e_3253_11eb_be35_9cb6d092420crow11_col1,#T_a03d622e_3253_11eb_be35_9cb6d092420crow11_col2,#T_a03d622e_3253_11eb_be35_9cb6d092420crow11_col3,#T_a03d622e_3253_11eb_be35_9cb6d092420crow11_col4,#T_a03d622e_3253_11eb_be35_9cb6d092420crow11_col5,#T_a03d622e_3253_11eb_be35_9cb6d092420crow11_col6,#T_a03d622e_3253_11eb_be35_9cb6d092420crow12_col0,#T_a03d622e_3253_11eb_be35_9cb6d092420crow12_col1,#T_a03d622e_3253_11eb_be35_9cb6d092420crow12_col2,#T_a03d622e_3253_11eb_be35_9cb6d092420crow12_col3,#T_a03d622e_3253_11eb_be35_9cb6d092420crow12_col4,#T_a03d622e_3253_11eb_be35_9cb6d092420crow12_col5,#T_a03d622e_3253_11eb_be35_9cb6d092420crow12_col6,#T_a03d622e_3253_11eb_be35_9cb6d092420crow13_col0,#T_a03d622e_3253_11eb_be35_9cb6d092420crow13_col1,#T_a03d622e_3253_11eb_be35_9cb6d092420crow13_col2,#T_a03d622e_3253_11eb_be35_9cb6d092420crow13_col3,#T_a03d622e_3253_11eb_be35_9cb6d092420crow13_col4,#T_a03d622e_3253_11eb_be35_9cb6d092420crow13_col5,#T_a03d622e_3253_11eb_be35_9cb6d092420crow13_col6,#T_a03d622e_3253_11eb_be35_9cb6d092420crow14_col0,#T_a03d622e_3253_11eb_be35_9cb6d092420crow14_col1,#T_a03d622e_3253_11eb_be35_9cb6d092420crow14_col2,#T_a03d622e_3253_11eb_be35_9cb6d092420crow14_col3,#T_a03d622e_3253_11eb_be35_9cb6d092420crow14_col4,#T_a03d622e_3253_11eb_be35_9cb6d092420crow14_col5,#T_a03d622e_3253_11eb_be35_9cb6d092420crow14_col6,#T_a03d622e_3253_11eb_be35_9cb6d092420crow15_col0,#T_a03d622e_3253_11eb_be35_9cb6d092420crow15_col1,#T_a03d622e_3253_11eb_be35_9cb6d092420crow15_col2,#T_a03d622e_3253_11eb_be35_9cb6d092420crow15_col3,#T_a03d622e_3253_11eb_be35_9cb6d092420crow15_col4,#T_a03d622e_3253_11eb_be35_9cb6d092420crow15_col5,#T_a03d622e_3253_11eb_be35_9cb6d092420crow15_col6,#T_a03d622e_3253_11eb_be35_9cb6d092420crow16_col0,#T_a03d622e_3253_11eb_be35_9cb6d092420crow16_col1,#T_a03d622e_3253_11eb_be35_9cb6d092420crow16_col2,#T_a03d622e_3253_11eb_be35_9cb6d092420crow16_col3,#T_a03d622e_3253_11eb_be35_9cb6d092420crow16_col4,#T_a03d622e_3253_11eb_be35_9cb6d092420crow16_col5,#T_a03d622e_3253_11eb_be35_9cb6d092420crow16_col6,#T_a03d622e_3253_11eb_be35_9cb6d092420crow17_col0,#T_a03d622e_3253_11eb_be35_9cb6d092420crow17_col1,#T_a03d622e_3253_11eb_be35_9cb6d092420crow17_col2,#T_a03d622e_3253_11eb_be35_9cb6d092420crow17_col3,#T_a03d622e_3253_11eb_be35_9cb6d092420crow17_col4,#T_a03d622e_3253_11eb_be35_9cb6d092420crow17_col5,#T_a03d622e_3253_11eb_be35_9cb6d092420crow17_col6,#T_a03d622e_3253_11eb_be35_9cb6d092420crow18_col0,#T_a03d622e_3253_11eb_be35_9cb6d092420crow18_col1,#T_a03d622e_3253_11eb_be35_9cb6d092420crow18_col2,#T_a03d622e_3253_11eb_be35_9cb6d092420crow18_col3,#T_a03d622e_3253_11eb_be35_9cb6d092420crow18_col4,#T_a03d622e_3253_11eb_be35_9cb6d092420crow18_col5,#T_a03d622e_3253_11eb_be35_9cb6d092420crow18_col6{\n",
       "            text-align:  left;\n",
       "            text-align:  left;\n",
       "        }#T_a03d622e_3253_11eb_be35_9cb6d092420crow0_col1,#T_a03d622e_3253_11eb_be35_9cb6d092420crow0_col2,#T_a03d622e_3253_11eb_be35_9cb6d092420crow0_col3,#T_a03d622e_3253_11eb_be35_9cb6d092420crow0_col4,#T_a03d622e_3253_11eb_be35_9cb6d092420crow0_col5,#T_a03d622e_3253_11eb_be35_9cb6d092420crow0_col6{\n",
       "            text-align:  left;\n",
       "            text-align:  left;\n",
       "            background-color:  yellow;\n",
       "        }#T_a03d622e_3253_11eb_be35_9cb6d092420crow0_col7,#T_a03d622e_3253_11eb_be35_9cb6d092420crow1_col7,#T_a03d622e_3253_11eb_be35_9cb6d092420crow2_col7,#T_a03d622e_3253_11eb_be35_9cb6d092420crow3_col7,#T_a03d622e_3253_11eb_be35_9cb6d092420crow4_col7,#T_a03d622e_3253_11eb_be35_9cb6d092420crow5_col7,#T_a03d622e_3253_11eb_be35_9cb6d092420crow6_col7,#T_a03d622e_3253_11eb_be35_9cb6d092420crow7_col7,#T_a03d622e_3253_11eb_be35_9cb6d092420crow8_col7,#T_a03d622e_3253_11eb_be35_9cb6d092420crow9_col7,#T_a03d622e_3253_11eb_be35_9cb6d092420crow10_col7,#T_a03d622e_3253_11eb_be35_9cb6d092420crow11_col7,#T_a03d622e_3253_11eb_be35_9cb6d092420crow12_col7,#T_a03d622e_3253_11eb_be35_9cb6d092420crow13_col7,#T_a03d622e_3253_11eb_be35_9cb6d092420crow14_col7,#T_a03d622e_3253_11eb_be35_9cb6d092420crow15_col7,#T_a03d622e_3253_11eb_be35_9cb6d092420crow16_col7,#T_a03d622e_3253_11eb_be35_9cb6d092420crow18_col7{\n",
       "            text-align:  left;\n",
       "            text-align:  left;\n",
       "            background-color:  lightgrey;\n",
       "        }#T_a03d622e_3253_11eb_be35_9cb6d092420crow17_col7{\n",
       "            text-align:  left;\n",
       "            text-align:  left;\n",
       "            background-color:  yellow;\n",
       "            background-color:  lightgrey;\n",
       "        }</style><table id=\"T_a03d622e_3253_11eb_be35_9cb6d092420c\" ><thead>    <tr>        <th class=\"blank level0\" ></th>        <th class=\"col_heading level0 col0\" >Model</th>        <th class=\"col_heading level0 col1\" >MAE</th>        <th class=\"col_heading level0 col2\" >MSE</th>        <th class=\"col_heading level0 col3\" >RMSE</th>        <th class=\"col_heading level0 col4\" >R2</th>        <th class=\"col_heading level0 col5\" >RMSLE</th>        <th class=\"col_heading level0 col6\" >MAPE</th>        <th class=\"col_heading level0 col7\" >TT (Sec)</th>    </tr></thead><tbody>\n",
       "                <tr>\n",
       "                        <th id=\"T_a03d622e_3253_11eb_be35_9cb6d092420clevel0_row0\" class=\"row_heading level0 row0\" >catboost</th>\n",
       "                        <td id=\"T_a03d622e_3253_11eb_be35_9cb6d092420crow0_col0\" class=\"data row0 col0\" >CatBoost Regressor</td>\n",
       "                        <td id=\"T_a03d622e_3253_11eb_be35_9cb6d092420crow0_col1\" class=\"data row0 col1\" >0.1962</td>\n",
       "                        <td id=\"T_a03d622e_3253_11eb_be35_9cb6d092420crow0_col2\" class=\"data row0 col2\" >0.0858</td>\n",
       "                        <td id=\"T_a03d622e_3253_11eb_be35_9cb6d092420crow0_col3\" class=\"data row0 col3\" >0.2926</td>\n",
       "                        <td id=\"T_a03d622e_3253_11eb_be35_9cb6d092420crow0_col4\" class=\"data row0 col4\" >0.9562</td>\n",
       "                        <td id=\"T_a03d622e_3253_11eb_be35_9cb6d092420crow0_col5\" class=\"data row0 col5\" >0.0799</td>\n",
       "                        <td id=\"T_a03d622e_3253_11eb_be35_9cb6d092420crow0_col6\" class=\"data row0 col6\" >0.0671</td>\n",
       "                        <td id=\"T_a03d622e_3253_11eb_be35_9cb6d092420crow0_col7\" class=\"data row0 col7\" >3.5050</td>\n",
       "            </tr>\n",
       "            <tr>\n",
       "                        <th id=\"T_a03d622e_3253_11eb_be35_9cb6d092420clevel0_row1\" class=\"row_heading level0 row1\" >lightgbm</th>\n",
       "                        <td id=\"T_a03d622e_3253_11eb_be35_9cb6d092420crow1_col0\" class=\"data row1 col0\" >Light Gradient Boosting Machine</td>\n",
       "                        <td id=\"T_a03d622e_3253_11eb_be35_9cb6d092420crow1_col1\" class=\"data row1 col1\" >0.2271</td>\n",
       "                        <td id=\"T_a03d622e_3253_11eb_be35_9cb6d092420crow1_col2\" class=\"data row1 col2\" >0.1047</td>\n",
       "                        <td id=\"T_a03d622e_3253_11eb_be35_9cb6d092420crow1_col3\" class=\"data row1 col3\" >0.3234</td>\n",
       "                        <td id=\"T_a03d622e_3253_11eb_be35_9cb6d092420crow1_col4\" class=\"data row1 col4\" >0.9465</td>\n",
       "                        <td id=\"T_a03d622e_3253_11eb_be35_9cb6d092420crow1_col5\" class=\"data row1 col5\" >0.0848</td>\n",
       "                        <td id=\"T_a03d622e_3253_11eb_be35_9cb6d092420crow1_col6\" class=\"data row1 col6\" >0.0753</td>\n",
       "                        <td id=\"T_a03d622e_3253_11eb_be35_9cb6d092420crow1_col7\" class=\"data row1 col7\" >0.0590</td>\n",
       "            </tr>\n",
       "            <tr>\n",
       "                        <th id=\"T_a03d622e_3253_11eb_be35_9cb6d092420clevel0_row2\" class=\"row_heading level0 row2\" >xgboost</th>\n",
       "                        <td id=\"T_a03d622e_3253_11eb_be35_9cb6d092420crow2_col0\" class=\"data row2 col0\" >Extreme Gradient Boosting</td>\n",
       "                        <td id=\"T_a03d622e_3253_11eb_be35_9cb6d092420crow2_col1\" class=\"data row2 col1\" >0.2245</td>\n",
       "                        <td id=\"T_a03d622e_3253_11eb_be35_9cb6d092420crow2_col2\" class=\"data row2 col2\" >0.1065</td>\n",
       "                        <td id=\"T_a03d622e_3253_11eb_be35_9cb6d092420crow2_col3\" class=\"data row2 col3\" >0.3261</td>\n",
       "                        <td id=\"T_a03d622e_3253_11eb_be35_9cb6d092420crow2_col4\" class=\"data row2 col4\" >0.9456</td>\n",
       "                        <td id=\"T_a03d622e_3253_11eb_be35_9cb6d092420crow2_col5\" class=\"data row2 col5\" >0.0871</td>\n",
       "                        <td id=\"T_a03d622e_3253_11eb_be35_9cb6d092420crow2_col6\" class=\"data row2 col6\" >0.0746</td>\n",
       "                        <td id=\"T_a03d622e_3253_11eb_be35_9cb6d092420crow2_col7\" class=\"data row2 col7\" >0.6840</td>\n",
       "            </tr>\n",
       "            <tr>\n",
       "                        <th id=\"T_a03d622e_3253_11eb_be35_9cb6d092420clevel0_row3\" class=\"row_heading level0 row3\" >rf</th>\n",
       "                        <td id=\"T_a03d622e_3253_11eb_be35_9cb6d092420crow3_col0\" class=\"data row3 col0\" >Random Forest Regressor</td>\n",
       "                        <td id=\"T_a03d622e_3253_11eb_be35_9cb6d092420crow3_col1\" class=\"data row3 col1\" >0.2354</td>\n",
       "                        <td id=\"T_a03d622e_3253_11eb_be35_9cb6d092420crow3_col2\" class=\"data row3 col2\" >0.1214</td>\n",
       "                        <td id=\"T_a03d622e_3253_11eb_be35_9cb6d092420crow3_col3\" class=\"data row3 col3\" >0.3479</td>\n",
       "                        <td id=\"T_a03d622e_3253_11eb_be35_9cb6d092420crow3_col4\" class=\"data row3 col4\" >0.9381</td>\n",
       "                        <td id=\"T_a03d622e_3253_11eb_be35_9cb6d092420crow3_col5\" class=\"data row3 col5\" >0.0907</td>\n",
       "                        <td id=\"T_a03d622e_3253_11eb_be35_9cb6d092420crow3_col6\" class=\"data row3 col6\" >0.0785</td>\n",
       "                        <td id=\"T_a03d622e_3253_11eb_be35_9cb6d092420crow3_col7\" class=\"data row3 col7\" >1.1420</td>\n",
       "            </tr>\n",
       "            <tr>\n",
       "                        <th id=\"T_a03d622e_3253_11eb_be35_9cb6d092420clevel0_row4\" class=\"row_heading level0 row4\" >et</th>\n",
       "                        <td id=\"T_a03d622e_3253_11eb_be35_9cb6d092420crow4_col0\" class=\"data row4 col0\" >Extra Trees Regressor</td>\n",
       "                        <td id=\"T_a03d622e_3253_11eb_be35_9cb6d092420crow4_col1\" class=\"data row4 col1\" >0.2283</td>\n",
       "                        <td id=\"T_a03d622e_3253_11eb_be35_9cb6d092420crow4_col2\" class=\"data row4 col2\" >0.1222</td>\n",
       "                        <td id=\"T_a03d622e_3253_11eb_be35_9cb6d092420crow4_col3\" class=\"data row4 col3\" >0.3492</td>\n",
       "                        <td id=\"T_a03d622e_3253_11eb_be35_9cb6d092420crow4_col4\" class=\"data row4 col4\" >0.9377</td>\n",
       "                        <td id=\"T_a03d622e_3253_11eb_be35_9cb6d092420crow4_col5\" class=\"data row4 col5\" >0.0952</td>\n",
       "                        <td id=\"T_a03d622e_3253_11eb_be35_9cb6d092420crow4_col6\" class=\"data row4 col6\" >0.0785</td>\n",
       "                        <td id=\"T_a03d622e_3253_11eb_be35_9cb6d092420crow4_col7\" class=\"data row4 col7\" >1.2890</td>\n",
       "            </tr>\n",
       "            <tr>\n",
       "                        <th id=\"T_a03d622e_3253_11eb_be35_9cb6d092420clevel0_row5\" class=\"row_heading level0 row5\" >gbr</th>\n",
       "                        <td id=\"T_a03d622e_3253_11eb_be35_9cb6d092420crow5_col0\" class=\"data row5 col0\" >Gradient Boosting Regressor</td>\n",
       "                        <td id=\"T_a03d622e_3253_11eb_be35_9cb6d092420crow5_col1\" class=\"data row5 col1\" >0.3646</td>\n",
       "                        <td id=\"T_a03d622e_3253_11eb_be35_9cb6d092420crow5_col2\" class=\"data row5 col2\" >0.2304</td>\n",
       "                        <td id=\"T_a03d622e_3253_11eb_be35_9cb6d092420crow5_col3\" class=\"data row5 col3\" >0.4797</td>\n",
       "                        <td id=\"T_a03d622e_3253_11eb_be35_9cb6d092420crow5_col4\" class=\"data row5 col4\" >0.8824</td>\n",
       "                        <td id=\"T_a03d622e_3253_11eb_be35_9cb6d092420crow5_col5\" class=\"data row5 col5\" >0.1126</td>\n",
       "                        <td id=\"T_a03d622e_3253_11eb_be35_9cb6d092420crow5_col6\" class=\"data row5 col6\" >0.1122</td>\n",
       "                        <td id=\"T_a03d622e_3253_11eb_be35_9cb6d092420crow5_col7\" class=\"data row5 col7\" >0.2990</td>\n",
       "            </tr>\n",
       "            <tr>\n",
       "                        <th id=\"T_a03d622e_3253_11eb_be35_9cb6d092420clevel0_row6\" class=\"row_heading level0 row6\" >dt</th>\n",
       "                        <td id=\"T_a03d622e_3253_11eb_be35_9cb6d092420crow6_col0\" class=\"data row6 col0\" >Decision Tree Regressor</td>\n",
       "                        <td id=\"T_a03d622e_3253_11eb_be35_9cb6d092420crow6_col1\" class=\"data row6 col1\" >0.3204</td>\n",
       "                        <td id=\"T_a03d622e_3253_11eb_be35_9cb6d092420crow6_col2\" class=\"data row6 col2\" >0.2393</td>\n",
       "                        <td id=\"T_a03d622e_3253_11eb_be35_9cb6d092420crow6_col3\" class=\"data row6 col3\" >0.4887</td>\n",
       "                        <td id=\"T_a03d622e_3253_11eb_be35_9cb6d092420crow6_col4\" class=\"data row6 col4\" >0.8781</td>\n",
       "                        <td id=\"T_a03d622e_3253_11eb_be35_9cb6d092420crow6_col5\" class=\"data row6 col5\" >0.1251</td>\n",
       "                        <td id=\"T_a03d622e_3253_11eb_be35_9cb6d092420crow6_col6\" class=\"data row6 col6\" >0.1034</td>\n",
       "                        <td id=\"T_a03d622e_3253_11eb_be35_9cb6d092420crow6_col7\" class=\"data row6 col7\" >0.0250</td>\n",
       "            </tr>\n",
       "            <tr>\n",
       "                        <th id=\"T_a03d622e_3253_11eb_be35_9cb6d092420clevel0_row7\" class=\"row_heading level0 row7\" >lr</th>\n",
       "                        <td id=\"T_a03d622e_3253_11eb_be35_9cb6d092420crow7_col0\" class=\"data row7 col0\" >Linear Regression</td>\n",
       "                        <td id=\"T_a03d622e_3253_11eb_be35_9cb6d092420crow7_col1\" class=\"data row7 col1\" >0.4373</td>\n",
       "                        <td id=\"T_a03d622e_3253_11eb_be35_9cb6d092420crow7_col2\" class=\"data row7 col2\" >0.3432</td>\n",
       "                        <td id=\"T_a03d622e_3253_11eb_be35_9cb6d092420crow7_col3\" class=\"data row7 col3\" >0.5855</td>\n",
       "                        <td id=\"T_a03d622e_3253_11eb_be35_9cb6d092420crow7_col4\" class=\"data row7 col4\" >0.8247</td>\n",
       "                        <td id=\"T_a03d622e_3253_11eb_be35_9cb6d092420crow7_col5\" class=\"data row7 col5\" >0.1387</td>\n",
       "                        <td id=\"T_a03d622e_3253_11eb_be35_9cb6d092420crow7_col6\" class=\"data row7 col6\" >0.1354</td>\n",
       "                        <td id=\"T_a03d622e_3253_11eb_be35_9cb6d092420crow7_col7\" class=\"data row7 col7\" >0.1840</td>\n",
       "            </tr>\n",
       "            <tr>\n",
       "                        <th id=\"T_a03d622e_3253_11eb_be35_9cb6d092420clevel0_row8\" class=\"row_heading level0 row8\" >ridge</th>\n",
       "                        <td id=\"T_a03d622e_3253_11eb_be35_9cb6d092420crow8_col0\" class=\"data row8 col0\" >Ridge Regression</td>\n",
       "                        <td id=\"T_a03d622e_3253_11eb_be35_9cb6d092420crow8_col1\" class=\"data row8 col1\" >0.4375</td>\n",
       "                        <td id=\"T_a03d622e_3253_11eb_be35_9cb6d092420crow8_col2\" class=\"data row8 col2\" >0.3432</td>\n",
       "                        <td id=\"T_a03d622e_3253_11eb_be35_9cb6d092420crow8_col3\" class=\"data row8 col3\" >0.5856</td>\n",
       "                        <td id=\"T_a03d622e_3253_11eb_be35_9cb6d092420crow8_col4\" class=\"data row8 col4\" >0.8247</td>\n",
       "                        <td id=\"T_a03d622e_3253_11eb_be35_9cb6d092420crow8_col5\" class=\"data row8 col5\" >0.1387</td>\n",
       "                        <td id=\"T_a03d622e_3253_11eb_be35_9cb6d092420crow8_col6\" class=\"data row8 col6\" >0.1357</td>\n",
       "                        <td id=\"T_a03d622e_3253_11eb_be35_9cb6d092420crow8_col7\" class=\"data row8 col7\" >0.0170</td>\n",
       "            </tr>\n",
       "            <tr>\n",
       "                        <th id=\"T_a03d622e_3253_11eb_be35_9cb6d092420clevel0_row9\" class=\"row_heading level0 row9\" >br</th>\n",
       "                        <td id=\"T_a03d622e_3253_11eb_be35_9cb6d092420crow9_col0\" class=\"data row9 col0\" >Bayesian Ridge</td>\n",
       "                        <td id=\"T_a03d622e_3253_11eb_be35_9cb6d092420crow9_col1\" class=\"data row9 col1\" >0.4374</td>\n",
       "                        <td id=\"T_a03d622e_3253_11eb_be35_9cb6d092420crow9_col2\" class=\"data row9 col2\" >0.3432</td>\n",
       "                        <td id=\"T_a03d622e_3253_11eb_be35_9cb6d092420crow9_col3\" class=\"data row9 col3\" >0.5855</td>\n",
       "                        <td id=\"T_a03d622e_3253_11eb_be35_9cb6d092420crow9_col4\" class=\"data row9 col4\" >0.8247</td>\n",
       "                        <td id=\"T_a03d622e_3253_11eb_be35_9cb6d092420crow9_col5\" class=\"data row9 col5\" >0.1387</td>\n",
       "                        <td id=\"T_a03d622e_3253_11eb_be35_9cb6d092420crow9_col6\" class=\"data row9 col6\" >0.1356</td>\n",
       "                        <td id=\"T_a03d622e_3253_11eb_be35_9cb6d092420crow9_col7\" class=\"data row9 col7\" >0.0120</td>\n",
       "            </tr>\n",
       "            <tr>\n",
       "                        <th id=\"T_a03d622e_3253_11eb_be35_9cb6d092420clevel0_row10\" class=\"row_heading level0 row10\" >huber</th>\n",
       "                        <td id=\"T_a03d622e_3253_11eb_be35_9cb6d092420crow10_col0\" class=\"data row10 col0\" >Huber Regressor</td>\n",
       "                        <td id=\"T_a03d622e_3253_11eb_be35_9cb6d092420crow10_col1\" class=\"data row10 col1\" >0.4597</td>\n",
       "                        <td id=\"T_a03d622e_3253_11eb_be35_9cb6d092420crow10_col2\" class=\"data row10 col2\" >0.4132</td>\n",
       "                        <td id=\"T_a03d622e_3253_11eb_be35_9cb6d092420crow10_col3\" class=\"data row10 col3\" >0.6422</td>\n",
       "                        <td id=\"T_a03d622e_3253_11eb_be35_9cb6d092420crow10_col4\" class=\"data row10 col4\" >0.7889</td>\n",
       "                        <td id=\"T_a03d622e_3253_11eb_be35_9cb6d092420crow10_col5\" class=\"data row10 col5\" >0.1478</td>\n",
       "                        <td id=\"T_a03d622e_3253_11eb_be35_9cb6d092420crow10_col6\" class=\"data row10 col6\" >0.1437</td>\n",
       "                        <td id=\"T_a03d622e_3253_11eb_be35_9cb6d092420crow10_col7\" class=\"data row10 col7\" >0.2340</td>\n",
       "            </tr>\n",
       "            <tr>\n",
       "                        <th id=\"T_a03d622e_3253_11eb_be35_9cb6d092420clevel0_row11\" class=\"row_heading level0 row11\" >par</th>\n",
       "                        <td id=\"T_a03d622e_3253_11eb_be35_9cb6d092420crow11_col0\" class=\"data row11 col0\" >Passive Aggressive Regressor</td>\n",
       "                        <td id=\"T_a03d622e_3253_11eb_be35_9cb6d092420crow11_col1\" class=\"data row11 col1\" >0.5510</td>\n",
       "                        <td id=\"T_a03d622e_3253_11eb_be35_9cb6d092420crow11_col2\" class=\"data row11 col2\" >0.5322</td>\n",
       "                        <td id=\"T_a03d622e_3253_11eb_be35_9cb6d092420crow11_col3\" class=\"data row11 col3\" >0.7166</td>\n",
       "                        <td id=\"T_a03d622e_3253_11eb_be35_9cb6d092420crow11_col4\" class=\"data row11 col4\" >0.7258</td>\n",
       "                        <td id=\"T_a03d622e_3253_11eb_be35_9cb6d092420crow11_col5\" class=\"data row11 col5\" >0.1675</td>\n",
       "                        <td id=\"T_a03d622e_3253_11eb_be35_9cb6d092420crow11_col6\" class=\"data row11 col6\" >0.1764</td>\n",
       "                        <td id=\"T_a03d622e_3253_11eb_be35_9cb6d092420crow11_col7\" class=\"data row11 col7\" >0.0430</td>\n",
       "            </tr>\n",
       "            <tr>\n",
       "                        <th id=\"T_a03d622e_3253_11eb_be35_9cb6d092420clevel0_row12\" class=\"row_heading level0 row12\" >omp</th>\n",
       "                        <td id=\"T_a03d622e_3253_11eb_be35_9cb6d092420crow12_col0\" class=\"data row12 col0\" >Orthogonal Matching Pursuit</td>\n",
       "                        <td id=\"T_a03d622e_3253_11eb_be35_9cb6d092420crow12_col1\" class=\"data row12 col1\" >0.7013</td>\n",
       "                        <td id=\"T_a03d622e_3253_11eb_be35_9cb6d092420crow12_col2\" class=\"data row12 col2\" >0.8320</td>\n",
       "                        <td id=\"T_a03d622e_3253_11eb_be35_9cb6d092420crow12_col3\" class=\"data row12 col3\" >0.9117</td>\n",
       "                        <td id=\"T_a03d622e_3253_11eb_be35_9cb6d092420crow12_col4\" class=\"data row12 col4\" >0.5754</td>\n",
       "                        <td id=\"T_a03d622e_3253_11eb_be35_9cb6d092420crow12_col5\" class=\"data row12 col5\" >0.1960</td>\n",
       "                        <td id=\"T_a03d622e_3253_11eb_be35_9cb6d092420crow12_col6\" class=\"data row12 col6\" >0.2106</td>\n",
       "                        <td id=\"T_a03d622e_3253_11eb_be35_9cb6d092420crow12_col7\" class=\"data row12 col7\" >0.0170</td>\n",
       "            </tr>\n",
       "            <tr>\n",
       "                        <th id=\"T_a03d622e_3253_11eb_be35_9cb6d092420clevel0_row13\" class=\"row_heading level0 row13\" >ada</th>\n",
       "                        <td id=\"T_a03d622e_3253_11eb_be35_9cb6d092420crow13_col0\" class=\"data row13 col0\" >AdaBoost Regressor</td>\n",
       "                        <td id=\"T_a03d622e_3253_11eb_be35_9cb6d092420crow13_col1\" class=\"data row13 col1\" >0.9171</td>\n",
       "                        <td id=\"T_a03d622e_3253_11eb_be35_9cb6d092420crow13_col2\" class=\"data row13 col2\" >1.1145</td>\n",
       "                        <td id=\"T_a03d622e_3253_11eb_be35_9cb6d092420crow13_col3\" class=\"data row13 col3\" >1.0554</td>\n",
       "                        <td id=\"T_a03d622e_3253_11eb_be35_9cb6d092420crow13_col4\" class=\"data row13 col4\" >0.4318</td>\n",
       "                        <td id=\"T_a03d622e_3253_11eb_be35_9cb6d092420crow13_col5\" class=\"data row13 col5\" >0.2198</td>\n",
       "                        <td id=\"T_a03d622e_3253_11eb_be35_9cb6d092420crow13_col6\" class=\"data row13 col6\" >0.2565</td>\n",
       "                        <td id=\"T_a03d622e_3253_11eb_be35_9cb6d092420crow13_col7\" class=\"data row13 col7\" >0.2890</td>\n",
       "            </tr>\n",
       "            <tr>\n",
       "                        <th id=\"T_a03d622e_3253_11eb_be35_9cb6d092420clevel0_row14\" class=\"row_heading level0 row14\" >knn</th>\n",
       "                        <td id=\"T_a03d622e_3253_11eb_be35_9cb6d092420crow14_col0\" class=\"data row14 col0\" >K Neighbors Regressor</td>\n",
       "                        <td id=\"T_a03d622e_3253_11eb_be35_9cb6d092420crow14_col1\" class=\"data row14 col1\" >0.9270</td>\n",
       "                        <td id=\"T_a03d622e_3253_11eb_be35_9cb6d092420crow14_col2\" class=\"data row14 col2\" >1.4880</td>\n",
       "                        <td id=\"T_a03d622e_3253_11eb_be35_9cb6d092420crow14_col3\" class=\"data row14 col3\" >1.2193</td>\n",
       "                        <td id=\"T_a03d622e_3253_11eb_be35_9cb6d092420crow14_col4\" class=\"data row14 col4\" >0.2415</td>\n",
       "                        <td id=\"T_a03d622e_3253_11eb_be35_9cb6d092420crow14_col5\" class=\"data row14 col5\" >0.2739</td>\n",
       "                        <td id=\"T_a03d622e_3253_11eb_be35_9cb6d092420crow14_col6\" class=\"data row14 col6\" >0.3122</td>\n",
       "                        <td id=\"T_a03d622e_3253_11eb_be35_9cb6d092420crow14_col7\" class=\"data row14 col7\" >0.0500</td>\n",
       "            </tr>\n",
       "            <tr>\n",
       "                        <th id=\"T_a03d622e_3253_11eb_be35_9cb6d092420clevel0_row15\" class=\"row_heading level0 row15\" >en</th>\n",
       "                        <td id=\"T_a03d622e_3253_11eb_be35_9cb6d092420crow15_col0\" class=\"data row15 col0\" >Elastic Net</td>\n",
       "                        <td id=\"T_a03d622e_3253_11eb_be35_9cb6d092420crow15_col1\" class=\"data row15 col1\" >0.9650</td>\n",
       "                        <td id=\"T_a03d622e_3253_11eb_be35_9cb6d092420crow15_col2\" class=\"data row15 col2\" >1.5174</td>\n",
       "                        <td id=\"T_a03d622e_3253_11eb_be35_9cb6d092420crow15_col3\" class=\"data row15 col3\" >1.2314</td>\n",
       "                        <td id=\"T_a03d622e_3253_11eb_be35_9cb6d092420crow15_col4\" class=\"data row15 col4\" >0.2267</td>\n",
       "                        <td id=\"T_a03d622e_3253_11eb_be35_9cb6d092420crow15_col5\" class=\"data row15 col5\" >0.2808</td>\n",
       "                        <td id=\"T_a03d622e_3253_11eb_be35_9cb6d092420crow15_col6\" class=\"data row15 col6\" >0.3412</td>\n",
       "                        <td id=\"T_a03d622e_3253_11eb_be35_9cb6d092420crow15_col7\" class=\"data row15 col7\" >0.0100</td>\n",
       "            </tr>\n",
       "            <tr>\n",
       "                        <th id=\"T_a03d622e_3253_11eb_be35_9cb6d092420clevel0_row16\" class=\"row_heading level0 row16\" >lasso</th>\n",
       "                        <td id=\"T_a03d622e_3253_11eb_be35_9cb6d092420crow16_col0\" class=\"data row16 col0\" >Lasso Regression</td>\n",
       "                        <td id=\"T_a03d622e_3253_11eb_be35_9cb6d092420crow16_col1\" class=\"data row16 col1\" >0.9711</td>\n",
       "                        <td id=\"T_a03d622e_3253_11eb_be35_9cb6d092420crow16_col2\" class=\"data row16 col2\" >1.5291</td>\n",
       "                        <td id=\"T_a03d622e_3253_11eb_be35_9cb6d092420crow16_col3\" class=\"data row16 col3\" >1.2362</td>\n",
       "                        <td id=\"T_a03d622e_3253_11eb_be35_9cb6d092420crow16_col4\" class=\"data row16 col4\" >0.2208</td>\n",
       "                        <td id=\"T_a03d622e_3253_11eb_be35_9cb6d092420crow16_col5\" class=\"data row16 col5\" >0.2823</td>\n",
       "                        <td id=\"T_a03d622e_3253_11eb_be35_9cb6d092420crow16_col6\" class=\"data row16 col6\" >0.3449</td>\n",
       "                        <td id=\"T_a03d622e_3253_11eb_be35_9cb6d092420crow16_col7\" class=\"data row16 col7\" >0.0090</td>\n",
       "            </tr>\n",
       "            <tr>\n",
       "                        <th id=\"T_a03d622e_3253_11eb_be35_9cb6d092420clevel0_row17\" class=\"row_heading level0 row17\" >llar</th>\n",
       "                        <td id=\"T_a03d622e_3253_11eb_be35_9cb6d092420crow17_col0\" class=\"data row17 col0\" >Lasso Least Angle Regression</td>\n",
       "                        <td id=\"T_a03d622e_3253_11eb_be35_9cb6d092420crow17_col1\" class=\"data row17 col1\" >1.1379</td>\n",
       "                        <td id=\"T_a03d622e_3253_11eb_be35_9cb6d092420crow17_col2\" class=\"data row17 col2\" >1.9633</td>\n",
       "                        <td id=\"T_a03d622e_3253_11eb_be35_9cb6d092420crow17_col3\" class=\"data row17 col3\" >1.4009</td>\n",
       "                        <td id=\"T_a03d622e_3253_11eb_be35_9cb6d092420crow17_col4\" class=\"data row17 col4\" >-0.0007</td>\n",
       "                        <td id=\"T_a03d622e_3253_11eb_be35_9cb6d092420crow17_col5\" class=\"data row17 col5\" >0.3123</td>\n",
       "                        <td id=\"T_a03d622e_3253_11eb_be35_9cb6d092420crow17_col6\" class=\"data row17 col6\" >0.4015</td>\n",
       "                        <td id=\"T_a03d622e_3253_11eb_be35_9cb6d092420crow17_col7\" class=\"data row17 col7\" >0.0080</td>\n",
       "            </tr>\n",
       "            <tr>\n",
       "                        <th id=\"T_a03d622e_3253_11eb_be35_9cb6d092420clevel0_row18\" class=\"row_heading level0 row18\" >lar</th>\n",
       "                        <td id=\"T_a03d622e_3253_11eb_be35_9cb6d092420crow18_col0\" class=\"data row18 col0\" >Least Angle Regression</td>\n",
       "                        <td id=\"T_a03d622e_3253_11eb_be35_9cb6d092420crow18_col1\" class=\"data row18 col1\" >4245.5833</td>\n",
       "                        <td id=\"T_a03d622e_3253_11eb_be35_9cb6d092420crow18_col2\" class=\"data row18 col2\" >416401738.6108</td>\n",
       "                        <td id=\"T_a03d622e_3253_11eb_be35_9cb6d092420crow18_col3\" class=\"data row18 col3\" >6455.4682</td>\n",
       "                        <td id=\"T_a03d622e_3253_11eb_be35_9cb6d092420crow18_col4\" class=\"data row18 col4\" >-203872308.7183</td>\n",
       "                        <td id=\"T_a03d622e_3253_11eb_be35_9cb6d092420crow18_col5\" class=\"data row18 col5\" >1.1242</td>\n",
       "                        <td id=\"T_a03d622e_3253_11eb_be35_9cb6d092420crow18_col6\" class=\"data row18 col6\" >1176.4605</td>\n",
       "                        <td id=\"T_a03d622e_3253_11eb_be35_9cb6d092420crow18_col7\" class=\"data row18 col7\" >0.0210</td>\n",
       "            </tr>\n",
       "    </tbody></table>"
      ],
      "text/plain": [
       "<pandas.io.formats.style.Styler object at 0x000001C2316609A0>"
      ]
     },
     "metadata": {},
     "output_type": "display_data"
    },
    {
     "data": {
      "text/plain": [
       "<catboost.core.CatBoostRegressor object at 0x000001C23141F1C0>"
      ]
     },
     "execution_count": 1351,
     "metadata": {},
     "output_type": "execute_result"
    }
   ],
   "source": [
    "#Comparer 25models de base\n",
    "compare_models()"
   ]
  },
  {
   "cell_type": "code",
   "execution_count": 1352,
   "metadata": {},
   "outputs": [
    {
     "data": {
      "text/html": [
       "<style  type=\"text/css\" >\n",
       "#T_b898935a_3253_11eb_97ae_9cb6d092420crow10_col0,#T_b898935a_3253_11eb_97ae_9cb6d092420crow10_col1,#T_b898935a_3253_11eb_97ae_9cb6d092420crow10_col2,#T_b898935a_3253_11eb_97ae_9cb6d092420crow10_col3,#T_b898935a_3253_11eb_97ae_9cb6d092420crow10_col4,#T_b898935a_3253_11eb_97ae_9cb6d092420crow10_col5{\n",
       "            background:  yellow;\n",
       "        }</style><table id=\"T_b898935a_3253_11eb_97ae_9cb6d092420c\" ><thead>    <tr>        <th class=\"blank level0\" ></th>        <th class=\"col_heading level0 col0\" >MAE</th>        <th class=\"col_heading level0 col1\" >MSE</th>        <th class=\"col_heading level0 col2\" >RMSE</th>        <th class=\"col_heading level0 col3\" >R2</th>        <th class=\"col_heading level0 col4\" >RMSLE</th>        <th class=\"col_heading level0 col5\" >MAPE</th>    </tr></thead><tbody>\n",
       "                <tr>\n",
       "                        <th id=\"T_b898935a_3253_11eb_97ae_9cb6d092420clevel0_row0\" class=\"row_heading level0 row0\" >0</th>\n",
       "                        <td id=\"T_b898935a_3253_11eb_97ae_9cb6d092420crow0_col0\" class=\"data row0 col0\" >0.2044</td>\n",
       "                        <td id=\"T_b898935a_3253_11eb_97ae_9cb6d092420crow0_col1\" class=\"data row0 col1\" >0.0888</td>\n",
       "                        <td id=\"T_b898935a_3253_11eb_97ae_9cb6d092420crow0_col2\" class=\"data row0 col2\" >0.2979</td>\n",
       "                        <td id=\"T_b898935a_3253_11eb_97ae_9cb6d092420crow0_col3\" class=\"data row0 col3\" >0.9576</td>\n",
       "                        <td id=\"T_b898935a_3253_11eb_97ae_9cb6d092420crow0_col4\" class=\"data row0 col4\" >0.0853</td>\n",
       "                        <td id=\"T_b898935a_3253_11eb_97ae_9cb6d092420crow0_col5\" class=\"data row0 col5\" >0.0734</td>\n",
       "            </tr>\n",
       "            <tr>\n",
       "                        <th id=\"T_b898935a_3253_11eb_97ae_9cb6d092420clevel0_row1\" class=\"row_heading level0 row1\" >1</th>\n",
       "                        <td id=\"T_b898935a_3253_11eb_97ae_9cb6d092420crow1_col0\" class=\"data row1 col0\" >0.1895</td>\n",
       "                        <td id=\"T_b898935a_3253_11eb_97ae_9cb6d092420crow1_col1\" class=\"data row1 col1\" >0.0786</td>\n",
       "                        <td id=\"T_b898935a_3253_11eb_97ae_9cb6d092420crow1_col2\" class=\"data row1 col2\" >0.2804</td>\n",
       "                        <td id=\"T_b898935a_3253_11eb_97ae_9cb6d092420crow1_col3\" class=\"data row1 col3\" >0.9608</td>\n",
       "                        <td id=\"T_b898935a_3253_11eb_97ae_9cb6d092420crow1_col4\" class=\"data row1 col4\" >0.0767</td>\n",
       "                        <td id=\"T_b898935a_3253_11eb_97ae_9cb6d092420crow1_col5\" class=\"data row1 col5\" >0.0641</td>\n",
       "            </tr>\n",
       "            <tr>\n",
       "                        <th id=\"T_b898935a_3253_11eb_97ae_9cb6d092420clevel0_row2\" class=\"row_heading level0 row2\" >2</th>\n",
       "                        <td id=\"T_b898935a_3253_11eb_97ae_9cb6d092420crow2_col0\" class=\"data row2 col0\" >0.1975</td>\n",
       "                        <td id=\"T_b898935a_3253_11eb_97ae_9cb6d092420crow2_col1\" class=\"data row2 col1\" >0.0885</td>\n",
       "                        <td id=\"T_b898935a_3253_11eb_97ae_9cb6d092420crow2_col2\" class=\"data row2 col2\" >0.2974</td>\n",
       "                        <td id=\"T_b898935a_3253_11eb_97ae_9cb6d092420crow2_col3\" class=\"data row2 col3\" >0.9537</td>\n",
       "                        <td id=\"T_b898935a_3253_11eb_97ae_9cb6d092420crow2_col4\" class=\"data row2 col4\" >0.0805</td>\n",
       "                        <td id=\"T_b898935a_3253_11eb_97ae_9cb6d092420crow2_col5\" class=\"data row2 col5\" >0.0678</td>\n",
       "            </tr>\n",
       "            <tr>\n",
       "                        <th id=\"T_b898935a_3253_11eb_97ae_9cb6d092420clevel0_row3\" class=\"row_heading level0 row3\" >3</th>\n",
       "                        <td id=\"T_b898935a_3253_11eb_97ae_9cb6d092420crow3_col0\" class=\"data row3 col0\" >0.1805</td>\n",
       "                        <td id=\"T_b898935a_3253_11eb_97ae_9cb6d092420crow3_col1\" class=\"data row3 col1\" >0.0675</td>\n",
       "                        <td id=\"T_b898935a_3253_11eb_97ae_9cb6d092420crow3_col2\" class=\"data row3 col2\" >0.2598</td>\n",
       "                        <td id=\"T_b898935a_3253_11eb_97ae_9cb6d092420crow3_col3\" class=\"data row3 col3\" >0.9641</td>\n",
       "                        <td id=\"T_b898935a_3253_11eb_97ae_9cb6d092420crow3_col4\" class=\"data row3 col4\" >0.0692</td>\n",
       "                        <td id=\"T_b898935a_3253_11eb_97ae_9cb6d092420crow3_col5\" class=\"data row3 col5\" >0.0590</td>\n",
       "            </tr>\n",
       "            <tr>\n",
       "                        <th id=\"T_b898935a_3253_11eb_97ae_9cb6d092420clevel0_row4\" class=\"row_heading level0 row4\" >4</th>\n",
       "                        <td id=\"T_b898935a_3253_11eb_97ae_9cb6d092420crow4_col0\" class=\"data row4 col0\" >0.1972</td>\n",
       "                        <td id=\"T_b898935a_3253_11eb_97ae_9cb6d092420crow4_col1\" class=\"data row4 col1\" >0.0888</td>\n",
       "                        <td id=\"T_b898935a_3253_11eb_97ae_9cb6d092420crow4_col2\" class=\"data row4 col2\" >0.2981</td>\n",
       "                        <td id=\"T_b898935a_3253_11eb_97ae_9cb6d092420crow4_col3\" class=\"data row4 col3\" >0.9538</td>\n",
       "                        <td id=\"T_b898935a_3253_11eb_97ae_9cb6d092420crow4_col4\" class=\"data row4 col4\" >0.0822</td>\n",
       "                        <td id=\"T_b898935a_3253_11eb_97ae_9cb6d092420crow4_col5\" class=\"data row4 col5\" >0.0705</td>\n",
       "            </tr>\n",
       "            <tr>\n",
       "                        <th id=\"T_b898935a_3253_11eb_97ae_9cb6d092420clevel0_row5\" class=\"row_heading level0 row5\" >5</th>\n",
       "                        <td id=\"T_b898935a_3253_11eb_97ae_9cb6d092420crow5_col0\" class=\"data row5 col0\" >0.1962</td>\n",
       "                        <td id=\"T_b898935a_3253_11eb_97ae_9cb6d092420crow5_col1\" class=\"data row5 col1\" >0.0852</td>\n",
       "                        <td id=\"T_b898935a_3253_11eb_97ae_9cb6d092420crow5_col2\" class=\"data row5 col2\" >0.2920</td>\n",
       "                        <td id=\"T_b898935a_3253_11eb_97ae_9cb6d092420crow5_col3\" class=\"data row5 col3\" >0.9583</td>\n",
       "                        <td id=\"T_b898935a_3253_11eb_97ae_9cb6d092420crow5_col4\" class=\"data row5 col4\" >0.0813</td>\n",
       "                        <td id=\"T_b898935a_3253_11eb_97ae_9cb6d092420crow5_col5\" class=\"data row5 col5\" >0.0693</td>\n",
       "            </tr>\n",
       "            <tr>\n",
       "                        <th id=\"T_b898935a_3253_11eb_97ae_9cb6d092420clevel0_row6\" class=\"row_heading level0 row6\" >6</th>\n",
       "                        <td id=\"T_b898935a_3253_11eb_97ae_9cb6d092420crow6_col0\" class=\"data row6 col0\" >0.2037</td>\n",
       "                        <td id=\"T_b898935a_3253_11eb_97ae_9cb6d092420crow6_col1\" class=\"data row6 col1\" >0.0880</td>\n",
       "                        <td id=\"T_b898935a_3253_11eb_97ae_9cb6d092420crow6_col2\" class=\"data row6 col2\" >0.2966</td>\n",
       "                        <td id=\"T_b898935a_3253_11eb_97ae_9cb6d092420crow6_col3\" class=\"data row6 col3\" >0.9569</td>\n",
       "                        <td id=\"T_b898935a_3253_11eb_97ae_9cb6d092420crow6_col4\" class=\"data row6 col4\" >0.0862</td>\n",
       "                        <td id=\"T_b898935a_3253_11eb_97ae_9cb6d092420crow6_col5\" class=\"data row6 col5\" >0.0735</td>\n",
       "            </tr>\n",
       "            <tr>\n",
       "                        <th id=\"T_b898935a_3253_11eb_97ae_9cb6d092420clevel0_row7\" class=\"row_heading level0 row7\" >7</th>\n",
       "                        <td id=\"T_b898935a_3253_11eb_97ae_9cb6d092420crow7_col0\" class=\"data row7 col0\" >0.1921</td>\n",
       "                        <td id=\"T_b898935a_3253_11eb_97ae_9cb6d092420crow7_col1\" class=\"data row7 col1\" >0.0897</td>\n",
       "                        <td id=\"T_b898935a_3253_11eb_97ae_9cb6d092420crow7_col2\" class=\"data row7 col2\" >0.2994</td>\n",
       "                        <td id=\"T_b898935a_3253_11eb_97ae_9cb6d092420crow7_col3\" class=\"data row7 col3\" >0.9546</td>\n",
       "                        <td id=\"T_b898935a_3253_11eb_97ae_9cb6d092420crow7_col4\" class=\"data row7 col4\" >0.0772</td>\n",
       "                        <td id=\"T_b898935a_3253_11eb_97ae_9cb6d092420crow7_col5\" class=\"data row7 col5\" >0.0605</td>\n",
       "            </tr>\n",
       "            <tr>\n",
       "                        <th id=\"T_b898935a_3253_11eb_97ae_9cb6d092420clevel0_row8\" class=\"row_heading level0 row8\" >8</th>\n",
       "                        <td id=\"T_b898935a_3253_11eb_97ae_9cb6d092420crow8_col0\" class=\"data row8 col0\" >0.2021</td>\n",
       "                        <td id=\"T_b898935a_3253_11eb_97ae_9cb6d092420crow8_col1\" class=\"data row8 col1\" >0.0888</td>\n",
       "                        <td id=\"T_b898935a_3253_11eb_97ae_9cb6d092420crow8_col2\" class=\"data row8 col2\" >0.2980</td>\n",
       "                        <td id=\"T_b898935a_3253_11eb_97ae_9cb6d092420crow8_col3\" class=\"data row8 col3\" >0.9515</td>\n",
       "                        <td id=\"T_b898935a_3253_11eb_97ae_9cb6d092420crow8_col4\" class=\"data row8 col4\" >0.0772</td>\n",
       "                        <td id=\"T_b898935a_3253_11eb_97ae_9cb6d092420crow8_col5\" class=\"data row8 col5\" >0.0630</td>\n",
       "            </tr>\n",
       "            <tr>\n",
       "                        <th id=\"T_b898935a_3253_11eb_97ae_9cb6d092420clevel0_row9\" class=\"row_heading level0 row9\" >9</th>\n",
       "                        <td id=\"T_b898935a_3253_11eb_97ae_9cb6d092420crow9_col0\" class=\"data row9 col0\" >0.1989</td>\n",
       "                        <td id=\"T_b898935a_3253_11eb_97ae_9cb6d092420crow9_col1\" class=\"data row9 col1\" >0.0941</td>\n",
       "                        <td id=\"T_b898935a_3253_11eb_97ae_9cb6d092420crow9_col2\" class=\"data row9 col2\" >0.3068</td>\n",
       "                        <td id=\"T_b898935a_3253_11eb_97ae_9cb6d092420crow9_col3\" class=\"data row9 col3\" >0.9506</td>\n",
       "                        <td id=\"T_b898935a_3253_11eb_97ae_9cb6d092420crow9_col4\" class=\"data row9 col4\" >0.0835</td>\n",
       "                        <td id=\"T_b898935a_3253_11eb_97ae_9cb6d092420crow9_col5\" class=\"data row9 col5\" >0.0698</td>\n",
       "            </tr>\n",
       "            <tr>\n",
       "                        <th id=\"T_b898935a_3253_11eb_97ae_9cb6d092420clevel0_row10\" class=\"row_heading level0 row10\" >Mean</th>\n",
       "                        <td id=\"T_b898935a_3253_11eb_97ae_9cb6d092420crow10_col0\" class=\"data row10 col0\" >0.1962</td>\n",
       "                        <td id=\"T_b898935a_3253_11eb_97ae_9cb6d092420crow10_col1\" class=\"data row10 col1\" >0.0858</td>\n",
       "                        <td id=\"T_b898935a_3253_11eb_97ae_9cb6d092420crow10_col2\" class=\"data row10 col2\" >0.2926</td>\n",
       "                        <td id=\"T_b898935a_3253_11eb_97ae_9cb6d092420crow10_col3\" class=\"data row10 col3\" >0.9562</td>\n",
       "                        <td id=\"T_b898935a_3253_11eb_97ae_9cb6d092420crow10_col4\" class=\"data row10 col4\" >0.0799</td>\n",
       "                        <td id=\"T_b898935a_3253_11eb_97ae_9cb6d092420crow10_col5\" class=\"data row10 col5\" >0.0671</td>\n",
       "            </tr>\n",
       "            <tr>\n",
       "                        <th id=\"T_b898935a_3253_11eb_97ae_9cb6d092420clevel0_row11\" class=\"row_heading level0 row11\" >SD</th>\n",
       "                        <td id=\"T_b898935a_3253_11eb_97ae_9cb6d092420crow11_col0\" class=\"data row11 col0\" >0.0069</td>\n",
       "                        <td id=\"T_b898935a_3253_11eb_97ae_9cb6d092420crow11_col1\" class=\"data row11 col1\" >0.0071</td>\n",
       "                        <td id=\"T_b898935a_3253_11eb_97ae_9cb6d092420crow11_col2\" class=\"data row11 col2\" >0.0126</td>\n",
       "                        <td id=\"T_b898935a_3253_11eb_97ae_9cb6d092420crow11_col3\" class=\"data row11 col3\" >0.0040</td>\n",
       "                        <td id=\"T_b898935a_3253_11eb_97ae_9cb6d092420crow11_col4\" class=\"data row11 col4\" >0.0048</td>\n",
       "                        <td id=\"T_b898935a_3253_11eb_97ae_9cb6d092420crow11_col5\" class=\"data row11 col5\" >0.0049</td>\n",
       "            </tr>\n",
       "    </tbody></table>"
      ],
      "text/plain": [
       "<pandas.io.formats.style.Styler object at 0x000001C21B3B4580>"
      ]
     },
     "metadata": {},
     "output_type": "display_data"
    }
   ],
   "source": [
    "#Selection du meilleur modèle et fine tuning automatique \n",
    "catboost_reg = create_model(\"catboost\")"
   ]
  },
  {
   "cell_type": "code",
   "execution_count": 1353,
   "metadata": {},
   "outputs": [
    {
     "data": {
      "text/html": [
       "<div>\n",
       "<style scoped>\n",
       "    .dataframe tbody tr th:only-of-type {\n",
       "        vertical-align: middle;\n",
       "    }\n",
       "\n",
       "    .dataframe tbody tr th {\n",
       "        vertical-align: top;\n",
       "    }\n",
       "\n",
       "    .dataframe thead th {\n",
       "        text-align: right;\n",
       "    }\n",
       "</style>\n",
       "<table border=\"1\" class=\"dataframe\">\n",
       "  <thead>\n",
       "    <tr style=\"text-align: right;\">\n",
       "      <th></th>\n",
       "      <th>Parameters</th>\n",
       "    </tr>\n",
       "  </thead>\n",
       "  <tbody>\n",
       "    <tr>\n",
       "      <th>nan_mode</th>\n",
       "      <td>Min</td>\n",
       "    </tr>\n",
       "    <tr>\n",
       "      <th>eval_metric</th>\n",
       "      <td>RMSE</td>\n",
       "    </tr>\n",
       "    <tr>\n",
       "      <th>iterations</th>\n",
       "      <td>1000</td>\n",
       "    </tr>\n",
       "    <tr>\n",
       "      <th>sampling_frequency</th>\n",
       "      <td>PerTree</td>\n",
       "    </tr>\n",
       "    <tr>\n",
       "      <th>leaf_estimation_method</th>\n",
       "      <td>Newton</td>\n",
       "    </tr>\n",
       "    <tr>\n",
       "      <th>grow_policy</th>\n",
       "      <td>SymmetricTree</td>\n",
       "    </tr>\n",
       "    <tr>\n",
       "      <th>penalties_coefficient</th>\n",
       "      <td>1</td>\n",
       "    </tr>\n",
       "    <tr>\n",
       "      <th>boosting_type</th>\n",
       "      <td>Plain</td>\n",
       "    </tr>\n",
       "    <tr>\n",
       "      <th>model_shrink_mode</th>\n",
       "      <td>Constant</td>\n",
       "    </tr>\n",
       "    <tr>\n",
       "      <th>feature_border_type</th>\n",
       "      <td>GreedyLogSum</td>\n",
       "    </tr>\n",
       "    <tr>\n",
       "      <th>bayesian_matrix_reg</th>\n",
       "      <td>0.10000000149011612</td>\n",
       "    </tr>\n",
       "    <tr>\n",
       "      <th>l2_leaf_reg</th>\n",
       "      <td>3</td>\n",
       "    </tr>\n",
       "    <tr>\n",
       "      <th>random_strength</th>\n",
       "      <td>1</td>\n",
       "    </tr>\n",
       "    <tr>\n",
       "      <th>rsm</th>\n",
       "      <td>1</td>\n",
       "    </tr>\n",
       "    <tr>\n",
       "      <th>boost_from_average</th>\n",
       "      <td>True</td>\n",
       "    </tr>\n",
       "    <tr>\n",
       "      <th>model_size_reg</th>\n",
       "      <td>0.5</td>\n",
       "    </tr>\n",
       "    <tr>\n",
       "      <th>subsample</th>\n",
       "      <td>0.800000011920929</td>\n",
       "    </tr>\n",
       "    <tr>\n",
       "      <th>use_best_model</th>\n",
       "      <td>False</td>\n",
       "    </tr>\n",
       "    <tr>\n",
       "      <th>random_seed</th>\n",
       "      <td>55</td>\n",
       "    </tr>\n",
       "    <tr>\n",
       "      <th>depth</th>\n",
       "      <td>6</td>\n",
       "    </tr>\n",
       "    <tr>\n",
       "      <th>posterior_sampling</th>\n",
       "      <td>False</td>\n",
       "    </tr>\n",
       "    <tr>\n",
       "      <th>border_count</th>\n",
       "      <td>254</td>\n",
       "    </tr>\n",
       "    <tr>\n",
       "      <th>classes_count</th>\n",
       "      <td>0</td>\n",
       "    </tr>\n",
       "    <tr>\n",
       "      <th>auto_class_weights</th>\n",
       "      <td>None</td>\n",
       "    </tr>\n",
       "    <tr>\n",
       "      <th>sparse_features_conflict_fraction</th>\n",
       "      <td>0</td>\n",
       "    </tr>\n",
       "    <tr>\n",
       "      <th>leaf_estimation_backtracking</th>\n",
       "      <td>AnyImprovement</td>\n",
       "    </tr>\n",
       "    <tr>\n",
       "      <th>best_model_min_trees</th>\n",
       "      <td>1</td>\n",
       "    </tr>\n",
       "    <tr>\n",
       "      <th>model_shrink_rate</th>\n",
       "      <td>0</td>\n",
       "    </tr>\n",
       "    <tr>\n",
       "      <th>min_data_in_leaf</th>\n",
       "      <td>1</td>\n",
       "    </tr>\n",
       "    <tr>\n",
       "      <th>loss_function</th>\n",
       "      <td>RMSE</td>\n",
       "    </tr>\n",
       "    <tr>\n",
       "      <th>learning_rate</th>\n",
       "      <td>0.05588899925351143</td>\n",
       "    </tr>\n",
       "    <tr>\n",
       "      <th>score_function</th>\n",
       "      <td>Cosine</td>\n",
       "    </tr>\n",
       "    <tr>\n",
       "      <th>task_type</th>\n",
       "      <td>CPU</td>\n",
       "    </tr>\n",
       "    <tr>\n",
       "      <th>leaf_estimation_iterations</th>\n",
       "      <td>1</td>\n",
       "    </tr>\n",
       "    <tr>\n",
       "      <th>bootstrap_type</th>\n",
       "      <td>MVS</td>\n",
       "    </tr>\n",
       "    <tr>\n",
       "      <th>max_leaves</th>\n",
       "      <td>64</td>\n",
       "    </tr>\n",
       "  </tbody>\n",
       "</table>\n",
       "</div>"
      ],
      "text/plain": [
       "                                            Parameters\n",
       "nan_mode                                           Min\n",
       "eval_metric                                       RMSE\n",
       "iterations                                        1000\n",
       "sampling_frequency                             PerTree\n",
       "leaf_estimation_method                          Newton\n",
       "grow_policy                              SymmetricTree\n",
       "penalties_coefficient                                1\n",
       "boosting_type                                    Plain\n",
       "model_shrink_mode                             Constant\n",
       "feature_border_type                       GreedyLogSum\n",
       "bayesian_matrix_reg                0.10000000149011612\n",
       "l2_leaf_reg                                          3\n",
       "random_strength                                      1\n",
       "rsm                                                  1\n",
       "boost_from_average                                True\n",
       "model_size_reg                                     0.5\n",
       "subsample                            0.800000011920929\n",
       "use_best_model                                   False\n",
       "random_seed                                         55\n",
       "depth                                                6\n",
       "posterior_sampling                               False\n",
       "border_count                                       254\n",
       "classes_count                                        0\n",
       "auto_class_weights                                None\n",
       "sparse_features_conflict_fraction                    0\n",
       "leaf_estimation_backtracking            AnyImprovement\n",
       "best_model_min_trees                                 1\n",
       "model_shrink_rate                                    0\n",
       "min_data_in_leaf                                     1\n",
       "loss_function                                     RMSE\n",
       "learning_rate                      0.05588899925351143\n",
       "score_function                                  Cosine\n",
       "task_type                                          CPU\n",
       "leaf_estimation_iterations                           1\n",
       "bootstrap_type                                     MVS\n",
       "max_leaves                                          64"
      ]
     },
     "metadata": {},
     "output_type": "display_data"
    }
   ],
   "source": [
    "#Paramètres utilisé\n",
    "evaluate_model(catboost_reg)"
   ]
  },
  {
   "cell_type": "markdown",
   "metadata": {},
   "source": [
    "On retient donc CatBoost Regressor ici (je ne connaissait pas ce modèle). "
   ]
  }
 ],
 "metadata": {
  "kernelspec": {
   "display_name": "Python 3",
   "language": "python",
   "name": "python3"
  },
  "language_info": {
   "codemirror_mode": {
    "name": "ipython",
    "version": 3
   },
   "file_extension": ".py",
   "mimetype": "text/x-python",
   "name": "python",
   "nbconvert_exporter": "python",
   "pygments_lexer": "ipython3",
   "version": "3.8.5"
  },
  "toc": {
   "colors": {
    "hover_highlight": "#DAA520",
    "running_highlight": "#FF0000",
    "selected_highlight": "#FFD700"
   },
   "moveMenuLeft": true,
   "nav_menu": {
    "height": "30px",
    "width": "252px"
   },
   "navigate_menu": true,
   "number_sections": true,
   "sideBar": true,
   "threshold": 4,
   "toc_cell": false,
   "toc_section_display": "block",
   "toc_window_display": false,
   "widenNotebook": false
  }
 },
 "nbformat": 4,
 "nbformat_minor": 2
}
